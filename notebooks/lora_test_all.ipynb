{
 "cells": [
  {
   "cell_type": "code",
   "execution_count": 1,
   "id": "89901f46",
   "metadata": {},
   "outputs": [
    {
     "name": "stderr",
     "output_type": "stream",
     "text": [
      "Note: Environment variable`HF_TOKEN` is set and is the current active token independently from the token you've just configured.\n"
     ]
    }
   ],
   "source": [
    "from huggingface_hub import login\n",
    "from pathlib import Path\n",
    "import sys\n",
    "# Add project root to Python path to enable imports from the package\n",
    "sys.path.append(str(Path.cwd().parent))\n",
    "from safe_llm_finetune.datasets.code_ultra_feedback import CodeUltraFeedback\n",
    "\n",
    "from safe_llm_finetune.fine_tuning.methods.lora import LoRAConfig, LoRAFineTuning\n",
    "\n",
    "from safe_llm_finetune.fine_tuning.models.gemma_3_1B_it_adapter import GemmaAdapter\n",
    "from safe_llm_finetune.fine_tuning.base import TrainingConfig, CheckpointConfig\n",
    "\n",
    "from safe_llm_finetune.evaluation.airbench import AirBench\n",
    "from safe_llm_finetune.evaluation.multitaskbench import MultiTaskBench\n",
    "from safe_llm_finetune.evaluation.codalbench import CodalBench\n",
    "import os\n",
    "\n",
    "\n",
    "\n",
    "HF_TOKEN = os.getenv(\"HF_TOKEN\")\n",
    "login(token=HF_TOKEN)\n"
   ]
  },
  {
   "cell_type": "code",
   "execution_count": null,
   "id": "2bc8f6b1",
   "metadata": {},
   "outputs": [],
   "source": [
    "code_ultra_feedback = CodeUltraFeedback(sample_size=1000)\n",
    "gemma_adapter = GemmaAdapter()\n",
    "lora_config = LoRAConfig()\n",
    "lora_fine_tuning = LoRAFineTuning(model_adapter=gemma_adapter, lora_config=lora_config)\n",
    "checkpoint_config = CheckpointConfig(checkpoint_dir=\"tests/\"+ lora_config.get_identifier())\n",
    "training_config = TrainingConfig(checkpoint_config=checkpoint_config)\n",
    "\n",
    "trained_model = lora_fine_tuning.train(dataset_processor=code_ultra_feedback, config=training_config)"
   ]
  }
 ],
 "metadata": {
  "kernelspec": {
   "display_name": "venv",
   "language": "python",
   "name": "python3"
  },
  "language_info": {
   "codemirror_mode": {
    "name": "ipython",
    "version": 3
   },
   "file_extension": ".py",
   "mimetype": "text/x-python",
   "name": "python",
   "nbconvert_exporter": "python",
   "pygments_lexer": "ipython3",
   "version": "3.13.3"
  }
 },
 "nbformat": 4,
 "nbformat_minor": 5
}
