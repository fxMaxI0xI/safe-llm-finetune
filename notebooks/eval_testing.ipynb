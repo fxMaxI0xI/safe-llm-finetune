{
 "cells": [
  {
   "cell_type": "code",
   "execution_count": 1,
   "id": "b11c7bf4",
   "metadata": {},
   "outputs": [
    {
     "name": "stderr",
     "output_type": "stream",
     "text": [
      "Note: Environment variable`HF_TOKEN` is set and is the current active token independently from the token you've just configured.\n"
     ]
    }
   ],
   "source": [
    "from pathlib import Path\n",
    "import sys\n",
    "# Add project root to Python path to enable imports from the package\n",
    "sys.path.append(str(Path.cwd().parent))\n",
    "from safe_llm_finetune.evaluation.airbench import AirBench\n",
    "from safe_llm_finetune.evaluation.multitaskbench import MultiTaskBench\n",
    "import os\n",
    "from huggingface_hub import login\n",
    "\n",
    "\n",
    "HF_TOKEN = os.getenv(\"HF_TOKEN\")\n",
    "login(token=HF_TOKEN)"
   ]
  },
  {
   "cell_type": "code",
   "execution_count": 2,
   "id": "c0b896eb",
   "metadata": {},
   "outputs": [],
   "source": [
    "air = AirBench(model_name=\"GPT-4o-mini\", file_path=\"evallogs/GPT-4o-mini/test\", debug=True)"
   ]
  },
  {
   "cell_type": "code",
   "execution_count": 3,
   "id": "6d160c56",
   "metadata": {},
   "outputs": [
    {
     "data": {
      "application/vnd.jupyter.widget-view+json": {
       "model_id": "d454e1390a5b456b9e8688aaa129b28b",
       "version_major": 2,
       "version_minor": 0
      },
      "text/plain": [
       "Output()"
      ]
     },
     "metadata": {},
     "output_type": "display_data"
    },
    {
     "name": "stdout",
     "output_type": "stream",
     "text": [
      "<class 'inspect_ai._eval.task.task.Task'>\n"
     ]
    },
    {
     "data": {
      "text/html": [
       "<pre style=\"white-space:pre;overflow-x:auto;line-height:normal;font-family:Menlo,'DejaVu Sans Mono',consolas,'Courier New',monospace\"></pre>\n"
      ],
      "text/plain": []
     },
     "metadata": {},
     "output_type": "display_data"
    }
   ],
   "source": [
    "air.run()"
   ]
  },
  {
   "cell_type": "code",
   "execution_count": 4,
   "id": "5ec2637b",
   "metadata": {},
   "outputs": [],
   "source": [
    "multi = MultiTaskBench(model_name=\"GPT-4o-mini\", file_path=\"evallogs/GPT-4o-mini/test\", debug = True)\n"
   ]
  },
  {
   "cell_type": "code",
   "execution_count": 5,
   "id": "adf950e6",
   "metadata": {},
   "outputs": [
    {
     "data": {
      "application/vnd.jupyter.widget-view+json": {
       "model_id": "82ced0b411334762b7af6f98afaeb59f",
       "version_major": 2,
       "version_minor": 0
      },
      "text/plain": [
       "Output()"
      ]
     },
     "metadata": {},
     "output_type": "display_data"
    },
    {
     "name": "stdout",
     "output_type": "stream",
     "text": [
      "<class 'inspect_ai._eval.task.task.Task'>\n"
     ]
    },
    {
     "data": {
      "text/html": [
       "<pre style=\"white-space:pre;overflow-x:auto;line-height:normal;font-family:Menlo,'DejaVu Sans Mono',consolas,'Courier New',monospace\"><span style=\"color: #7fbfbf; text-decoration-color: #7fbfbf\">[04/25/25 20:27:27] </span><span style=\"color: #808000; text-decoration-color: #808000\">WARNING </span> Unable to convert value to float: y                                     <a href=\"file:///Users/manonkempermann/safe-llm-finetune/venv/lib/python3.13/site-packages/inspect_ai/scorer/_metric.py\" target=\"_blank\"><span style=\"color: #7f7f7f; text-decoration-color: #7f7f7f\">_metric.py</span></a><span style=\"color: #7f7f7f; text-decoration-color: #7f7f7f\">:</span><a href=\"file:///Users/manonkempermann/safe-llm-finetune/venv/lib/python3.13/site-packages/inspect_ai/scorer/_metric.py#180\" target=\"_blank\"><span style=\"color: #7f7f7f; text-decoration-color: #7f7f7f\">180</span></a>\n",
       "</pre>\n"
      ],
      "text/plain": [
       "\u001b[2;36m[04/25/25 20:27:27]\u001b[0m\u001b[2;36m \u001b[0m\u001b[33mWARNING \u001b[0m Unable to convert value to float: y                                     \u001b]8;id=613171;file:///Users/manonkempermann/safe-llm-finetune/venv/lib/python3.13/site-packages/inspect_ai/scorer/_metric.py\u001b\\\u001b[2m_metric.py\u001b[0m\u001b]8;;\u001b\\\u001b[2m:\u001b[0m\u001b]8;id=240407;file:///Users/manonkempermann/safe-llm-finetune/venv/lib/python3.13/site-packages/inspect_ai/scorer/_metric.py#180\u001b\\\u001b[2m180\u001b[0m\u001b]8;;\u001b\\\n"
      ]
     },
     "metadata": {},
     "output_type": "display_data"
    },
    {
     "data": {
      "text/html": [
       "<pre style=\"white-space:pre;overflow-x:auto;line-height:normal;font-family:Menlo,'DejaVu Sans Mono',consolas,'Courier New',monospace\"><span style=\"color: #7fbfbf; text-decoration-color: #7fbfbf\">[04/25/25 20:27:28] </span><span style=\"color: #808000; text-decoration-color: #808000\">WARNING </span> Unable to convert value to float: y                                     <a href=\"file:///Users/manonkempermann/safe-llm-finetune/venv/lib/python3.13/site-packages/inspect_ai/scorer/_metric.py\" target=\"_blank\"><span style=\"color: #7f7f7f; text-decoration-color: #7f7f7f\">_metric.py</span></a><span style=\"color: #7f7f7f; text-decoration-color: #7f7f7f\">:</span><a href=\"file:///Users/manonkempermann/safe-llm-finetune/venv/lib/python3.13/site-packages/inspect_ai/scorer/_metric.py#180\" target=\"_blank\"><span style=\"color: #7f7f7f; text-decoration-color: #7f7f7f\">180</span></a>\n",
       "</pre>\n"
      ],
      "text/plain": [
       "\u001b[2;36m[04/25/25 20:27:28]\u001b[0m\u001b[2;36m \u001b[0m\u001b[33mWARNING \u001b[0m Unable to convert value to float: y                                     \u001b]8;id=326004;file:///Users/manonkempermann/safe-llm-finetune/venv/lib/python3.13/site-packages/inspect_ai/scorer/_metric.py\u001b\\\u001b[2m_metric.py\u001b[0m\u001b]8;;\u001b\\\u001b[2m:\u001b[0m\u001b]8;id=343616;file:///Users/manonkempermann/safe-llm-finetune/venv/lib/python3.13/site-packages/inspect_ai/scorer/_metric.py#180\u001b\\\u001b[2m180\u001b[0m\u001b]8;;\u001b\\\n"
      ]
     },
     "metadata": {},
     "output_type": "display_data"
    },
    {
     "data": {
      "text/html": [
       "<pre style=\"white-space:pre;overflow-x:auto;line-height:normal;font-family:Menlo,'DejaVu Sans Mono',consolas,'Courier New',monospace\"><span style=\"color: #7fbfbf; text-decoration-color: #7fbfbf\">                    </span><span style=\"color: #808000; text-decoration-color: #808000\">WARNING </span> Unable to convert value to float: y                                     <a href=\"file:///Users/manonkempermann/safe-llm-finetune/venv/lib/python3.13/site-packages/inspect_ai/scorer/_metric.py\" target=\"_blank\"><span style=\"color: #7f7f7f; text-decoration-color: #7f7f7f\">_metric.py</span></a><span style=\"color: #7f7f7f; text-decoration-color: #7f7f7f\">:</span><a href=\"file:///Users/manonkempermann/safe-llm-finetune/venv/lib/python3.13/site-packages/inspect_ai/scorer/_metric.py#180\" target=\"_blank\"><span style=\"color: #7f7f7f; text-decoration-color: #7f7f7f\">180</span></a>\n",
       "</pre>\n"
      ],
      "text/plain": [
       "\u001b[2;36m                   \u001b[0m\u001b[2;36m \u001b[0m\u001b[33mWARNING \u001b[0m Unable to convert value to float: y                                     \u001b]8;id=589436;file:///Users/manonkempermann/safe-llm-finetune/venv/lib/python3.13/site-packages/inspect_ai/scorer/_metric.py\u001b\\\u001b[2m_metric.py\u001b[0m\u001b]8;;\u001b\\\u001b[2m:\u001b[0m\u001b]8;id=635353;file:///Users/manonkempermann/safe-llm-finetune/venv/lib/python3.13/site-packages/inspect_ai/scorer/_metric.py#180\u001b\\\u001b[2m180\u001b[0m\u001b]8;;\u001b\\\n"
      ]
     },
     "metadata": {},
     "output_type": "display_data"
    },
    {
     "data": {
      "text/html": [
       "<pre style=\"white-space:pre;overflow-x:auto;line-height:normal;font-family:Menlo,'DejaVu Sans Mono',consolas,'Courier New',monospace\"><span style=\"color: #7fbfbf; text-decoration-color: #7fbfbf\">                    </span><span style=\"color: #808000; text-decoration-color: #808000\">WARNING </span> Unable to convert value to float: y                                     <a href=\"file:///Users/manonkempermann/safe-llm-finetune/venv/lib/python3.13/site-packages/inspect_ai/scorer/_metric.py\" target=\"_blank\"><span style=\"color: #7f7f7f; text-decoration-color: #7f7f7f\">_metric.py</span></a><span style=\"color: #7f7f7f; text-decoration-color: #7f7f7f\">:</span><a href=\"file:///Users/manonkempermann/safe-llm-finetune/venv/lib/python3.13/site-packages/inspect_ai/scorer/_metric.py#180\" target=\"_blank\"><span style=\"color: #7f7f7f; text-decoration-color: #7f7f7f\">180</span></a>\n",
       "</pre>\n"
      ],
      "text/plain": [
       "\u001b[2;36m                   \u001b[0m\u001b[2;36m \u001b[0m\u001b[33mWARNING \u001b[0m Unable to convert value to float: y                                     \u001b]8;id=542;file:///Users/manonkempermann/safe-llm-finetune/venv/lib/python3.13/site-packages/inspect_ai/scorer/_metric.py\u001b\\\u001b[2m_metric.py\u001b[0m\u001b]8;;\u001b\\\u001b[2m:\u001b[0m\u001b]8;id=631806;file:///Users/manonkempermann/safe-llm-finetune/venv/lib/python3.13/site-packages/inspect_ai/scorer/_metric.py#180\u001b\\\u001b[2m180\u001b[0m\u001b]8;;\u001b\\\n"
      ]
     },
     "metadata": {},
     "output_type": "display_data"
    },
    {
     "data": {
      "text/html": [
       "<pre style=\"white-space:pre;overflow-x:auto;line-height:normal;font-family:Menlo,'DejaVu Sans Mono',consolas,'Courier New',monospace\"><span style=\"color: #7fbfbf; text-decoration-color: #7fbfbf\">                    </span><span style=\"color: #808000; text-decoration-color: #808000\">WARNING </span> Unable to convert value to float: y                                     <a href=\"file:///Users/manonkempermann/safe-llm-finetune/venv/lib/python3.13/site-packages/inspect_ai/scorer/_metric.py\" target=\"_blank\"><span style=\"color: #7f7f7f; text-decoration-color: #7f7f7f\">_metric.py</span></a><span style=\"color: #7f7f7f; text-decoration-color: #7f7f7f\">:</span><a href=\"file:///Users/manonkempermann/safe-llm-finetune/venv/lib/python3.13/site-packages/inspect_ai/scorer/_metric.py#180\" target=\"_blank\"><span style=\"color: #7f7f7f; text-decoration-color: #7f7f7f\">180</span></a>\n",
       "</pre>\n"
      ],
      "text/plain": [
       "\u001b[2;36m                   \u001b[0m\u001b[2;36m \u001b[0m\u001b[33mWARNING \u001b[0m Unable to convert value to float: y                                     \u001b]8;id=774026;file:///Users/manonkempermann/safe-llm-finetune/venv/lib/python3.13/site-packages/inspect_ai/scorer/_metric.py\u001b\\\u001b[2m_metric.py\u001b[0m\u001b]8;;\u001b\\\u001b[2m:\u001b[0m\u001b]8;id=749652;file:///Users/manonkempermann/safe-llm-finetune/venv/lib/python3.13/site-packages/inspect_ai/scorer/_metric.py#180\u001b\\\u001b[2m180\u001b[0m\u001b]8;;\u001b\\\n"
      ]
     },
     "metadata": {},
     "output_type": "display_data"
    },
    {
     "data": {
      "text/html": [
       "<pre style=\"white-space:pre;overflow-x:auto;line-height:normal;font-family:Menlo,'DejaVu Sans Mono',consolas,'Courier New',monospace\"><span style=\"color: #7fbfbf; text-decoration-color: #7fbfbf\">[04/25/25 20:27:31] </span><span style=\"color: #808000; text-decoration-color: #808000\">WARNING </span> Unable to convert value to float: y                                     <a href=\"file:///Users/manonkempermann/safe-llm-finetune/venv/lib/python3.13/site-packages/inspect_ai/scorer/_metric.py\" target=\"_blank\"><span style=\"color: #7f7f7f; text-decoration-color: #7f7f7f\">_metric.py</span></a><span style=\"color: #7f7f7f; text-decoration-color: #7f7f7f\">:</span><a href=\"file:///Users/manonkempermann/safe-llm-finetune/venv/lib/python3.13/site-packages/inspect_ai/scorer/_metric.py#180\" target=\"_blank\"><span style=\"color: #7f7f7f; text-decoration-color: #7f7f7f\">180</span></a>\n",
       "</pre>\n"
      ],
      "text/plain": [
       "\u001b[2;36m[04/25/25 20:27:31]\u001b[0m\u001b[2;36m \u001b[0m\u001b[33mWARNING \u001b[0m Unable to convert value to float: y                                     \u001b]8;id=624381;file:///Users/manonkempermann/safe-llm-finetune/venv/lib/python3.13/site-packages/inspect_ai/scorer/_metric.py\u001b\\\u001b[2m_metric.py\u001b[0m\u001b]8;;\u001b\\\u001b[2m:\u001b[0m\u001b]8;id=554602;file:///Users/manonkempermann/safe-llm-finetune/venv/lib/python3.13/site-packages/inspect_ai/scorer/_metric.py#180\u001b\\\u001b[2m180\u001b[0m\u001b]8;;\u001b\\\n"
      ]
     },
     "metadata": {},
     "output_type": "display_data"
    },
    {
     "data": {
      "text/html": [
       "<pre style=\"white-space:pre;overflow-x:auto;line-height:normal;font-family:Menlo,'DejaVu Sans Mono',consolas,'Courier New',monospace\"><span style=\"color: #7fbfbf; text-decoration-color: #7fbfbf\">                    </span><span style=\"color: #808000; text-decoration-color: #808000\">WARNING </span> Unable to convert value to float: y                                     <a href=\"file:///Users/manonkempermann/safe-llm-finetune/venv/lib/python3.13/site-packages/inspect_ai/scorer/_metric.py\" target=\"_blank\"><span style=\"color: #7f7f7f; text-decoration-color: #7f7f7f\">_metric.py</span></a><span style=\"color: #7f7f7f; text-decoration-color: #7f7f7f\">:</span><a href=\"file:///Users/manonkempermann/safe-llm-finetune/venv/lib/python3.13/site-packages/inspect_ai/scorer/_metric.py#180\" target=\"_blank\"><span style=\"color: #7f7f7f; text-decoration-color: #7f7f7f\">180</span></a>\n",
       "</pre>\n"
      ],
      "text/plain": [
       "\u001b[2;36m                   \u001b[0m\u001b[2;36m \u001b[0m\u001b[33mWARNING \u001b[0m Unable to convert value to float: y                                     \u001b]8;id=753788;file:///Users/manonkempermann/safe-llm-finetune/venv/lib/python3.13/site-packages/inspect_ai/scorer/_metric.py\u001b\\\u001b[2m_metric.py\u001b[0m\u001b]8;;\u001b\\\u001b[2m:\u001b[0m\u001b]8;id=995587;file:///Users/manonkempermann/safe-llm-finetune/venv/lib/python3.13/site-packages/inspect_ai/scorer/_metric.py#180\u001b\\\u001b[2m180\u001b[0m\u001b]8;;\u001b\\\n"
      ]
     },
     "metadata": {},
     "output_type": "display_data"
    },
    {
     "data": {
      "text/html": [
       "<pre style=\"white-space:pre;overflow-x:auto;line-height:normal;font-family:Menlo,'DejaVu Sans Mono',consolas,'Courier New',monospace\"><span style=\"color: #7fbfbf; text-decoration-color: #7fbfbf\">                    </span><span style=\"color: #808000; text-decoration-color: #808000\">WARNING </span> Unable to convert value to float: y                                     <a href=\"file:///Users/manonkempermann/safe-llm-finetune/venv/lib/python3.13/site-packages/inspect_ai/scorer/_metric.py\" target=\"_blank\"><span style=\"color: #7f7f7f; text-decoration-color: #7f7f7f\">_metric.py</span></a><span style=\"color: #7f7f7f; text-decoration-color: #7f7f7f\">:</span><a href=\"file:///Users/manonkempermann/safe-llm-finetune/venv/lib/python3.13/site-packages/inspect_ai/scorer/_metric.py#180\" target=\"_blank\"><span style=\"color: #7f7f7f; text-decoration-color: #7f7f7f\">180</span></a>\n",
       "</pre>\n"
      ],
      "text/plain": [
       "\u001b[2;36m                   \u001b[0m\u001b[2;36m \u001b[0m\u001b[33mWARNING \u001b[0m Unable to convert value to float: y                                     \u001b]8;id=748564;file:///Users/manonkempermann/safe-llm-finetune/venv/lib/python3.13/site-packages/inspect_ai/scorer/_metric.py\u001b\\\u001b[2m_metric.py\u001b[0m\u001b]8;;\u001b\\\u001b[2m:\u001b[0m\u001b]8;id=706087;file:///Users/manonkempermann/safe-llm-finetune/venv/lib/python3.13/site-packages/inspect_ai/scorer/_metric.py#180\u001b\\\u001b[2m180\u001b[0m\u001b]8;;\u001b\\\n"
      ]
     },
     "metadata": {},
     "output_type": "display_data"
    },
    {
     "data": {
      "text/html": [
       "<pre style=\"white-space:pre;overflow-x:auto;line-height:normal;font-family:Menlo,'DejaVu Sans Mono',consolas,'Courier New',monospace\"><span style=\"color: #7fbfbf; text-decoration-color: #7fbfbf\">                    </span><span style=\"color: #808000; text-decoration-color: #808000\">WARNING </span> Unable to convert value to float: y                                     <a href=\"file:///Users/manonkempermann/safe-llm-finetune/venv/lib/python3.13/site-packages/inspect_ai/scorer/_metric.py\" target=\"_blank\"><span style=\"color: #7f7f7f; text-decoration-color: #7f7f7f\">_metric.py</span></a><span style=\"color: #7f7f7f; text-decoration-color: #7f7f7f\">:</span><a href=\"file:///Users/manonkempermann/safe-llm-finetune/venv/lib/python3.13/site-packages/inspect_ai/scorer/_metric.py#180\" target=\"_blank\"><span style=\"color: #7f7f7f; text-decoration-color: #7f7f7f\">180</span></a>\n",
       "</pre>\n"
      ],
      "text/plain": [
       "\u001b[2;36m                   \u001b[0m\u001b[2;36m \u001b[0m\u001b[33mWARNING \u001b[0m Unable to convert value to float: y                                     \u001b]8;id=331500;file:///Users/manonkempermann/safe-llm-finetune/venv/lib/python3.13/site-packages/inspect_ai/scorer/_metric.py\u001b\\\u001b[2m_metric.py\u001b[0m\u001b]8;;\u001b\\\u001b[2m:\u001b[0m\u001b]8;id=151756;file:///Users/manonkempermann/safe-llm-finetune/venv/lib/python3.13/site-packages/inspect_ai/scorer/_metric.py#180\u001b\\\u001b[2m180\u001b[0m\u001b]8;;\u001b\\\n"
      ]
     },
     "metadata": {},
     "output_type": "display_data"
    },
    {
     "data": {
      "text/html": [
       "<pre style=\"white-space:pre;overflow-x:auto;line-height:normal;font-family:Menlo,'DejaVu Sans Mono',consolas,'Courier New',monospace\"><span style=\"color: #7fbfbf; text-decoration-color: #7fbfbf\">                    </span><span style=\"color: #808000; text-decoration-color: #808000\">WARNING </span> Unable to convert value to float: y                                     <a href=\"file:///Users/manonkempermann/safe-llm-finetune/venv/lib/python3.13/site-packages/inspect_ai/scorer/_metric.py\" target=\"_blank\"><span style=\"color: #7f7f7f; text-decoration-color: #7f7f7f\">_metric.py</span></a><span style=\"color: #7f7f7f; text-decoration-color: #7f7f7f\">:</span><a href=\"file:///Users/manonkempermann/safe-llm-finetune/venv/lib/python3.13/site-packages/inspect_ai/scorer/_metric.py#180\" target=\"_blank\"><span style=\"color: #7f7f7f; text-decoration-color: #7f7f7f\">180</span></a>\n",
       "</pre>\n"
      ],
      "text/plain": [
       "\u001b[2;36m                   \u001b[0m\u001b[2;36m \u001b[0m\u001b[33mWARNING \u001b[0m Unable to convert value to float: y                                     \u001b]8;id=329792;file:///Users/manonkempermann/safe-llm-finetune/venv/lib/python3.13/site-packages/inspect_ai/scorer/_metric.py\u001b\\\u001b[2m_metric.py\u001b[0m\u001b]8;;\u001b\\\u001b[2m:\u001b[0m\u001b]8;id=84006;file:///Users/manonkempermann/safe-llm-finetune/venv/lib/python3.13/site-packages/inspect_ai/scorer/_metric.py#180\u001b\\\u001b[2m180\u001b[0m\u001b]8;;\u001b\\\n"
      ]
     },
     "metadata": {},
     "output_type": "display_data"
    },
    {
     "data": {
      "text/html": [
       "<pre style=\"white-space:pre;overflow-x:auto;line-height:normal;font-family:Menlo,'DejaVu Sans Mono',consolas,'Courier New',monospace\"><span style=\"color: #7fbfbf; text-decoration-color: #7fbfbf\">                    </span><span style=\"color: #808000; text-decoration-color: #808000\">WARNING </span> Unable to convert value to float: y                                     <a href=\"file:///Users/manonkempermann/safe-llm-finetune/venv/lib/python3.13/site-packages/inspect_ai/scorer/_metric.py\" target=\"_blank\"><span style=\"color: #7f7f7f; text-decoration-color: #7f7f7f\">_metric.py</span></a><span style=\"color: #7f7f7f; text-decoration-color: #7f7f7f\">:</span><a href=\"file:///Users/manonkempermann/safe-llm-finetune/venv/lib/python3.13/site-packages/inspect_ai/scorer/_metric.py#180\" target=\"_blank\"><span style=\"color: #7f7f7f; text-decoration-color: #7f7f7f\">180</span></a>\n",
       "</pre>\n"
      ],
      "text/plain": [
       "\u001b[2;36m                   \u001b[0m\u001b[2;36m \u001b[0m\u001b[33mWARNING \u001b[0m Unable to convert value to float: y                                     \u001b]8;id=802270;file:///Users/manonkempermann/safe-llm-finetune/venv/lib/python3.13/site-packages/inspect_ai/scorer/_metric.py\u001b\\\u001b[2m_metric.py\u001b[0m\u001b]8;;\u001b\\\u001b[2m:\u001b[0m\u001b]8;id=492228;file:///Users/manonkempermann/safe-llm-finetune/venv/lib/python3.13/site-packages/inspect_ai/scorer/_metric.py#180\u001b\\\u001b[2m180\u001b[0m\u001b]8;;\u001b\\\n"
      ]
     },
     "metadata": {},
     "output_type": "display_data"
    },
    {
     "data": {
      "text/html": [
       "<pre style=\"white-space:pre;overflow-x:auto;line-height:normal;font-family:Menlo,'DejaVu Sans Mono',consolas,'Courier New',monospace\"><span style=\"color: #7fbfbf; text-decoration-color: #7fbfbf\">[04/25/25 20:27:32] </span><span style=\"color: #808000; text-decoration-color: #808000\">WARNING </span> Unable to convert value to float: y                                     <a href=\"file:///Users/manonkempermann/safe-llm-finetune/venv/lib/python3.13/site-packages/inspect_ai/scorer/_metric.py\" target=\"_blank\"><span style=\"color: #7f7f7f; text-decoration-color: #7f7f7f\">_metric.py</span></a><span style=\"color: #7f7f7f; text-decoration-color: #7f7f7f\">:</span><a href=\"file:///Users/manonkempermann/safe-llm-finetune/venv/lib/python3.13/site-packages/inspect_ai/scorer/_metric.py#180\" target=\"_blank\"><span style=\"color: #7f7f7f; text-decoration-color: #7f7f7f\">180</span></a>\n",
       "</pre>\n"
      ],
      "text/plain": [
       "\u001b[2;36m[04/25/25 20:27:32]\u001b[0m\u001b[2;36m \u001b[0m\u001b[33mWARNING \u001b[0m Unable to convert value to float: y                                     \u001b]8;id=302869;file:///Users/manonkempermann/safe-llm-finetune/venv/lib/python3.13/site-packages/inspect_ai/scorer/_metric.py\u001b\\\u001b[2m_metric.py\u001b[0m\u001b]8;;\u001b\\\u001b[2m:\u001b[0m\u001b]8;id=988359;file:///Users/manonkempermann/safe-llm-finetune/venv/lib/python3.13/site-packages/inspect_ai/scorer/_metric.py#180\u001b\\\u001b[2m180\u001b[0m\u001b]8;;\u001b\\\n"
      ]
     },
     "metadata": {},
     "output_type": "display_data"
    },
    {
     "data": {
      "text/html": [
       "<pre style=\"white-space:pre;overflow-x:auto;line-height:normal;font-family:Menlo,'DejaVu Sans Mono',consolas,'Courier New',monospace\"><span style=\"color: #7fbfbf; text-decoration-color: #7fbfbf\">                    </span><span style=\"color: #808000; text-decoration-color: #808000\">WARNING </span> Unable to convert value to float: y                                     <a href=\"file:///Users/manonkempermann/safe-llm-finetune/venv/lib/python3.13/site-packages/inspect_ai/scorer/_metric.py\" target=\"_blank\"><span style=\"color: #7f7f7f; text-decoration-color: #7f7f7f\">_metric.py</span></a><span style=\"color: #7f7f7f; text-decoration-color: #7f7f7f\">:</span><a href=\"file:///Users/manonkempermann/safe-llm-finetune/venv/lib/python3.13/site-packages/inspect_ai/scorer/_metric.py#180\" target=\"_blank\"><span style=\"color: #7f7f7f; text-decoration-color: #7f7f7f\">180</span></a>\n",
       "</pre>\n"
      ],
      "text/plain": [
       "\u001b[2;36m                   \u001b[0m\u001b[2;36m \u001b[0m\u001b[33mWARNING \u001b[0m Unable to convert value to float: y                                     \u001b]8;id=790870;file:///Users/manonkempermann/safe-llm-finetune/venv/lib/python3.13/site-packages/inspect_ai/scorer/_metric.py\u001b\\\u001b[2m_metric.py\u001b[0m\u001b]8;;\u001b\\\u001b[2m:\u001b[0m\u001b]8;id=459797;file:///Users/manonkempermann/safe-llm-finetune/venv/lib/python3.13/site-packages/inspect_ai/scorer/_metric.py#180\u001b\\\u001b[2m180\u001b[0m\u001b]8;;\u001b\\\n"
      ]
     },
     "metadata": {},
     "output_type": "display_data"
    },
    {
     "data": {
      "text/html": [
       "<pre style=\"white-space:pre;overflow-x:auto;line-height:normal;font-family:Menlo,'DejaVu Sans Mono',consolas,'Courier New',monospace\"><span style=\"color: #7fbfbf; text-decoration-color: #7fbfbf\">                    </span><span style=\"color: #808000; text-decoration-color: #808000\">WARNING </span> Unable to convert value to float: y                                     <a href=\"file:///Users/manonkempermann/safe-llm-finetune/venv/lib/python3.13/site-packages/inspect_ai/scorer/_metric.py\" target=\"_blank\"><span style=\"color: #7f7f7f; text-decoration-color: #7f7f7f\">_metric.py</span></a><span style=\"color: #7f7f7f; text-decoration-color: #7f7f7f\">:</span><a href=\"file:///Users/manonkempermann/safe-llm-finetune/venv/lib/python3.13/site-packages/inspect_ai/scorer/_metric.py#180\" target=\"_blank\"><span style=\"color: #7f7f7f; text-decoration-color: #7f7f7f\">180</span></a>\n",
       "</pre>\n"
      ],
      "text/plain": [
       "\u001b[2;36m                   \u001b[0m\u001b[2;36m \u001b[0m\u001b[33mWARNING \u001b[0m Unable to convert value to float: y                                     \u001b]8;id=773509;file:///Users/manonkempermann/safe-llm-finetune/venv/lib/python3.13/site-packages/inspect_ai/scorer/_metric.py\u001b\\\u001b[2m_metric.py\u001b[0m\u001b]8;;\u001b\\\u001b[2m:\u001b[0m\u001b]8;id=242763;file:///Users/manonkempermann/safe-llm-finetune/venv/lib/python3.13/site-packages/inspect_ai/scorer/_metric.py#180\u001b\\\u001b[2m180\u001b[0m\u001b]8;;\u001b\\\n"
      ]
     },
     "metadata": {},
     "output_type": "display_data"
    },
    {
     "data": {
      "text/html": [
       "<pre style=\"white-space:pre;overflow-x:auto;line-height:normal;font-family:Menlo,'DejaVu Sans Mono',consolas,'Courier New',monospace\"><span style=\"color: #7fbfbf; text-decoration-color: #7fbfbf\">                    </span><span style=\"color: #808000; text-decoration-color: #808000\">WARNING </span> Unable to convert value to float: y                                     <a href=\"file:///Users/manonkempermann/safe-llm-finetune/venv/lib/python3.13/site-packages/inspect_ai/scorer/_metric.py\" target=\"_blank\"><span style=\"color: #7f7f7f; text-decoration-color: #7f7f7f\">_metric.py</span></a><span style=\"color: #7f7f7f; text-decoration-color: #7f7f7f\">:</span><a href=\"file:///Users/manonkempermann/safe-llm-finetune/venv/lib/python3.13/site-packages/inspect_ai/scorer/_metric.py#180\" target=\"_blank\"><span style=\"color: #7f7f7f; text-decoration-color: #7f7f7f\">180</span></a>\n",
       "</pre>\n"
      ],
      "text/plain": [
       "\u001b[2;36m                   \u001b[0m\u001b[2;36m \u001b[0m\u001b[33mWARNING \u001b[0m Unable to convert value to float: y                                     \u001b]8;id=76759;file:///Users/manonkempermann/safe-llm-finetune/venv/lib/python3.13/site-packages/inspect_ai/scorer/_metric.py\u001b\\\u001b[2m_metric.py\u001b[0m\u001b]8;;\u001b\\\u001b[2m:\u001b[0m\u001b]8;id=3061;file:///Users/manonkempermann/safe-llm-finetune/venv/lib/python3.13/site-packages/inspect_ai/scorer/_metric.py#180\u001b\\\u001b[2m180\u001b[0m\u001b]8;;\u001b\\\n"
      ]
     },
     "metadata": {},
     "output_type": "display_data"
    },
    {
     "data": {
      "text/html": [
       "<pre style=\"white-space:pre;overflow-x:auto;line-height:normal;font-family:Menlo,'DejaVu Sans Mono',consolas,'Courier New',monospace\"><span style=\"color: #7fbfbf; text-decoration-color: #7fbfbf\">                    </span><span style=\"color: #808000; text-decoration-color: #808000\">WARNING </span> Unable to convert value to float: y                                     <a href=\"file:///Users/manonkempermann/safe-llm-finetune/venv/lib/python3.13/site-packages/inspect_ai/scorer/_metric.py\" target=\"_blank\"><span style=\"color: #7f7f7f; text-decoration-color: #7f7f7f\">_metric.py</span></a><span style=\"color: #7f7f7f; text-decoration-color: #7f7f7f\">:</span><a href=\"file:///Users/manonkempermann/safe-llm-finetune/venv/lib/python3.13/site-packages/inspect_ai/scorer/_metric.py#180\" target=\"_blank\"><span style=\"color: #7f7f7f; text-decoration-color: #7f7f7f\">180</span></a>\n",
       "</pre>\n"
      ],
      "text/plain": [
       "\u001b[2;36m                   \u001b[0m\u001b[2;36m \u001b[0m\u001b[33mWARNING \u001b[0m Unable to convert value to float: y                                     \u001b]8;id=993887;file:///Users/manonkempermann/safe-llm-finetune/venv/lib/python3.13/site-packages/inspect_ai/scorer/_metric.py\u001b\\\u001b[2m_metric.py\u001b[0m\u001b]8;;\u001b\\\u001b[2m:\u001b[0m\u001b]8;id=190066;file:///Users/manonkempermann/safe-llm-finetune/venv/lib/python3.13/site-packages/inspect_ai/scorer/_metric.py#180\u001b\\\u001b[2m180\u001b[0m\u001b]8;;\u001b\\\n"
      ]
     },
     "metadata": {},
     "output_type": "display_data"
    },
    {
     "data": {
      "text/html": [
       "<pre style=\"white-space:pre;overflow-x:auto;line-height:normal;font-family:Menlo,'DejaVu Sans Mono',consolas,'Courier New',monospace\"><span style=\"color: #7fbfbf; text-decoration-color: #7fbfbf\">                    </span><span style=\"color: #808000; text-decoration-color: #808000\">WARNING </span> Unable to convert value to float: y                                     <a href=\"file:///Users/manonkempermann/safe-llm-finetune/venv/lib/python3.13/site-packages/inspect_ai/scorer/_metric.py\" target=\"_blank\"><span style=\"color: #7f7f7f; text-decoration-color: #7f7f7f\">_metric.py</span></a><span style=\"color: #7f7f7f; text-decoration-color: #7f7f7f\">:</span><a href=\"file:///Users/manonkempermann/safe-llm-finetune/venv/lib/python3.13/site-packages/inspect_ai/scorer/_metric.py#180\" target=\"_blank\"><span style=\"color: #7f7f7f; text-decoration-color: #7f7f7f\">180</span></a>\n",
       "</pre>\n"
      ],
      "text/plain": [
       "\u001b[2;36m                   \u001b[0m\u001b[2;36m \u001b[0m\u001b[33mWARNING \u001b[0m Unable to convert value to float: y                                     \u001b]8;id=816864;file:///Users/manonkempermann/safe-llm-finetune/venv/lib/python3.13/site-packages/inspect_ai/scorer/_metric.py\u001b\\\u001b[2m_metric.py\u001b[0m\u001b]8;;\u001b\\\u001b[2m:\u001b[0m\u001b]8;id=320139;file:///Users/manonkempermann/safe-llm-finetune/venv/lib/python3.13/site-packages/inspect_ai/scorer/_metric.py#180\u001b\\\u001b[2m180\u001b[0m\u001b]8;;\u001b\\\n"
      ]
     },
     "metadata": {},
     "output_type": "display_data"
    },
    {
     "data": {
      "text/html": [
       "<pre style=\"white-space:pre;overflow-x:auto;line-height:normal;font-family:Menlo,'DejaVu Sans Mono',consolas,'Courier New',monospace\"><span style=\"color: #7fbfbf; text-decoration-color: #7fbfbf\">                    </span><span style=\"color: #808000; text-decoration-color: #808000\">WARNING </span> Unable to convert value to float: y                                     <a href=\"file:///Users/manonkempermann/safe-llm-finetune/venv/lib/python3.13/site-packages/inspect_ai/scorer/_metric.py\" target=\"_blank\"><span style=\"color: #7f7f7f; text-decoration-color: #7f7f7f\">_metric.py</span></a><span style=\"color: #7f7f7f; text-decoration-color: #7f7f7f\">:</span><a href=\"file:///Users/manonkempermann/safe-llm-finetune/venv/lib/python3.13/site-packages/inspect_ai/scorer/_metric.py#180\" target=\"_blank\"><span style=\"color: #7f7f7f; text-decoration-color: #7f7f7f\">180</span></a>\n",
       "</pre>\n"
      ],
      "text/plain": [
       "\u001b[2;36m                   \u001b[0m\u001b[2;36m \u001b[0m\u001b[33mWARNING \u001b[0m Unable to convert value to float: y                                     \u001b]8;id=521461;file:///Users/manonkempermann/safe-llm-finetune/venv/lib/python3.13/site-packages/inspect_ai/scorer/_metric.py\u001b\\\u001b[2m_metric.py\u001b[0m\u001b]8;;\u001b\\\u001b[2m:\u001b[0m\u001b]8;id=192763;file:///Users/manonkempermann/safe-llm-finetune/venv/lib/python3.13/site-packages/inspect_ai/scorer/_metric.py#180\u001b\\\u001b[2m180\u001b[0m\u001b]8;;\u001b\\\n"
      ]
     },
     "metadata": {},
     "output_type": "display_data"
    },
    {
     "data": {
      "text/html": [
       "<pre style=\"white-space:pre;overflow-x:auto;line-height:normal;font-family:Menlo,'DejaVu Sans Mono',consolas,'Courier New',monospace\"><span style=\"color: #7fbfbf; text-decoration-color: #7fbfbf\">[04/25/25 20:27:35] </span><span style=\"color: #808000; text-decoration-color: #808000\">WARNING </span> Unable to convert value to float: y                                     <a href=\"file:///Users/manonkempermann/safe-llm-finetune/venv/lib/python3.13/site-packages/inspect_ai/scorer/_metric.py\" target=\"_blank\"><span style=\"color: #7f7f7f; text-decoration-color: #7f7f7f\">_metric.py</span></a><span style=\"color: #7f7f7f; text-decoration-color: #7f7f7f\">:</span><a href=\"file:///Users/manonkempermann/safe-llm-finetune/venv/lib/python3.13/site-packages/inspect_ai/scorer/_metric.py#180\" target=\"_blank\"><span style=\"color: #7f7f7f; text-decoration-color: #7f7f7f\">180</span></a>\n",
       "</pre>\n"
      ],
      "text/plain": [
       "\u001b[2;36m[04/25/25 20:27:35]\u001b[0m\u001b[2;36m \u001b[0m\u001b[33mWARNING \u001b[0m Unable to convert value to float: y                                     \u001b]8;id=385846;file:///Users/manonkempermann/safe-llm-finetune/venv/lib/python3.13/site-packages/inspect_ai/scorer/_metric.py\u001b\\\u001b[2m_metric.py\u001b[0m\u001b]8;;\u001b\\\u001b[2m:\u001b[0m\u001b]8;id=667701;file:///Users/manonkempermann/safe-llm-finetune/venv/lib/python3.13/site-packages/inspect_ai/scorer/_metric.py#180\u001b\\\u001b[2m180\u001b[0m\u001b]8;;\u001b\\\n"
      ]
     },
     "metadata": {},
     "output_type": "display_data"
    },
    {
     "data": {
      "text/html": [
       "<pre style=\"white-space:pre;overflow-x:auto;line-height:normal;font-family:Menlo,'DejaVu Sans Mono',consolas,'Courier New',monospace\"><span style=\"color: #7fbfbf; text-decoration-color: #7fbfbf\">                    </span><span style=\"color: #808000; text-decoration-color: #808000\">WARNING </span> Unable to convert value to float: y                                     <a href=\"file:///Users/manonkempermann/safe-llm-finetune/venv/lib/python3.13/site-packages/inspect_ai/scorer/_metric.py\" target=\"_blank\"><span style=\"color: #7f7f7f; text-decoration-color: #7f7f7f\">_metric.py</span></a><span style=\"color: #7f7f7f; text-decoration-color: #7f7f7f\">:</span><a href=\"file:///Users/manonkempermann/safe-llm-finetune/venv/lib/python3.13/site-packages/inspect_ai/scorer/_metric.py#180\" target=\"_blank\"><span style=\"color: #7f7f7f; text-decoration-color: #7f7f7f\">180</span></a>\n",
       "</pre>\n"
      ],
      "text/plain": [
       "\u001b[2;36m                   \u001b[0m\u001b[2;36m \u001b[0m\u001b[33mWARNING \u001b[0m Unable to convert value to float: y                                     \u001b]8;id=70504;file:///Users/manonkempermann/safe-llm-finetune/venv/lib/python3.13/site-packages/inspect_ai/scorer/_metric.py\u001b\\\u001b[2m_metric.py\u001b[0m\u001b]8;;\u001b\\\u001b[2m:\u001b[0m\u001b]8;id=716010;file:///Users/manonkempermann/safe-llm-finetune/venv/lib/python3.13/site-packages/inspect_ai/scorer/_metric.py#180\u001b\\\u001b[2m180\u001b[0m\u001b]8;;\u001b\\\n"
      ]
     },
     "metadata": {},
     "output_type": "display_data"
    },
    {
     "data": {
      "text/html": [
       "<pre style=\"white-space:pre;overflow-x:auto;line-height:normal;font-family:Menlo,'DejaVu Sans Mono',consolas,'Courier New',monospace\"><span style=\"color: #7fbfbf; text-decoration-color: #7fbfbf\">                    </span><span style=\"color: #808000; text-decoration-color: #808000\">WARNING </span> Unable to convert value to float: y                                     <a href=\"file:///Users/manonkempermann/safe-llm-finetune/venv/lib/python3.13/site-packages/inspect_ai/scorer/_metric.py\" target=\"_blank\"><span style=\"color: #7f7f7f; text-decoration-color: #7f7f7f\">_metric.py</span></a><span style=\"color: #7f7f7f; text-decoration-color: #7f7f7f\">:</span><a href=\"file:///Users/manonkempermann/safe-llm-finetune/venv/lib/python3.13/site-packages/inspect_ai/scorer/_metric.py#180\" target=\"_blank\"><span style=\"color: #7f7f7f; text-decoration-color: #7f7f7f\">180</span></a>\n",
       "</pre>\n"
      ],
      "text/plain": [
       "\u001b[2;36m                   \u001b[0m\u001b[2;36m \u001b[0m\u001b[33mWARNING \u001b[0m Unable to convert value to float: y                                     \u001b]8;id=713878;file:///Users/manonkempermann/safe-llm-finetune/venv/lib/python3.13/site-packages/inspect_ai/scorer/_metric.py\u001b\\\u001b[2m_metric.py\u001b[0m\u001b]8;;\u001b\\\u001b[2m:\u001b[0m\u001b]8;id=399369;file:///Users/manonkempermann/safe-llm-finetune/venv/lib/python3.13/site-packages/inspect_ai/scorer/_metric.py#180\u001b\\\u001b[2m180\u001b[0m\u001b]8;;\u001b\\\n"
      ]
     },
     "metadata": {},
     "output_type": "display_data"
    },
    {
     "data": {
      "text/html": [
       "<pre style=\"white-space:pre;overflow-x:auto;line-height:normal;font-family:Menlo,'DejaVu Sans Mono',consolas,'Courier New',monospace\"><span style=\"color: #7fbfbf; text-decoration-color: #7fbfbf\">                    </span><span style=\"color: #808000; text-decoration-color: #808000\">WARNING </span> Unable to convert value to float: y                                     <a href=\"file:///Users/manonkempermann/safe-llm-finetune/venv/lib/python3.13/site-packages/inspect_ai/scorer/_metric.py\" target=\"_blank\"><span style=\"color: #7f7f7f; text-decoration-color: #7f7f7f\">_metric.py</span></a><span style=\"color: #7f7f7f; text-decoration-color: #7f7f7f\">:</span><a href=\"file:///Users/manonkempermann/safe-llm-finetune/venv/lib/python3.13/site-packages/inspect_ai/scorer/_metric.py#180\" target=\"_blank\"><span style=\"color: #7f7f7f; text-decoration-color: #7f7f7f\">180</span></a>\n",
       "</pre>\n"
      ],
      "text/plain": [
       "\u001b[2;36m                   \u001b[0m\u001b[2;36m \u001b[0m\u001b[33mWARNING \u001b[0m Unable to convert value to float: y                                     \u001b]8;id=172250;file:///Users/manonkempermann/safe-llm-finetune/venv/lib/python3.13/site-packages/inspect_ai/scorer/_metric.py\u001b\\\u001b[2m_metric.py\u001b[0m\u001b]8;;\u001b\\\u001b[2m:\u001b[0m\u001b]8;id=278005;file:///Users/manonkempermann/safe-llm-finetune/venv/lib/python3.13/site-packages/inspect_ai/scorer/_metric.py#180\u001b\\\u001b[2m180\u001b[0m\u001b]8;;\u001b\\\n"
      ]
     },
     "metadata": {},
     "output_type": "display_data"
    },
    {
     "data": {
      "text/html": [
       "<pre style=\"white-space:pre;overflow-x:auto;line-height:normal;font-family:Menlo,'DejaVu Sans Mono',consolas,'Courier New',monospace\"><span style=\"color: #7fbfbf; text-decoration-color: #7fbfbf\">                    </span><span style=\"color: #808000; text-decoration-color: #808000\">WARNING </span> Unable to convert value to float: y                                     <a href=\"file:///Users/manonkempermann/safe-llm-finetune/venv/lib/python3.13/site-packages/inspect_ai/scorer/_metric.py\" target=\"_blank\"><span style=\"color: #7f7f7f; text-decoration-color: #7f7f7f\">_metric.py</span></a><span style=\"color: #7f7f7f; text-decoration-color: #7f7f7f\">:</span><a href=\"file:///Users/manonkempermann/safe-llm-finetune/venv/lib/python3.13/site-packages/inspect_ai/scorer/_metric.py#180\" target=\"_blank\"><span style=\"color: #7f7f7f; text-decoration-color: #7f7f7f\">180</span></a>\n",
       "</pre>\n"
      ],
      "text/plain": [
       "\u001b[2;36m                   \u001b[0m\u001b[2;36m \u001b[0m\u001b[33mWARNING \u001b[0m Unable to convert value to float: y                                     \u001b]8;id=901228;file:///Users/manonkempermann/safe-llm-finetune/venv/lib/python3.13/site-packages/inspect_ai/scorer/_metric.py\u001b\\\u001b[2m_metric.py\u001b[0m\u001b]8;;\u001b\\\u001b[2m:\u001b[0m\u001b]8;id=288218;file:///Users/manonkempermann/safe-llm-finetune/venv/lib/python3.13/site-packages/inspect_ai/scorer/_metric.py#180\u001b\\\u001b[2m180\u001b[0m\u001b]8;;\u001b\\\n"
      ]
     },
     "metadata": {},
     "output_type": "display_data"
    },
    {
     "data": {
      "text/html": [
       "<pre style=\"white-space:pre;overflow-x:auto;line-height:normal;font-family:Menlo,'DejaVu Sans Mono',consolas,'Courier New',monospace\"><span style=\"color: #7fbfbf; text-decoration-color: #7fbfbf\">                    </span><span style=\"color: #808000; text-decoration-color: #808000\">WARNING </span> Unable to convert value to float: y                                     <a href=\"file:///Users/manonkempermann/safe-llm-finetune/venv/lib/python3.13/site-packages/inspect_ai/scorer/_metric.py\" target=\"_blank\"><span style=\"color: #7f7f7f; text-decoration-color: #7f7f7f\">_metric.py</span></a><span style=\"color: #7f7f7f; text-decoration-color: #7f7f7f\">:</span><a href=\"file:///Users/manonkempermann/safe-llm-finetune/venv/lib/python3.13/site-packages/inspect_ai/scorer/_metric.py#180\" target=\"_blank\"><span style=\"color: #7f7f7f; text-decoration-color: #7f7f7f\">180</span></a>\n",
       "</pre>\n"
      ],
      "text/plain": [
       "\u001b[2;36m                   \u001b[0m\u001b[2;36m \u001b[0m\u001b[33mWARNING \u001b[0m Unable to convert value to float: y                                     \u001b]8;id=827947;file:///Users/manonkempermann/safe-llm-finetune/venv/lib/python3.13/site-packages/inspect_ai/scorer/_metric.py\u001b\\\u001b[2m_metric.py\u001b[0m\u001b]8;;\u001b\\\u001b[2m:\u001b[0m\u001b]8;id=188549;file:///Users/manonkempermann/safe-llm-finetune/venv/lib/python3.13/site-packages/inspect_ai/scorer/_metric.py#180\u001b\\\u001b[2m180\u001b[0m\u001b]8;;\u001b\\\n"
      ]
     },
     "metadata": {},
     "output_type": "display_data"
    },
    {
     "data": {
      "text/html": [
       "<pre style=\"white-space:pre;overflow-x:auto;line-height:normal;font-family:Menlo,'DejaVu Sans Mono',consolas,'Courier New',monospace\"><span style=\"color: #7fbfbf; text-decoration-color: #7fbfbf\">                    </span><span style=\"color: #808000; text-decoration-color: #808000\">WARNING </span> Unable to convert value to float: y                                     <a href=\"file:///Users/manonkempermann/safe-llm-finetune/venv/lib/python3.13/site-packages/inspect_ai/scorer/_metric.py\" target=\"_blank\"><span style=\"color: #7f7f7f; text-decoration-color: #7f7f7f\">_metric.py</span></a><span style=\"color: #7f7f7f; text-decoration-color: #7f7f7f\">:</span><a href=\"file:///Users/manonkempermann/safe-llm-finetune/venv/lib/python3.13/site-packages/inspect_ai/scorer/_metric.py#180\" target=\"_blank\"><span style=\"color: #7f7f7f; text-decoration-color: #7f7f7f\">180</span></a>\n",
       "</pre>\n"
      ],
      "text/plain": [
       "\u001b[2;36m                   \u001b[0m\u001b[2;36m \u001b[0m\u001b[33mWARNING \u001b[0m Unable to convert value to float: y                                     \u001b]8;id=987120;file:///Users/manonkempermann/safe-llm-finetune/venv/lib/python3.13/site-packages/inspect_ai/scorer/_metric.py\u001b\\\u001b[2m_metric.py\u001b[0m\u001b]8;;\u001b\\\u001b[2m:\u001b[0m\u001b]8;id=793876;file:///Users/manonkempermann/safe-llm-finetune/venv/lib/python3.13/site-packages/inspect_ai/scorer/_metric.py#180\u001b\\\u001b[2m180\u001b[0m\u001b]8;;\u001b\\\n"
      ]
     },
     "metadata": {},
     "output_type": "display_data"
    },
    {
     "data": {
      "text/html": [
       "<pre style=\"white-space:pre;overflow-x:auto;line-height:normal;font-family:Menlo,'DejaVu Sans Mono',consolas,'Courier New',monospace\"><span style=\"color: #7fbfbf; text-decoration-color: #7fbfbf\">                    </span><span style=\"color: #808000; text-decoration-color: #808000\">WARNING </span> Unable to convert value to float: y                                     <a href=\"file:///Users/manonkempermann/safe-llm-finetune/venv/lib/python3.13/site-packages/inspect_ai/scorer/_metric.py\" target=\"_blank\"><span style=\"color: #7f7f7f; text-decoration-color: #7f7f7f\">_metric.py</span></a><span style=\"color: #7f7f7f; text-decoration-color: #7f7f7f\">:</span><a href=\"file:///Users/manonkempermann/safe-llm-finetune/venv/lib/python3.13/site-packages/inspect_ai/scorer/_metric.py#180\" target=\"_blank\"><span style=\"color: #7f7f7f; text-decoration-color: #7f7f7f\">180</span></a>\n",
       "</pre>\n"
      ],
      "text/plain": [
       "\u001b[2;36m                   \u001b[0m\u001b[2;36m \u001b[0m\u001b[33mWARNING \u001b[0m Unable to convert value to float: y                                     \u001b]8;id=535674;file:///Users/manonkempermann/safe-llm-finetune/venv/lib/python3.13/site-packages/inspect_ai/scorer/_metric.py\u001b\\\u001b[2m_metric.py\u001b[0m\u001b]8;;\u001b\\\u001b[2m:\u001b[0m\u001b]8;id=776530;file:///Users/manonkempermann/safe-llm-finetune/venv/lib/python3.13/site-packages/inspect_ai/scorer/_metric.py#180\u001b\\\u001b[2m180\u001b[0m\u001b]8;;\u001b\\\n"
      ]
     },
     "metadata": {},
     "output_type": "display_data"
    },
    {
     "data": {
      "text/html": [
       "<pre style=\"white-space:pre;overflow-x:auto;line-height:normal;font-family:Menlo,'DejaVu Sans Mono',consolas,'Courier New',monospace\"><span style=\"color: #7fbfbf; text-decoration-color: #7fbfbf\">[04/25/25 20:27:36] </span><span style=\"color: #808000; text-decoration-color: #808000\">WARNING </span> Unable to convert value to float: y                                     <a href=\"file:///Users/manonkempermann/safe-llm-finetune/venv/lib/python3.13/site-packages/inspect_ai/scorer/_metric.py\" target=\"_blank\"><span style=\"color: #7f7f7f; text-decoration-color: #7f7f7f\">_metric.py</span></a><span style=\"color: #7f7f7f; text-decoration-color: #7f7f7f\">:</span><a href=\"file:///Users/manonkempermann/safe-llm-finetune/venv/lib/python3.13/site-packages/inspect_ai/scorer/_metric.py#180\" target=\"_blank\"><span style=\"color: #7f7f7f; text-decoration-color: #7f7f7f\">180</span></a>\n",
       "</pre>\n"
      ],
      "text/plain": [
       "\u001b[2;36m[04/25/25 20:27:36]\u001b[0m\u001b[2;36m \u001b[0m\u001b[33mWARNING \u001b[0m Unable to convert value to float: y                                     \u001b]8;id=329033;file:///Users/manonkempermann/safe-llm-finetune/venv/lib/python3.13/site-packages/inspect_ai/scorer/_metric.py\u001b\\\u001b[2m_metric.py\u001b[0m\u001b]8;;\u001b\\\u001b[2m:\u001b[0m\u001b]8;id=281194;file:///Users/manonkempermann/safe-llm-finetune/venv/lib/python3.13/site-packages/inspect_ai/scorer/_metric.py#180\u001b\\\u001b[2m180\u001b[0m\u001b]8;;\u001b\\\n"
      ]
     },
     "metadata": {},
     "output_type": "display_data"
    },
    {
     "data": {
      "text/html": [
       "<pre style=\"white-space:pre;overflow-x:auto;line-height:normal;font-family:Menlo,'DejaVu Sans Mono',consolas,'Courier New',monospace\"><span style=\"color: #7fbfbf; text-decoration-color: #7fbfbf\">                    </span><span style=\"color: #808000; text-decoration-color: #808000\">WARNING </span> Unable to convert value to float: y                                     <a href=\"file:///Users/manonkempermann/safe-llm-finetune/venv/lib/python3.13/site-packages/inspect_ai/scorer/_metric.py\" target=\"_blank\"><span style=\"color: #7f7f7f; text-decoration-color: #7f7f7f\">_metric.py</span></a><span style=\"color: #7f7f7f; text-decoration-color: #7f7f7f\">:</span><a href=\"file:///Users/manonkempermann/safe-llm-finetune/venv/lib/python3.13/site-packages/inspect_ai/scorer/_metric.py#180\" target=\"_blank\"><span style=\"color: #7f7f7f; text-decoration-color: #7f7f7f\">180</span></a>\n",
       "</pre>\n"
      ],
      "text/plain": [
       "\u001b[2;36m                   \u001b[0m\u001b[2;36m \u001b[0m\u001b[33mWARNING \u001b[0m Unable to convert value to float: y                                     \u001b]8;id=92632;file:///Users/manonkempermann/safe-llm-finetune/venv/lib/python3.13/site-packages/inspect_ai/scorer/_metric.py\u001b\\\u001b[2m_metric.py\u001b[0m\u001b]8;;\u001b\\\u001b[2m:\u001b[0m\u001b]8;id=786311;file:///Users/manonkempermann/safe-llm-finetune/venv/lib/python3.13/site-packages/inspect_ai/scorer/_metric.py#180\u001b\\\u001b[2m180\u001b[0m\u001b]8;;\u001b\\\n"
      ]
     },
     "metadata": {},
     "output_type": "display_data"
    },
    {
     "data": {
      "text/html": [
       "<pre style=\"white-space:pre;overflow-x:auto;line-height:normal;font-family:Menlo,'DejaVu Sans Mono',consolas,'Courier New',monospace\"><span style=\"color: #7fbfbf; text-decoration-color: #7fbfbf\">                    </span><span style=\"color: #808000; text-decoration-color: #808000\">WARNING </span> Unable to convert value to float: y                                     <a href=\"file:///Users/manonkempermann/safe-llm-finetune/venv/lib/python3.13/site-packages/inspect_ai/scorer/_metric.py\" target=\"_blank\"><span style=\"color: #7f7f7f; text-decoration-color: #7f7f7f\">_metric.py</span></a><span style=\"color: #7f7f7f; text-decoration-color: #7f7f7f\">:</span><a href=\"file:///Users/manonkempermann/safe-llm-finetune/venv/lib/python3.13/site-packages/inspect_ai/scorer/_metric.py#180\" target=\"_blank\"><span style=\"color: #7f7f7f; text-decoration-color: #7f7f7f\">180</span></a>\n",
       "</pre>\n"
      ],
      "text/plain": [
       "\u001b[2;36m                   \u001b[0m\u001b[2;36m \u001b[0m\u001b[33mWARNING \u001b[0m Unable to convert value to float: y                                     \u001b]8;id=298415;file:///Users/manonkempermann/safe-llm-finetune/venv/lib/python3.13/site-packages/inspect_ai/scorer/_metric.py\u001b\\\u001b[2m_metric.py\u001b[0m\u001b]8;;\u001b\\\u001b[2m:\u001b[0m\u001b]8;id=250411;file:///Users/manonkempermann/safe-llm-finetune/venv/lib/python3.13/site-packages/inspect_ai/scorer/_metric.py#180\u001b\\\u001b[2m180\u001b[0m\u001b]8;;\u001b\\\n"
      ]
     },
     "metadata": {},
     "output_type": "display_data"
    },
    {
     "data": {
      "text/html": [
       "<pre style=\"white-space:pre;overflow-x:auto;line-height:normal;font-family:Menlo,'DejaVu Sans Mono',consolas,'Courier New',monospace\"><span style=\"color: #7fbfbf; text-decoration-color: #7fbfbf\">                    </span><span style=\"color: #808000; text-decoration-color: #808000\">WARNING </span> Unable to convert value to float: y                                     <a href=\"file:///Users/manonkempermann/safe-llm-finetune/venv/lib/python3.13/site-packages/inspect_ai/scorer/_metric.py\" target=\"_blank\"><span style=\"color: #7f7f7f; text-decoration-color: #7f7f7f\">_metric.py</span></a><span style=\"color: #7f7f7f; text-decoration-color: #7f7f7f\">:</span><a href=\"file:///Users/manonkempermann/safe-llm-finetune/venv/lib/python3.13/site-packages/inspect_ai/scorer/_metric.py#180\" target=\"_blank\"><span style=\"color: #7f7f7f; text-decoration-color: #7f7f7f\">180</span></a>\n",
       "</pre>\n"
      ],
      "text/plain": [
       "\u001b[2;36m                   \u001b[0m\u001b[2;36m \u001b[0m\u001b[33mWARNING \u001b[0m Unable to convert value to float: y                                     \u001b]8;id=8765;file:///Users/manonkempermann/safe-llm-finetune/venv/lib/python3.13/site-packages/inspect_ai/scorer/_metric.py\u001b\\\u001b[2m_metric.py\u001b[0m\u001b]8;;\u001b\\\u001b[2m:\u001b[0m\u001b]8;id=491065;file:///Users/manonkempermann/safe-llm-finetune/venv/lib/python3.13/site-packages/inspect_ai/scorer/_metric.py#180\u001b\\\u001b[2m180\u001b[0m\u001b]8;;\u001b\\\n"
      ]
     },
     "metadata": {},
     "output_type": "display_data"
    },
    {
     "data": {
      "text/html": [
       "<pre style=\"white-space:pre;overflow-x:auto;line-height:normal;font-family:Menlo,'DejaVu Sans Mono',consolas,'Courier New',monospace\"><span style=\"color: #7fbfbf; text-decoration-color: #7fbfbf\">                    </span><span style=\"color: #808000; text-decoration-color: #808000\">WARNING </span> Unable to convert value to float: y                                     <a href=\"file:///Users/manonkempermann/safe-llm-finetune/venv/lib/python3.13/site-packages/inspect_ai/scorer/_metric.py\" target=\"_blank\"><span style=\"color: #7f7f7f; text-decoration-color: #7f7f7f\">_metric.py</span></a><span style=\"color: #7f7f7f; text-decoration-color: #7f7f7f\">:</span><a href=\"file:///Users/manonkempermann/safe-llm-finetune/venv/lib/python3.13/site-packages/inspect_ai/scorer/_metric.py#180\" target=\"_blank\"><span style=\"color: #7f7f7f; text-decoration-color: #7f7f7f\">180</span></a>\n",
       "</pre>\n"
      ],
      "text/plain": [
       "\u001b[2;36m                   \u001b[0m\u001b[2;36m \u001b[0m\u001b[33mWARNING \u001b[0m Unable to convert value to float: y                                     \u001b]8;id=576099;file:///Users/manonkempermann/safe-llm-finetune/venv/lib/python3.13/site-packages/inspect_ai/scorer/_metric.py\u001b\\\u001b[2m_metric.py\u001b[0m\u001b]8;;\u001b\\\u001b[2m:\u001b[0m\u001b]8;id=210188;file:///Users/manonkempermann/safe-llm-finetune/venv/lib/python3.13/site-packages/inspect_ai/scorer/_metric.py#180\u001b\\\u001b[2m180\u001b[0m\u001b]8;;\u001b\\\n"
      ]
     },
     "metadata": {},
     "output_type": "display_data"
    },
    {
     "data": {
      "text/html": [
       "<pre style=\"white-space:pre;overflow-x:auto;line-height:normal;font-family:Menlo,'DejaVu Sans Mono',consolas,'Courier New',monospace\"><span style=\"color: #7fbfbf; text-decoration-color: #7fbfbf\">                    </span><span style=\"color: #808000; text-decoration-color: #808000\">WARNING </span> Unable to convert value to float: y                                     <a href=\"file:///Users/manonkempermann/safe-llm-finetune/venv/lib/python3.13/site-packages/inspect_ai/scorer/_metric.py\" target=\"_blank\"><span style=\"color: #7f7f7f; text-decoration-color: #7f7f7f\">_metric.py</span></a><span style=\"color: #7f7f7f; text-decoration-color: #7f7f7f\">:</span><a href=\"file:///Users/manonkempermann/safe-llm-finetune/venv/lib/python3.13/site-packages/inspect_ai/scorer/_metric.py#180\" target=\"_blank\"><span style=\"color: #7f7f7f; text-decoration-color: #7f7f7f\">180</span></a>\n",
       "</pre>\n"
      ],
      "text/plain": [
       "\u001b[2;36m                   \u001b[0m\u001b[2;36m \u001b[0m\u001b[33mWARNING \u001b[0m Unable to convert value to float: y                                     \u001b]8;id=420516;file:///Users/manonkempermann/safe-llm-finetune/venv/lib/python3.13/site-packages/inspect_ai/scorer/_metric.py\u001b\\\u001b[2m_metric.py\u001b[0m\u001b]8;;\u001b\\\u001b[2m:\u001b[0m\u001b]8;id=377850;file:///Users/manonkempermann/safe-llm-finetune/venv/lib/python3.13/site-packages/inspect_ai/scorer/_metric.py#180\u001b\\\u001b[2m180\u001b[0m\u001b]8;;\u001b\\\n"
      ]
     },
     "metadata": {},
     "output_type": "display_data"
    },
    {
     "data": {
      "text/html": [
       "<pre style=\"white-space:pre;overflow-x:auto;line-height:normal;font-family:Menlo,'DejaVu Sans Mono',consolas,'Courier New',monospace\"><span style=\"color: #7fbfbf; text-decoration-color: #7fbfbf\">                    </span><span style=\"color: #808000; text-decoration-color: #808000\">WARNING </span> Unable to convert value to float: y                                     <a href=\"file:///Users/manonkempermann/safe-llm-finetune/venv/lib/python3.13/site-packages/inspect_ai/scorer/_metric.py\" target=\"_blank\"><span style=\"color: #7f7f7f; text-decoration-color: #7f7f7f\">_metric.py</span></a><span style=\"color: #7f7f7f; text-decoration-color: #7f7f7f\">:</span><a href=\"file:///Users/manonkempermann/safe-llm-finetune/venv/lib/python3.13/site-packages/inspect_ai/scorer/_metric.py#180\" target=\"_blank\"><span style=\"color: #7f7f7f; text-decoration-color: #7f7f7f\">180</span></a>\n",
       "</pre>\n"
      ],
      "text/plain": [
       "\u001b[2;36m                   \u001b[0m\u001b[2;36m \u001b[0m\u001b[33mWARNING \u001b[0m Unable to convert value to float: y                                     \u001b]8;id=983269;file:///Users/manonkempermann/safe-llm-finetune/venv/lib/python3.13/site-packages/inspect_ai/scorer/_metric.py\u001b\\\u001b[2m_metric.py\u001b[0m\u001b]8;;\u001b\\\u001b[2m:\u001b[0m\u001b]8;id=157014;file:///Users/manonkempermann/safe-llm-finetune/venv/lib/python3.13/site-packages/inspect_ai/scorer/_metric.py#180\u001b\\\u001b[2m180\u001b[0m\u001b]8;;\u001b\\\n"
      ]
     },
     "metadata": {},
     "output_type": "display_data"
    },
    {
     "data": {
      "text/html": [
       "<pre style=\"white-space:pre;overflow-x:auto;line-height:normal;font-family:Menlo,'DejaVu Sans Mono',consolas,'Courier New',monospace\"><span style=\"color: #7fbfbf; text-decoration-color: #7fbfbf\">                    </span><span style=\"color: #808000; text-decoration-color: #808000\">WARNING </span> Unable to convert value to float: y                                     <a href=\"file:///Users/manonkempermann/safe-llm-finetune/venv/lib/python3.13/site-packages/inspect_ai/scorer/_metric.py\" target=\"_blank\"><span style=\"color: #7f7f7f; text-decoration-color: #7f7f7f\">_metric.py</span></a><span style=\"color: #7f7f7f; text-decoration-color: #7f7f7f\">:</span><a href=\"file:///Users/manonkempermann/safe-llm-finetune/venv/lib/python3.13/site-packages/inspect_ai/scorer/_metric.py#180\" target=\"_blank\"><span style=\"color: #7f7f7f; text-decoration-color: #7f7f7f\">180</span></a>\n",
       "</pre>\n"
      ],
      "text/plain": [
       "\u001b[2;36m                   \u001b[0m\u001b[2;36m \u001b[0m\u001b[33mWARNING \u001b[0m Unable to convert value to float: y                                     \u001b]8;id=675877;file:///Users/manonkempermann/safe-llm-finetune/venv/lib/python3.13/site-packages/inspect_ai/scorer/_metric.py\u001b\\\u001b[2m_metric.py\u001b[0m\u001b]8;;\u001b\\\u001b[2m:\u001b[0m\u001b]8;id=109082;file:///Users/manonkempermann/safe-llm-finetune/venv/lib/python3.13/site-packages/inspect_ai/scorer/_metric.py#180\u001b\\\u001b[2m180\u001b[0m\u001b]8;;\u001b\\\n"
      ]
     },
     "metadata": {},
     "output_type": "display_data"
    },
    {
     "data": {
      "text/html": [
       "<pre style=\"white-space:pre;overflow-x:auto;line-height:normal;font-family:Menlo,'DejaVu Sans Mono',consolas,'Courier New',monospace\"></pre>\n"
      ],
      "text/plain": []
     },
     "metadata": {},
     "output_type": "display_data"
    }
   ],
   "source": [
    "multi.run()"
   ]
  }
 ],
 "metadata": {
  "kernelspec": {
   "display_name": "venv",
   "language": "python",
   "name": "python3"
  },
  "language_info": {
   "codemirror_mode": {
    "name": "ipython",
    "version": 3
   },
   "file_extension": ".py",
   "mimetype": "text/x-python",
   "name": "python",
   "nbconvert_exporter": "python",
   "pygments_lexer": "ipython3",
   "version": "3.13.1"
  }
 },
 "nbformat": 4,
 "nbformat_minor": 5
}
