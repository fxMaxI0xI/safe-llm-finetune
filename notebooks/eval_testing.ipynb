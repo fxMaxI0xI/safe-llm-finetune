{
 "cells": [
  {
   "cell_type": "code",
   "execution_count": 1,
   "id": "b11c7bf4",
   "metadata": {},
   "outputs": [
    {
     "name": "stderr",
     "output_type": "stream",
     "text": [
      "Note: Environment variable`HF_TOKEN` is set and is the current active token independently from the token you've just configured.\n"
     ]
    }
   ],
   "source": [
    "from pathlib import Path\n",
    "import sys\n",
    "\n",
    "# Add project root to Python path to enable imports from the package\n",
    "sys.path.append(str(Path.cwd().parent))\n",
    "from safe_llm_finetune.evaluation.airbench import AirBench\n",
    "from safe_llm_finetune.evaluation.multitaskbench import MultiTaskBench\n",
    "from safe_llm_finetune.evaluation.codalbench import CodalBench\n",
    "import os\n",
    "from huggingface_hub import login\n",
    "\n",
    "\n",
    "HF_TOKEN = os.getenv(\"HF_TOKEN\")\n",
    "login(token=HF_TOKEN)"
   ]
  },
  {
   "cell_type": "code",
   "execution_count": 4,
   "id": "c0b896eb",
   "metadata": {},
   "outputs": [
    {
     "ename": "TypeError",
     "evalue": "Evaluator.__init__() got an unexpected keyword argument 'model_name'",
     "output_type": "error",
     "traceback": [
      "\u001b[31m---------------------------------------------------------------------------\u001b[39m",
      "\u001b[31mTypeError\u001b[39m                                 Traceback (most recent call last)",
      "\u001b[36mCell\u001b[39m\u001b[36m \u001b[39m\u001b[32mIn[4]\u001b[39m\u001b[32m, line 1\u001b[39m\n\u001b[32m----> \u001b[39m\u001b[32m1\u001b[39m air = \u001b[43mAirBench\u001b[49m\u001b[43m(\u001b[49m\u001b[43mmodel_name\u001b[49m\u001b[43m=\u001b[49m\u001b[33;43m\"\u001b[39;49m\u001b[33;43mGPT-4o-mini\u001b[39;49m\u001b[33;43m\"\u001b[39;49m\u001b[43m,\u001b[49m\u001b[43m \u001b[49m\u001b[43mfile_path\u001b[49m\u001b[43m=\u001b[49m\u001b[33;43m\"\u001b[39;49m\u001b[33;43mevallogs/GPT-4o-mini/test\u001b[39;49m\u001b[33;43m\"\u001b[39;49m\u001b[43m,\u001b[49m\u001b[43m \u001b[49m\u001b[43mdebug\u001b[49m\u001b[43m=\u001b[49m\u001b[38;5;28;43;01mTrue\u001b[39;49;00m\u001b[43m)\u001b[49m\n",
      "\u001b[31mTypeError\u001b[39m: Evaluator.__init__() got an unexpected keyword argument 'model_name'"
     ]
    }
   ],
   "source": [
    "air = AirBench(\n",
    "    model_name=\"GPT-4o-mini\", file_path=\"evallogs/GPT-4o-mini/test\", debug=True\n",
    ")"
   ]
  },
  {
   "cell_type": "code",
   "execution_count": null,
   "id": "6d160c56",
   "metadata": {},
   "outputs": [
    {
     "data": {
      "application/vnd.jupyter.widget-view+json": {
       "model_id": "d454e1390a5b456b9e8688aaa129b28b",
       "version_major": 2,
       "version_minor": 0
      },
      "text/plain": [
       "Output()"
      ]
     },
     "metadata": {},
     "output_type": "display_data"
    },
    {
     "name": "stdout",
     "output_type": "stream",
     "text": [
      "<class 'inspect_ai._eval.task.task.Task'>\n"
     ]
    },
    {
     "data": {
      "text/html": [
       "<pre style=\"white-space:pre;overflow-x:auto;line-height:normal;font-family:Menlo,'DejaVu Sans Mono',consolas,'Courier New',monospace\"></pre>\n"
      ],
      "text/plain": []
     },
     "metadata": {},
     "output_type": "display_data"
    }
   ],
   "source": [
    "air.run()"
   ]
  },
  {
   "cell_type": "code",
   "execution_count": null,
   "id": "069ae4a9",
   "metadata": {},
   "outputs": [],
   "source": [
    "codal = CodalBench(\n",
    "    model_name=\"GPT-4o-mini\", file_path=\"evallogs/GPT-4o-mini/test\", debug=True\n",
    ")"
   ]
  },
  {
   "cell_type": "code",
   "execution_count": null,
   "id": "1f2f3409",
   "metadata": {},
   "outputs": [
    {
     "data": {
      "application/vnd.jupyter.widget-view+json": {
       "model_id": "d2f960cc46754ea6b0a5f1544d8c0a4f",
       "version_major": 2,
       "version_minor": 0
      },
      "text/plain": [
       "Output()"
      ]
     },
     "metadata": {},
     "output_type": "display_data"
    },
    {
     "name": "stdout",
     "output_type": "stream",
     "text": [
      "<class 'list'>\n"
     ]
    },
    {
     "data": {
      "text/html": [
       "<pre style=\"white-space:pre;overflow-x:auto;line-height:normal;font-family:Menlo,'DejaVu Sans Mono',consolas,'Courier New',monospace\"></pre>\n"
      ],
      "text/plain": []
     },
     "metadata": {},
     "output_type": "display_data"
    },
    {
     "data": {
      "application/vnd.jupyter.widget-view+json": {
       "model_id": "af542bff6c1a495ea38de7a5a90f93ae",
       "version_major": 2,
       "version_minor": 0
      },
      "text/plain": [
       "Output()"
      ]
     },
     "metadata": {},
     "output_type": "display_data"
    },
    {
     "data": {
      "text/html": [
       "<pre style=\"white-space:pre;overflow-x:auto;line-height:normal;font-family:Menlo,'DejaVu Sans Mono',consolas,'Courier New',monospace\"></pre>\n"
      ],
      "text/plain": []
     },
     "metadata": {},
     "output_type": "display_data"
    },
    {
     "ename": "KeyboardInterrupt",
     "evalue": "",
     "output_type": "error",
     "traceback": [
      "\u001b[31m---------------------------------------------------------------------------\u001b[39m",
      "\u001b[31mKeyboardInterrupt\u001b[39m                         Traceback (most recent call last)",
      "\u001b[36mCell\u001b[39m\u001b[36m \u001b[39m\u001b[32mIn[3]\u001b[39m\u001b[32m, line 1\u001b[39m\n\u001b[32m----> \u001b[39m\u001b[32m1\u001b[39m \u001b[43mcodal\u001b[49m\u001b[43m.\u001b[49m\u001b[43mrunEval\u001b[49m\u001b[43m(\u001b[49m\u001b[43m)\u001b[49m\n",
      "\u001b[36mFile \u001b[39m\u001b[32m~/safe-llm-finetune/safe_llm_finetune/evaluation/base.py:50\u001b[39m, in \u001b[36mEvaluator.runEval\u001b[39m\u001b[34m(self)\u001b[39m\n\u001b[32m     48\u001b[39m \u001b[38;5;28;01mif\u001b[39;00m \u001b[38;5;28mself\u001b[39m.debug:\n\u001b[32m     49\u001b[39m     \u001b[38;5;28mprint\u001b[39m(\u001b[38;5;28mtype\u001b[39m(task))\n\u001b[32m---> \u001b[39m\u001b[32m50\u001b[39m     results = \u001b[43minspect_eval\u001b[49m\u001b[43m(\u001b[49m\u001b[43mtasks\u001b[49m\u001b[43m=\u001b[49m\u001b[43mtask\u001b[49m\u001b[43m,\u001b[49m\u001b[43m \u001b[49m\u001b[43mmodel\u001b[49m\u001b[43m=\u001b[49m\u001b[43m \u001b[49m\u001b[33;43m\"\u001b[39;49m\u001b[33;43mopenai/gpt-4o-mini\u001b[39;49m\u001b[33;43m\"\u001b[39;49m\u001b[43m,\u001b[49m\u001b[43m \u001b[49m\u001b[43mlog_dir\u001b[49m\u001b[43m=\u001b[49m\u001b[43m \u001b[49m\u001b[38;5;28;43mself\u001b[39;49m\u001b[43m.\u001b[49m\u001b[43mfile_path\u001b[49m\u001b[43m \u001b[49m\u001b[43m+\u001b[49m\u001b[43m \u001b[49m\u001b[33;43m\"\u001b[39;49m\u001b[33;43m/eval_log\u001b[39;49m\u001b[33;43m\"\u001b[39;49m\u001b[43m,\u001b[49m\u001b[43m \u001b[49m\u001b[43mlimit\u001b[49m\u001b[43m=\u001b[49m\u001b[32;43m10\u001b[39;49m\u001b[43m)\u001b[49m\n\u001b[32m     51\u001b[39m \u001b[38;5;28;01melse\u001b[39;00m:\n\u001b[32m     52\u001b[39m     results = inspect_eval(tasks=task, model= model, log_dir= \u001b[38;5;28mself\u001b[39m.file_path + \u001b[33m\"\u001b[39m\u001b[33m/eval_log\u001b[39m\u001b[33m\"\u001b[39m, model_args=\u001b[38;5;28mdict\u001b[39m(device=\u001b[33m\"\u001b[39m\u001b[33mcuda:0\u001b[39m\u001b[33m\"\u001b[39m))\n",
      "\u001b[36mFile \u001b[39m\u001b[32m~/safe-llm-finetune/venv/lib/python3.13/site-packages/inspect_ai/_eval/eval.py:241\u001b[39m, in \u001b[36meval\u001b[39m\u001b[34m(tasks, model, model_base_url, model_args, model_roles, task_args, sandbox, sandbox_cleanup, solver, tags, metadata, trace, display, approval, log_level, log_level_transcript, log_dir, log_format, limit, sample_id, epochs, fail_on_error, debug_errors, message_limit, token_limit, time_limit, working_limit, max_samples, max_tasks, max_subprocesses, max_sandboxes, log_samples, log_images, log_buffer, log_shared, score, score_display, **kwargs)\u001b[39m\n\u001b[32m    238\u001b[39m         \u001b[38;5;28;01melse\u001b[39;00m:\n\u001b[32m    239\u001b[39m             \u001b[38;5;28;01mraise\u001b[39;00m\n\u001b[32m--> \u001b[39m\u001b[32m241\u001b[39m \u001b[38;5;28;01mreturn\u001b[39;00m \u001b[43mtask_display\u001b[49m\u001b[43m(\u001b[49m\u001b[43m)\u001b[49m\u001b[43m.\u001b[49m\u001b[43mrun_task_app\u001b[49m\u001b[43m(\u001b[49m\u001b[43mrun_task_app\u001b[49m\u001b[43m)\u001b[49m\n",
      "\u001b[36mFile \u001b[39m\u001b[32m~/safe-llm-finetune/venv/lib/python3.13/site-packages/inspect_ai/_display/rich/display.py:80\u001b[39m, in \u001b[36mRichDisplay.run_task_app\u001b[39m\u001b[34m(self, main)\u001b[39m\n\u001b[32m     77\u001b[39m \u001b[38;5;129m@override\u001b[39m\n\u001b[32m     78\u001b[39m \u001b[38;5;28;01mdef\u001b[39;00m\u001b[38;5;250m \u001b[39m\u001b[34mrun_task_app\u001b[39m(\u001b[38;5;28mself\u001b[39m, main: Callable[[], Coroutine[\u001b[38;5;28;01mNone\u001b[39;00m, \u001b[38;5;28;01mNone\u001b[39;00m, TR]]) -> TR:\n\u001b[32m     79\u001b[39m     \u001b[38;5;28;01mif\u001b[39;00m running_in_notebook():\n\u001b[32m---> \u001b[39m\u001b[32m80\u001b[39m         \u001b[38;5;28;01mreturn\u001b[39;00m \u001b[43mrun_coroutine\u001b[49m\u001b[43m(\u001b[49m\u001b[43mmain\u001b[49m\u001b[43m(\u001b[49m\u001b[43m)\u001b[49m\u001b[43m)\u001b[49m\n\u001b[32m     81\u001b[39m     \u001b[38;5;28;01melse\u001b[39;00m:\n\u001b[32m     82\u001b[39m         \u001b[38;5;28;01mreturn\u001b[39;00m anyio.run(main, backend=configured_async_backend())\n",
      "\u001b[36mFile \u001b[39m\u001b[32m~/safe-llm-finetune/venv/lib/python3.13/site-packages/inspect_ai/_util/_async.py:116\u001b[39m, in \u001b[36mrun_coroutine\u001b[39m\u001b[34m(coroutine)\u001b[39m\n\u001b[32m    114\u001b[39m \u001b[38;5;28;01mif\u001b[39;00m running_in_notebook():\n\u001b[32m    115\u001b[39m     init_nest_asyncio()\n\u001b[32m--> \u001b[39m\u001b[32m116\u001b[39m     \u001b[38;5;28;01mreturn\u001b[39;00m \u001b[43masyncio\u001b[49m\u001b[43m.\u001b[49m\u001b[43mrun\u001b[49m\u001b[43m(\u001b[49m\u001b[43mcoroutine\u001b[49m\u001b[43m)\u001b[49m\n\u001b[32m    117\u001b[39m \u001b[38;5;28;01melse\u001b[39;00m:\n\u001b[32m    118\u001b[39m     \u001b[38;5;28;01mtry\u001b[39;00m:\n\u001b[32m    119\u001b[39m         \u001b[38;5;66;03m# this will throw if there is no running loop\u001b[39;00m\n",
      "\u001b[36mFile \u001b[39m\u001b[32m~/safe-llm-finetune/venv/lib/python3.13/site-packages/nest_asyncio.py:30\u001b[39m, in \u001b[36m_patch_asyncio.<locals>.run\u001b[39m\u001b[34m(main, debug)\u001b[39m\n\u001b[32m     28\u001b[39m task = asyncio.ensure_future(main)\n\u001b[32m     29\u001b[39m \u001b[38;5;28;01mtry\u001b[39;00m:\n\u001b[32m---> \u001b[39m\u001b[32m30\u001b[39m     \u001b[38;5;28;01mreturn\u001b[39;00m \u001b[43mloop\u001b[49m\u001b[43m.\u001b[49m\u001b[43mrun_until_complete\u001b[49m\u001b[43m(\u001b[49m\u001b[43mtask\u001b[49m\u001b[43m)\u001b[49m\n\u001b[32m     31\u001b[39m \u001b[38;5;28;01mfinally\u001b[39;00m:\n\u001b[32m     32\u001b[39m     \u001b[38;5;28;01mif\u001b[39;00m \u001b[38;5;129;01mnot\u001b[39;00m task.done():\n",
      "\u001b[36mFile \u001b[39m\u001b[32m~/safe-llm-finetune/venv/lib/python3.13/site-packages/nest_asyncio.py:92\u001b[39m, in \u001b[36m_patch_loop.<locals>.run_until_complete\u001b[39m\u001b[34m(self, future)\u001b[39m\n\u001b[32m     90\u001b[39m     f._log_destroy_pending = \u001b[38;5;28;01mFalse\u001b[39;00m\n\u001b[32m     91\u001b[39m \u001b[38;5;28;01mwhile\u001b[39;00m \u001b[38;5;129;01mnot\u001b[39;00m f.done():\n\u001b[32m---> \u001b[39m\u001b[32m92\u001b[39m     \u001b[38;5;28;43mself\u001b[39;49m\u001b[43m.\u001b[49m\u001b[43m_run_once\u001b[49m\u001b[43m(\u001b[49m\u001b[43m)\u001b[49m\n\u001b[32m     93\u001b[39m     \u001b[38;5;28;01mif\u001b[39;00m \u001b[38;5;28mself\u001b[39m._stopping:\n\u001b[32m     94\u001b[39m         \u001b[38;5;28;01mbreak\u001b[39;00m\n",
      "\u001b[36mFile \u001b[39m\u001b[32m~/safe-llm-finetune/venv/lib/python3.13/site-packages/nest_asyncio.py:115\u001b[39m, in \u001b[36m_patch_loop.<locals>._run_once\u001b[39m\u001b[34m(self)\u001b[39m\n\u001b[32m    108\u001b[39m     heappop(scheduled)\n\u001b[32m    110\u001b[39m timeout = (\n\u001b[32m    111\u001b[39m     \u001b[32m0\u001b[39m \u001b[38;5;28;01mif\u001b[39;00m ready \u001b[38;5;129;01mor\u001b[39;00m \u001b[38;5;28mself\u001b[39m._stopping\n\u001b[32m    112\u001b[39m     \u001b[38;5;28;01melse\u001b[39;00m \u001b[38;5;28mmin\u001b[39m(\u001b[38;5;28mmax\u001b[39m(\n\u001b[32m    113\u001b[39m         scheduled[\u001b[32m0\u001b[39m]._when - \u001b[38;5;28mself\u001b[39m.time(), \u001b[32m0\u001b[39m), \u001b[32m86400\u001b[39m) \u001b[38;5;28;01mif\u001b[39;00m scheduled\n\u001b[32m    114\u001b[39m     \u001b[38;5;28;01melse\u001b[39;00m \u001b[38;5;28;01mNone\u001b[39;00m)\n\u001b[32m--> \u001b[39m\u001b[32m115\u001b[39m event_list = \u001b[38;5;28;43mself\u001b[39;49m\u001b[43m.\u001b[49m\u001b[43m_selector\u001b[49m\u001b[43m.\u001b[49m\u001b[43mselect\u001b[49m\u001b[43m(\u001b[49m\u001b[43mtimeout\u001b[49m\u001b[43m)\u001b[49m\n\u001b[32m    116\u001b[39m \u001b[38;5;28mself\u001b[39m._process_events(event_list)\n\u001b[32m    118\u001b[39m end_time = \u001b[38;5;28mself\u001b[39m.time() + \u001b[38;5;28mself\u001b[39m._clock_resolution\n",
      "\u001b[36mFile \u001b[39m\u001b[32m/opt/homebrew/Cellar/python@3.13/3.13.1/Frameworks/Python.framework/Versions/3.13/lib/python3.13/selectors.py:548\u001b[39m, in \u001b[36mKqueueSelector.select\u001b[39m\u001b[34m(self, timeout)\u001b[39m\n\u001b[32m    546\u001b[39m ready = []\n\u001b[32m    547\u001b[39m \u001b[38;5;28;01mtry\u001b[39;00m:\n\u001b[32m--> \u001b[39m\u001b[32m548\u001b[39m     kev_list = \u001b[38;5;28;43mself\u001b[39;49m\u001b[43m.\u001b[49m\u001b[43m_selector\u001b[49m\u001b[43m.\u001b[49m\u001b[43mcontrol\u001b[49m\u001b[43m(\u001b[49m\u001b[38;5;28;43;01mNone\u001b[39;49;00m\u001b[43m,\u001b[49m\u001b[43m \u001b[49m\u001b[43mmax_ev\u001b[49m\u001b[43m,\u001b[49m\u001b[43m \u001b[49m\u001b[43mtimeout\u001b[49m\u001b[43m)\u001b[49m\n\u001b[32m    549\u001b[39m \u001b[38;5;28;01mexcept\u001b[39;00m \u001b[38;5;167;01mInterruptedError\u001b[39;00m:\n\u001b[32m    550\u001b[39m     \u001b[38;5;28;01mreturn\u001b[39;00m ready\n",
      "\u001b[31mKeyboardInterrupt\u001b[39m: "
     ]
    }
   ],
   "source": [
    "codal.runEval()"
   ]
  },
  {
   "cell_type": "code",
   "execution_count": 4,
   "id": "5ec2637b",
   "metadata": {},
   "outputs": [],
   "source": [
    "multi = MultiTaskBench(debug=True)"
   ]
  },
  {
   "cell_type": "code",
   "execution_count": 6,
   "id": "adf950e6",
   "metadata": {},
   "outputs": [
    {
     "data": {
      "application/vnd.jupyter.widget-view+json": {
       "model_id": "30ec7d3ba7894304a991fefa8d6805ae",
       "version_major": 2,
       "version_minor": 0
      },
      "text/plain": [
       "Output()"
      ]
     },
     "metadata": {},
     "output_type": "display_data"
    },
    {
     "data": {
      "text/html": [
       "<pre style=\"white-space:pre;overflow-x:auto;line-height:normal;font-family:Menlo,'DejaVu Sans Mono',consolas,'Courier New',monospace\"><span style=\"color: #7fbfbf; text-decoration-color: #7fbfbf\">[05/30/25 09:32:51] </span><span style=\"color: #808000; text-decoration-color: #808000\">WARNING </span> Unable to convert value to float: y                                     <a href=\"file:///Users/manonkempermann/safe-llm-finetune/venv/lib/python3.13/site-packages/inspect_ai/scorer/_metric.py\" target=\"_blank\"><span style=\"color: #7f7f7f; text-decoration-color: #7f7f7f\">_metric.py</span></a><span style=\"color: #7f7f7f; text-decoration-color: #7f7f7f\">:</span><a href=\"file:///Users/manonkempermann/safe-llm-finetune/venv/lib/python3.13/site-packages/inspect_ai/scorer/_metric.py#180\" target=\"_blank\"><span style=\"color: #7f7f7f; text-decoration-color: #7f7f7f\">180</span></a>\n",
       "</pre>\n"
      ],
      "text/plain": [
       "\u001b[2;36m[05/30/25 09:32:51]\u001b[0m\u001b[2;36m \u001b[0m\u001b[33mWARNING \u001b[0m Unable to convert value to float: y                                     \u001b]8;id=864434;file:///Users/manonkempermann/safe-llm-finetune/venv/lib/python3.13/site-packages/inspect_ai/scorer/_metric.py\u001b\\\u001b[2m_metric.py\u001b[0m\u001b]8;;\u001b\\\u001b[2m:\u001b[0m\u001b]8;id=53013;file:///Users/manonkempermann/safe-llm-finetune/venv/lib/python3.13/site-packages/inspect_ai/scorer/_metric.py#180\u001b\\\u001b[2m180\u001b[0m\u001b]8;;\u001b\\\n"
      ]
     },
     "metadata": {},
     "output_type": "display_data"
    },
    {
     "data": {
      "text/html": [
       "<pre style=\"white-space:pre;overflow-x:auto;line-height:normal;font-family:Menlo,'DejaVu Sans Mono',consolas,'Courier New',monospace\">&lt;class 'float'&gt;\n",
       "</pre>\n"
      ],
      "text/plain": [
       "<class 'float'>\n"
      ]
     },
     "metadata": {},
     "output_type": "display_data"
    },
    {
     "data": {
      "text/html": [
       "<pre style=\"white-space:pre;overflow-x:auto;line-height:normal;font-family:Menlo,'DejaVu Sans Mono',consolas,'Courier New',monospace\"><span style=\"color: #7fbfbf; text-decoration-color: #7fbfbf\">[05/30/25 09:32:52] </span><span style=\"color: #808000; text-decoration-color: #808000\">WARNING </span> Unable to convert value to float: y                                     <a href=\"file:///Users/manonkempermann/safe-llm-finetune/venv/lib/python3.13/site-packages/inspect_ai/scorer/_metric.py\" target=\"_blank\"><span style=\"color: #7f7f7f; text-decoration-color: #7f7f7f\">_metric.py</span></a><span style=\"color: #7f7f7f; text-decoration-color: #7f7f7f\">:</span><a href=\"file:///Users/manonkempermann/safe-llm-finetune/venv/lib/python3.13/site-packages/inspect_ai/scorer/_metric.py#180\" target=\"_blank\"><span style=\"color: #7f7f7f; text-decoration-color: #7f7f7f\">180</span></a>\n",
       "</pre>\n"
      ],
      "text/plain": [
       "\u001b[2;36m[05/30/25 09:32:52]\u001b[0m\u001b[2;36m \u001b[0m\u001b[33mWARNING \u001b[0m Unable to convert value to float: y                                     \u001b]8;id=490409;file:///Users/manonkempermann/safe-llm-finetune/venv/lib/python3.13/site-packages/inspect_ai/scorer/_metric.py\u001b\\\u001b[2m_metric.py\u001b[0m\u001b]8;;\u001b\\\u001b[2m:\u001b[0m\u001b]8;id=823335;file:///Users/manonkempermann/safe-llm-finetune/venv/lib/python3.13/site-packages/inspect_ai/scorer/_metric.py#180\u001b\\\u001b[2m180\u001b[0m\u001b]8;;\u001b\\\n"
      ]
     },
     "metadata": {},
     "output_type": "display_data"
    },
    {
     "data": {
      "text/html": [
       "<pre style=\"white-space:pre;overflow-x:auto;line-height:normal;font-family:Menlo,'DejaVu Sans Mono',consolas,'Courier New',monospace\"><span style=\"color: #7fbfbf; text-decoration-color: #7fbfbf\">                    </span><span style=\"color: #808000; text-decoration-color: #808000\">WARNING </span> Unable to convert value to float: y                                     <a href=\"file:///Users/manonkempermann/safe-llm-finetune/venv/lib/python3.13/site-packages/inspect_ai/scorer/_metric.py\" target=\"_blank\"><span style=\"color: #7f7f7f; text-decoration-color: #7f7f7f\">_metric.py</span></a><span style=\"color: #7f7f7f; text-decoration-color: #7f7f7f\">:</span><a href=\"file:///Users/manonkempermann/safe-llm-finetune/venv/lib/python3.13/site-packages/inspect_ai/scorer/_metric.py#180\" target=\"_blank\"><span style=\"color: #7f7f7f; text-decoration-color: #7f7f7f\">180</span></a>\n",
       "</pre>\n"
      ],
      "text/plain": [
       "\u001b[2;36m                   \u001b[0m\u001b[2;36m \u001b[0m\u001b[33mWARNING \u001b[0m Unable to convert value to float: y                                     \u001b]8;id=185300;file:///Users/manonkempermann/safe-llm-finetune/venv/lib/python3.13/site-packages/inspect_ai/scorer/_metric.py\u001b\\\u001b[2m_metric.py\u001b[0m\u001b]8;;\u001b\\\u001b[2m:\u001b[0m\u001b]8;id=104264;file:///Users/manonkempermann/safe-llm-finetune/venv/lib/python3.13/site-packages/inspect_ai/scorer/_metric.py#180\u001b\\\u001b[2m180\u001b[0m\u001b]8;;\u001b\\\n"
      ]
     },
     "metadata": {},
     "output_type": "display_data"
    },
    {
     "data": {
      "text/html": [
       "<pre style=\"white-space:pre;overflow-x:auto;line-height:normal;font-family:Menlo,'DejaVu Sans Mono',consolas,'Courier New',monospace\"><span style=\"color: #7fbfbf; text-decoration-color: #7fbfbf\">                    </span><span style=\"color: #808000; text-decoration-color: #808000\">WARNING </span> Unable to convert value to float: y                                     <a href=\"file:///Users/manonkempermann/safe-llm-finetune/venv/lib/python3.13/site-packages/inspect_ai/scorer/_metric.py\" target=\"_blank\"><span style=\"color: #7f7f7f; text-decoration-color: #7f7f7f\">_metric.py</span></a><span style=\"color: #7f7f7f; text-decoration-color: #7f7f7f\">:</span><a href=\"file:///Users/manonkempermann/safe-llm-finetune/venv/lib/python3.13/site-packages/inspect_ai/scorer/_metric.py#180\" target=\"_blank\"><span style=\"color: #7f7f7f; text-decoration-color: #7f7f7f\">180</span></a>\n",
       "</pre>\n"
      ],
      "text/plain": [
       "\u001b[2;36m                   \u001b[0m\u001b[2;36m \u001b[0m\u001b[33mWARNING \u001b[0m Unable to convert value to float: y                                     \u001b]8;id=735119;file:///Users/manonkempermann/safe-llm-finetune/venv/lib/python3.13/site-packages/inspect_ai/scorer/_metric.py\u001b\\\u001b[2m_metric.py\u001b[0m\u001b]8;;\u001b\\\u001b[2m:\u001b[0m\u001b]8;id=778041;file:///Users/manonkempermann/safe-llm-finetune/venv/lib/python3.13/site-packages/inspect_ai/scorer/_metric.py#180\u001b\\\u001b[2m180\u001b[0m\u001b]8;;\u001b\\\n"
      ]
     },
     "metadata": {},
     "output_type": "display_data"
    },
    {
     "data": {
      "text/html": [
       "<pre style=\"white-space:pre;overflow-x:auto;line-height:normal;font-family:Menlo,'DejaVu Sans Mono',consolas,'Courier New',monospace\"><span style=\"color: #7fbfbf; text-decoration-color: #7fbfbf\">                    </span><span style=\"color: #808000; text-decoration-color: #808000\">WARNING </span> Unable to convert value to float: y                                     <a href=\"file:///Users/manonkempermann/safe-llm-finetune/venv/lib/python3.13/site-packages/inspect_ai/scorer/_metric.py\" target=\"_blank\"><span style=\"color: #7f7f7f; text-decoration-color: #7f7f7f\">_metric.py</span></a><span style=\"color: #7f7f7f; text-decoration-color: #7f7f7f\">:</span><a href=\"file:///Users/manonkempermann/safe-llm-finetune/venv/lib/python3.13/site-packages/inspect_ai/scorer/_metric.py#180\" target=\"_blank\"><span style=\"color: #7f7f7f; text-decoration-color: #7f7f7f\">180</span></a>\n",
       "</pre>\n"
      ],
      "text/plain": [
       "\u001b[2;36m                   \u001b[0m\u001b[2;36m \u001b[0m\u001b[33mWARNING \u001b[0m Unable to convert value to float: y                                     \u001b]8;id=22380;file:///Users/manonkempermann/safe-llm-finetune/venv/lib/python3.13/site-packages/inspect_ai/scorer/_metric.py\u001b\\\u001b[2m_metric.py\u001b[0m\u001b]8;;\u001b\\\u001b[2m:\u001b[0m\u001b]8;id=773527;file:///Users/manonkempermann/safe-llm-finetune/venv/lib/python3.13/site-packages/inspect_ai/scorer/_metric.py#180\u001b\\\u001b[2m180\u001b[0m\u001b]8;;\u001b\\\n"
      ]
     },
     "metadata": {},
     "output_type": "display_data"
    },
    {
     "data": {
      "text/html": [
       "<pre style=\"white-space:pre;overflow-x:auto;line-height:normal;font-family:Menlo,'DejaVu Sans Mono',consolas,'Courier New',monospace\">&lt;class 'float'&gt;\n",
       "</pre>\n"
      ],
      "text/plain": [
       "<class 'float'>\n"
      ]
     },
     "metadata": {},
     "output_type": "display_data"
    },
    {
     "data": {
      "text/html": [
       "<pre style=\"white-space:pre;overflow-x:auto;line-height:normal;font-family:Menlo,'DejaVu Sans Mono',consolas,'Courier New',monospace\">&lt;class 'float'&gt;\n",
       "</pre>\n"
      ],
      "text/plain": [
       "<class 'float'>\n"
      ]
     },
     "metadata": {},
     "output_type": "display_data"
    },
    {
     "data": {
      "text/html": [
       "<pre style=\"white-space:pre;overflow-x:auto;line-height:normal;font-family:Menlo,'DejaVu Sans Mono',consolas,'Courier New',monospace\">&lt;class 'float'&gt;\n",
       "</pre>\n"
      ],
      "text/plain": [
       "<class 'float'>\n"
      ]
     },
     "metadata": {},
     "output_type": "display_data"
    },
    {
     "data": {
      "text/html": [
       "<pre style=\"white-space:pre;overflow-x:auto;line-height:normal;font-family:Menlo,'DejaVu Sans Mono',consolas,'Courier New',monospace\">&lt;class 'float'&gt;\n",
       "</pre>\n"
      ],
      "text/plain": [
       "<class 'float'>\n"
      ]
     },
     "metadata": {},
     "output_type": "display_data"
    },
    {
     "data": {
      "text/html": [
       "<pre style=\"white-space:pre;overflow-x:auto;line-height:normal;font-family:Menlo,'DejaVu Sans Mono',consolas,'Courier New',monospace\"><span style=\"color: #7fbfbf; text-decoration-color: #7fbfbf\">[05/30/25 09:32:54] </span><span style=\"color: #808000; text-decoration-color: #808000\">WARNING </span> Unable to convert value to float: y                                     <a href=\"file:///Users/manonkempermann/safe-llm-finetune/venv/lib/python3.13/site-packages/inspect_ai/scorer/_metric.py\" target=\"_blank\"><span style=\"color: #7f7f7f; text-decoration-color: #7f7f7f\">_metric.py</span></a><span style=\"color: #7f7f7f; text-decoration-color: #7f7f7f\">:</span><a href=\"file:///Users/manonkempermann/safe-llm-finetune/venv/lib/python3.13/site-packages/inspect_ai/scorer/_metric.py#180\" target=\"_blank\"><span style=\"color: #7f7f7f; text-decoration-color: #7f7f7f\">180</span></a>\n",
       "</pre>\n"
      ],
      "text/plain": [
       "\u001b[2;36m[05/30/25 09:32:54]\u001b[0m\u001b[2;36m \u001b[0m\u001b[33mWARNING \u001b[0m Unable to convert value to float: y                                     \u001b]8;id=753478;file:///Users/manonkempermann/safe-llm-finetune/venv/lib/python3.13/site-packages/inspect_ai/scorer/_metric.py\u001b\\\u001b[2m_metric.py\u001b[0m\u001b]8;;\u001b\\\u001b[2m:\u001b[0m\u001b]8;id=476130;file:///Users/manonkempermann/safe-llm-finetune/venv/lib/python3.13/site-packages/inspect_ai/scorer/_metric.py#180\u001b\\\u001b[2m180\u001b[0m\u001b]8;;\u001b\\\n"
      ]
     },
     "metadata": {},
     "output_type": "display_data"
    },
    {
     "data": {
      "text/html": [
       "<pre style=\"white-space:pre;overflow-x:auto;line-height:normal;font-family:Menlo,'DejaVu Sans Mono',consolas,'Courier New',monospace\"><span style=\"color: #7fbfbf; text-decoration-color: #7fbfbf\">                    </span><span style=\"color: #808000; text-decoration-color: #808000\">WARNING </span> Unable to convert value to float: y                                     <a href=\"file:///Users/manonkempermann/safe-llm-finetune/venv/lib/python3.13/site-packages/inspect_ai/scorer/_metric.py\" target=\"_blank\"><span style=\"color: #7f7f7f; text-decoration-color: #7f7f7f\">_metric.py</span></a><span style=\"color: #7f7f7f; text-decoration-color: #7f7f7f\">:</span><a href=\"file:///Users/manonkempermann/safe-llm-finetune/venv/lib/python3.13/site-packages/inspect_ai/scorer/_metric.py#180\" target=\"_blank\"><span style=\"color: #7f7f7f; text-decoration-color: #7f7f7f\">180</span></a>\n",
       "</pre>\n"
      ],
      "text/plain": [
       "\u001b[2;36m                   \u001b[0m\u001b[2;36m \u001b[0m\u001b[33mWARNING \u001b[0m Unable to convert value to float: y                                     \u001b]8;id=339534;file:///Users/manonkempermann/safe-llm-finetune/venv/lib/python3.13/site-packages/inspect_ai/scorer/_metric.py\u001b\\\u001b[2m_metric.py\u001b[0m\u001b]8;;\u001b\\\u001b[2m:\u001b[0m\u001b]8;id=570873;file:///Users/manonkempermann/safe-llm-finetune/venv/lib/python3.13/site-packages/inspect_ai/scorer/_metric.py#180\u001b\\\u001b[2m180\u001b[0m\u001b]8;;\u001b\\\n"
      ]
     },
     "metadata": {},
     "output_type": "display_data"
    },
    {
     "data": {
      "text/html": [
       "<pre style=\"white-space:pre;overflow-x:auto;line-height:normal;font-family:Menlo,'DejaVu Sans Mono',consolas,'Courier New',monospace\"><span style=\"color: #7fbfbf; text-decoration-color: #7fbfbf\">                    </span><span style=\"color: #808000; text-decoration-color: #808000\">WARNING </span> Unable to convert value to float: y                                     <a href=\"file:///Users/manonkempermann/safe-llm-finetune/venv/lib/python3.13/site-packages/inspect_ai/scorer/_metric.py\" target=\"_blank\"><span style=\"color: #7f7f7f; text-decoration-color: #7f7f7f\">_metric.py</span></a><span style=\"color: #7f7f7f; text-decoration-color: #7f7f7f\">:</span><a href=\"file:///Users/manonkempermann/safe-llm-finetune/venv/lib/python3.13/site-packages/inspect_ai/scorer/_metric.py#180\" target=\"_blank\"><span style=\"color: #7f7f7f; text-decoration-color: #7f7f7f\">180</span></a>\n",
       "</pre>\n"
      ],
      "text/plain": [
       "\u001b[2;36m                   \u001b[0m\u001b[2;36m \u001b[0m\u001b[33mWARNING \u001b[0m Unable to convert value to float: y                                     \u001b]8;id=69894;file:///Users/manonkempermann/safe-llm-finetune/venv/lib/python3.13/site-packages/inspect_ai/scorer/_metric.py\u001b\\\u001b[2m_metric.py\u001b[0m\u001b]8;;\u001b\\\u001b[2m:\u001b[0m\u001b]8;id=325459;file:///Users/manonkempermann/safe-llm-finetune/venv/lib/python3.13/site-packages/inspect_ai/scorer/_metric.py#180\u001b\\\u001b[2m180\u001b[0m\u001b]8;;\u001b\\\n"
      ]
     },
     "metadata": {},
     "output_type": "display_data"
    },
    {
     "data": {
      "text/html": [
       "<pre style=\"white-space:pre;overflow-x:auto;line-height:normal;font-family:Menlo,'DejaVu Sans Mono',consolas,'Courier New',monospace\"><span style=\"color: #7fbfbf; text-decoration-color: #7fbfbf\">                    </span><span style=\"color: #808000; text-decoration-color: #808000\">WARNING </span> Unable to convert value to float: y                                     <a href=\"file:///Users/manonkempermann/safe-llm-finetune/venv/lib/python3.13/site-packages/inspect_ai/scorer/_metric.py\" target=\"_blank\"><span style=\"color: #7f7f7f; text-decoration-color: #7f7f7f\">_metric.py</span></a><span style=\"color: #7f7f7f; text-decoration-color: #7f7f7f\">:</span><a href=\"file:///Users/manonkempermann/safe-llm-finetune/venv/lib/python3.13/site-packages/inspect_ai/scorer/_metric.py#180\" target=\"_blank\"><span style=\"color: #7f7f7f; text-decoration-color: #7f7f7f\">180</span></a>\n",
       "</pre>\n"
      ],
      "text/plain": [
       "\u001b[2;36m                   \u001b[0m\u001b[2;36m \u001b[0m\u001b[33mWARNING \u001b[0m Unable to convert value to float: y                                     \u001b]8;id=213607;file:///Users/manonkempermann/safe-llm-finetune/venv/lib/python3.13/site-packages/inspect_ai/scorer/_metric.py\u001b\\\u001b[2m_metric.py\u001b[0m\u001b]8;;\u001b\\\u001b[2m:\u001b[0m\u001b]8;id=228623;file:///Users/manonkempermann/safe-llm-finetune/venv/lib/python3.13/site-packages/inspect_ai/scorer/_metric.py#180\u001b\\\u001b[2m180\u001b[0m\u001b]8;;\u001b\\\n"
      ]
     },
     "metadata": {},
     "output_type": "display_data"
    },
    {
     "data": {
      "text/html": [
       "<pre style=\"white-space:pre;overflow-x:auto;line-height:normal;font-family:Menlo,'DejaVu Sans Mono',consolas,'Courier New',monospace\"><span style=\"color: #7fbfbf; text-decoration-color: #7fbfbf\">                    </span><span style=\"color: #808000; text-decoration-color: #808000\">WARNING </span> Unable to convert value to float: y                                     <a href=\"file:///Users/manonkempermann/safe-llm-finetune/venv/lib/python3.13/site-packages/inspect_ai/scorer/_metric.py\" target=\"_blank\"><span style=\"color: #7f7f7f; text-decoration-color: #7f7f7f\">_metric.py</span></a><span style=\"color: #7f7f7f; text-decoration-color: #7f7f7f\">:</span><a href=\"file:///Users/manonkempermann/safe-llm-finetune/venv/lib/python3.13/site-packages/inspect_ai/scorer/_metric.py#180\" target=\"_blank\"><span style=\"color: #7f7f7f; text-decoration-color: #7f7f7f\">180</span></a>\n",
       "</pre>\n"
      ],
      "text/plain": [
       "\u001b[2;36m                   \u001b[0m\u001b[2;36m \u001b[0m\u001b[33mWARNING \u001b[0m Unable to convert value to float: y                                     \u001b]8;id=287936;file:///Users/manonkempermann/safe-llm-finetune/venv/lib/python3.13/site-packages/inspect_ai/scorer/_metric.py\u001b\\\u001b[2m_metric.py\u001b[0m\u001b]8;;\u001b\\\u001b[2m:\u001b[0m\u001b]8;id=326216;file:///Users/manonkempermann/safe-llm-finetune/venv/lib/python3.13/site-packages/inspect_ai/scorer/_metric.py#180\u001b\\\u001b[2m180\u001b[0m\u001b]8;;\u001b\\\n"
      ]
     },
     "metadata": {},
     "output_type": "display_data"
    },
    {
     "data": {
      "text/html": [
       "<pre style=\"white-space:pre;overflow-x:auto;line-height:normal;font-family:Menlo,'DejaVu Sans Mono',consolas,'Courier New',monospace\"><span style=\"color: #7fbfbf; text-decoration-color: #7fbfbf\">                    </span><span style=\"color: #808000; text-decoration-color: #808000\">WARNING </span> Unable to convert value to float: y                                     <a href=\"file:///Users/manonkempermann/safe-llm-finetune/venv/lib/python3.13/site-packages/inspect_ai/scorer/_metric.py\" target=\"_blank\"><span style=\"color: #7f7f7f; text-decoration-color: #7f7f7f\">_metric.py</span></a><span style=\"color: #7f7f7f; text-decoration-color: #7f7f7f\">:</span><a href=\"file:///Users/manonkempermann/safe-llm-finetune/venv/lib/python3.13/site-packages/inspect_ai/scorer/_metric.py#180\" target=\"_blank\"><span style=\"color: #7f7f7f; text-decoration-color: #7f7f7f\">180</span></a>\n",
       "</pre>\n"
      ],
      "text/plain": [
       "\u001b[2;36m                   \u001b[0m\u001b[2;36m \u001b[0m\u001b[33mWARNING \u001b[0m Unable to convert value to float: y                                     \u001b]8;id=504962;file:///Users/manonkempermann/safe-llm-finetune/venv/lib/python3.13/site-packages/inspect_ai/scorer/_metric.py\u001b\\\u001b[2m_metric.py\u001b[0m\u001b]8;;\u001b\\\u001b[2m:\u001b[0m\u001b]8;id=551805;file:///Users/manonkempermann/safe-llm-finetune/venv/lib/python3.13/site-packages/inspect_ai/scorer/_metric.py#180\u001b\\\u001b[2m180\u001b[0m\u001b]8;;\u001b\\\n"
      ]
     },
     "metadata": {},
     "output_type": "display_data"
    },
    {
     "data": {
      "text/html": [
       "<pre style=\"white-space:pre;overflow-x:auto;line-height:normal;font-family:Menlo,'DejaVu Sans Mono',consolas,'Courier New',monospace\"><span style=\"color: #7fbfbf; text-decoration-color: #7fbfbf\">                    </span><span style=\"color: #808000; text-decoration-color: #808000\">WARNING </span> Unable to convert value to float: y                                     <a href=\"file:///Users/manonkempermann/safe-llm-finetune/venv/lib/python3.13/site-packages/inspect_ai/scorer/_metric.py\" target=\"_blank\"><span style=\"color: #7f7f7f; text-decoration-color: #7f7f7f\">_metric.py</span></a><span style=\"color: #7f7f7f; text-decoration-color: #7f7f7f\">:</span><a href=\"file:///Users/manonkempermann/safe-llm-finetune/venv/lib/python3.13/site-packages/inspect_ai/scorer/_metric.py#180\" target=\"_blank\"><span style=\"color: #7f7f7f; text-decoration-color: #7f7f7f\">180</span></a>\n",
       "</pre>\n"
      ],
      "text/plain": [
       "\u001b[2;36m                   \u001b[0m\u001b[2;36m \u001b[0m\u001b[33mWARNING \u001b[0m Unable to convert value to float: y                                     \u001b]8;id=9459;file:///Users/manonkempermann/safe-llm-finetune/venv/lib/python3.13/site-packages/inspect_ai/scorer/_metric.py\u001b\\\u001b[2m_metric.py\u001b[0m\u001b]8;;\u001b\\\u001b[2m:\u001b[0m\u001b]8;id=913886;file:///Users/manonkempermann/safe-llm-finetune/venv/lib/python3.13/site-packages/inspect_ai/scorer/_metric.py#180\u001b\\\u001b[2m180\u001b[0m\u001b]8;;\u001b\\\n"
      ]
     },
     "metadata": {},
     "output_type": "display_data"
    },
    {
     "data": {
      "text/html": [
       "<pre style=\"white-space:pre;overflow-x:auto;line-height:normal;font-family:Menlo,'DejaVu Sans Mono',consolas,'Courier New',monospace\"><span style=\"color: #7fbfbf; text-decoration-color: #7fbfbf\">                    </span><span style=\"color: #808000; text-decoration-color: #808000\">WARNING </span> Unable to convert value to float: y                                     <a href=\"file:///Users/manonkempermann/safe-llm-finetune/venv/lib/python3.13/site-packages/inspect_ai/scorer/_metric.py\" target=\"_blank\"><span style=\"color: #7f7f7f; text-decoration-color: #7f7f7f\">_metric.py</span></a><span style=\"color: #7f7f7f; text-decoration-color: #7f7f7f\">:</span><a href=\"file:///Users/manonkempermann/safe-llm-finetune/venv/lib/python3.13/site-packages/inspect_ai/scorer/_metric.py#180\" target=\"_blank\"><span style=\"color: #7f7f7f; text-decoration-color: #7f7f7f\">180</span></a>\n",
       "</pre>\n"
      ],
      "text/plain": [
       "\u001b[2;36m                   \u001b[0m\u001b[2;36m \u001b[0m\u001b[33mWARNING \u001b[0m Unable to convert value to float: y                                     \u001b]8;id=32748;file:///Users/manonkempermann/safe-llm-finetune/venv/lib/python3.13/site-packages/inspect_ai/scorer/_metric.py\u001b\\\u001b[2m_metric.py\u001b[0m\u001b]8;;\u001b\\\u001b[2m:\u001b[0m\u001b]8;id=519393;file:///Users/manonkempermann/safe-llm-finetune/venv/lib/python3.13/site-packages/inspect_ai/scorer/_metric.py#180\u001b\\\u001b[2m180\u001b[0m\u001b]8;;\u001b\\\n"
      ]
     },
     "metadata": {},
     "output_type": "display_data"
    },
    {
     "data": {
      "text/html": [
       "<pre style=\"white-space:pre;overflow-x:auto;line-height:normal;font-family:Menlo,'DejaVu Sans Mono',consolas,'Courier New',monospace\">&lt;class 'float'&gt;\n",
       "</pre>\n"
      ],
      "text/plain": [
       "<class 'float'>\n"
      ]
     },
     "metadata": {},
     "output_type": "display_data"
    },
    {
     "data": {
      "text/html": [
       "<pre style=\"white-space:pre;overflow-x:auto;line-height:normal;font-family:Menlo,'DejaVu Sans Mono',consolas,'Courier New',monospace\">&lt;class 'float'&gt;\n",
       "</pre>\n"
      ],
      "text/plain": [
       "<class 'float'>\n"
      ]
     },
     "metadata": {},
     "output_type": "display_data"
    },
    {
     "data": {
      "text/html": [
       "<pre style=\"white-space:pre;overflow-x:auto;line-height:normal;font-family:Menlo,'DejaVu Sans Mono',consolas,'Courier New',monospace\">&lt;class 'float'&gt;\n",
       "</pre>\n"
      ],
      "text/plain": [
       "<class 'float'>\n"
      ]
     },
     "metadata": {},
     "output_type": "display_data"
    },
    {
     "data": {
      "text/html": [
       "<pre style=\"white-space:pre;overflow-x:auto;line-height:normal;font-family:Menlo,'DejaVu Sans Mono',consolas,'Courier New',monospace\">&lt;class 'float'&gt;\n",
       "</pre>\n"
      ],
      "text/plain": [
       "<class 'float'>\n"
      ]
     },
     "metadata": {},
     "output_type": "display_data"
    },
    {
     "data": {
      "text/html": [
       "<pre style=\"white-space:pre;overflow-x:auto;line-height:normal;font-family:Menlo,'DejaVu Sans Mono',consolas,'Courier New',monospace\">&lt;class 'float'&gt;\n",
       "</pre>\n"
      ],
      "text/plain": [
       "<class 'float'>\n"
      ]
     },
     "metadata": {},
     "output_type": "display_data"
    },
    {
     "data": {
      "text/html": [
       "<pre style=\"white-space:pre;overflow-x:auto;line-height:normal;font-family:Menlo,'DejaVu Sans Mono',consolas,'Courier New',monospace\">&lt;class 'float'&gt;\n",
       "</pre>\n"
      ],
      "text/plain": [
       "<class 'float'>\n"
      ]
     },
     "metadata": {},
     "output_type": "display_data"
    },
    {
     "data": {
      "text/html": [
       "<pre style=\"white-space:pre;overflow-x:auto;line-height:normal;font-family:Menlo,'DejaVu Sans Mono',consolas,'Courier New',monospace\">&lt;class 'float'&gt;\n",
       "</pre>\n"
      ],
      "text/plain": [
       "<class 'float'>\n"
      ]
     },
     "metadata": {},
     "output_type": "display_data"
    },
    {
     "data": {
      "text/html": [
       "<pre style=\"white-space:pre;overflow-x:auto;line-height:normal;font-family:Menlo,'DejaVu Sans Mono',consolas,'Courier New',monospace\">&lt;class 'float'&gt;\n",
       "</pre>\n"
      ],
      "text/plain": [
       "<class 'float'>\n"
      ]
     },
     "metadata": {},
     "output_type": "display_data"
    },
    {
     "data": {
      "text/html": [
       "<pre style=\"white-space:pre;overflow-x:auto;line-height:normal;font-family:Menlo,'DejaVu Sans Mono',consolas,'Courier New',monospace\"><span style=\"color: #7fbfbf; text-decoration-color: #7fbfbf\">[05/30/25 09:32:58] </span><span style=\"color: #808000; text-decoration-color: #808000\">WARNING </span> Unable to convert value to float: y                                     <a href=\"file:///Users/manonkempermann/safe-llm-finetune/venv/lib/python3.13/site-packages/inspect_ai/scorer/_metric.py\" target=\"_blank\"><span style=\"color: #7f7f7f; text-decoration-color: #7f7f7f\">_metric.py</span></a><span style=\"color: #7f7f7f; text-decoration-color: #7f7f7f\">:</span><a href=\"file:///Users/manonkempermann/safe-llm-finetune/venv/lib/python3.13/site-packages/inspect_ai/scorer/_metric.py#180\" target=\"_blank\"><span style=\"color: #7f7f7f; text-decoration-color: #7f7f7f\">180</span></a>\n",
       "</pre>\n"
      ],
      "text/plain": [
       "\u001b[2;36m[05/30/25 09:32:58]\u001b[0m\u001b[2;36m \u001b[0m\u001b[33mWARNING \u001b[0m Unable to convert value to float: y                                     \u001b]8;id=702799;file:///Users/manonkempermann/safe-llm-finetune/venv/lib/python3.13/site-packages/inspect_ai/scorer/_metric.py\u001b\\\u001b[2m_metric.py\u001b[0m\u001b]8;;\u001b\\\u001b[2m:\u001b[0m\u001b]8;id=275491;file:///Users/manonkempermann/safe-llm-finetune/venv/lib/python3.13/site-packages/inspect_ai/scorer/_metric.py#180\u001b\\\u001b[2m180\u001b[0m\u001b]8;;\u001b\\\n"
      ]
     },
     "metadata": {},
     "output_type": "display_data"
    },
    {
     "data": {
      "text/html": [
       "<pre style=\"white-space:pre;overflow-x:auto;line-height:normal;font-family:Menlo,'DejaVu Sans Mono',consolas,'Courier New',monospace\"><span style=\"color: #7fbfbf; text-decoration-color: #7fbfbf\">                    </span><span style=\"color: #808000; text-decoration-color: #808000\">WARNING </span> Unable to convert value to float: y                                     <a href=\"file:///Users/manonkempermann/safe-llm-finetune/venv/lib/python3.13/site-packages/inspect_ai/scorer/_metric.py\" target=\"_blank\"><span style=\"color: #7f7f7f; text-decoration-color: #7f7f7f\">_metric.py</span></a><span style=\"color: #7f7f7f; text-decoration-color: #7f7f7f\">:</span><a href=\"file:///Users/manonkempermann/safe-llm-finetune/venv/lib/python3.13/site-packages/inspect_ai/scorer/_metric.py#180\" target=\"_blank\"><span style=\"color: #7f7f7f; text-decoration-color: #7f7f7f\">180</span></a>\n",
       "</pre>\n"
      ],
      "text/plain": [
       "\u001b[2;36m                   \u001b[0m\u001b[2;36m \u001b[0m\u001b[33mWARNING \u001b[0m Unable to convert value to float: y                                     \u001b]8;id=451991;file:///Users/manonkempermann/safe-llm-finetune/venv/lib/python3.13/site-packages/inspect_ai/scorer/_metric.py\u001b\\\u001b[2m_metric.py\u001b[0m\u001b]8;;\u001b\\\u001b[2m:\u001b[0m\u001b]8;id=84824;file:///Users/manonkempermann/safe-llm-finetune/venv/lib/python3.13/site-packages/inspect_ai/scorer/_metric.py#180\u001b\\\u001b[2m180\u001b[0m\u001b]8;;\u001b\\\n"
      ]
     },
     "metadata": {},
     "output_type": "display_data"
    },
    {
     "data": {
      "text/html": [
       "<pre style=\"white-space:pre;overflow-x:auto;line-height:normal;font-family:Menlo,'DejaVu Sans Mono',consolas,'Courier New',monospace\"><span style=\"color: #7fbfbf; text-decoration-color: #7fbfbf\">                    </span><span style=\"color: #808000; text-decoration-color: #808000\">WARNING </span> Unable to convert value to float: y                                     <a href=\"file:///Users/manonkempermann/safe-llm-finetune/venv/lib/python3.13/site-packages/inspect_ai/scorer/_metric.py\" target=\"_blank\"><span style=\"color: #7f7f7f; text-decoration-color: #7f7f7f\">_metric.py</span></a><span style=\"color: #7f7f7f; text-decoration-color: #7f7f7f\">:</span><a href=\"file:///Users/manonkempermann/safe-llm-finetune/venv/lib/python3.13/site-packages/inspect_ai/scorer/_metric.py#180\" target=\"_blank\"><span style=\"color: #7f7f7f; text-decoration-color: #7f7f7f\">180</span></a>\n",
       "</pre>\n"
      ],
      "text/plain": [
       "\u001b[2;36m                   \u001b[0m\u001b[2;36m \u001b[0m\u001b[33mWARNING \u001b[0m Unable to convert value to float: y                                     \u001b]8;id=133454;file:///Users/manonkempermann/safe-llm-finetune/venv/lib/python3.13/site-packages/inspect_ai/scorer/_metric.py\u001b\\\u001b[2m_metric.py\u001b[0m\u001b]8;;\u001b\\\u001b[2m:\u001b[0m\u001b]8;id=822964;file:///Users/manonkempermann/safe-llm-finetune/venv/lib/python3.13/site-packages/inspect_ai/scorer/_metric.py#180\u001b\\\u001b[2m180\u001b[0m\u001b]8;;\u001b\\\n"
      ]
     },
     "metadata": {},
     "output_type": "display_data"
    },
    {
     "data": {
      "text/html": [
       "<pre style=\"white-space:pre;overflow-x:auto;line-height:normal;font-family:Menlo,'DejaVu Sans Mono',consolas,'Courier New',monospace\"><span style=\"color: #7fbfbf; text-decoration-color: #7fbfbf\">                    </span><span style=\"color: #808000; text-decoration-color: #808000\">WARNING </span> Unable to convert value to float: y                                     <a href=\"file:///Users/manonkempermann/safe-llm-finetune/venv/lib/python3.13/site-packages/inspect_ai/scorer/_metric.py\" target=\"_blank\"><span style=\"color: #7f7f7f; text-decoration-color: #7f7f7f\">_metric.py</span></a><span style=\"color: #7f7f7f; text-decoration-color: #7f7f7f\">:</span><a href=\"file:///Users/manonkempermann/safe-llm-finetune/venv/lib/python3.13/site-packages/inspect_ai/scorer/_metric.py#180\" target=\"_blank\"><span style=\"color: #7f7f7f; text-decoration-color: #7f7f7f\">180</span></a>\n",
       "</pre>\n"
      ],
      "text/plain": [
       "\u001b[2;36m                   \u001b[0m\u001b[2;36m \u001b[0m\u001b[33mWARNING \u001b[0m Unable to convert value to float: y                                     \u001b]8;id=288905;file:///Users/manonkempermann/safe-llm-finetune/venv/lib/python3.13/site-packages/inspect_ai/scorer/_metric.py\u001b\\\u001b[2m_metric.py\u001b[0m\u001b]8;;\u001b\\\u001b[2m:\u001b[0m\u001b]8;id=500807;file:///Users/manonkempermann/safe-llm-finetune/venv/lib/python3.13/site-packages/inspect_ai/scorer/_metric.py#180\u001b\\\u001b[2m180\u001b[0m\u001b]8;;\u001b\\\n"
      ]
     },
     "metadata": {},
     "output_type": "display_data"
    },
    {
     "data": {
      "text/html": [
       "<pre style=\"white-space:pre;overflow-x:auto;line-height:normal;font-family:Menlo,'DejaVu Sans Mono',consolas,'Courier New',monospace\"><span style=\"color: #7fbfbf; text-decoration-color: #7fbfbf\">                    </span><span style=\"color: #808000; text-decoration-color: #808000\">WARNING </span> Unable to convert value to float: y                                     <a href=\"file:///Users/manonkempermann/safe-llm-finetune/venv/lib/python3.13/site-packages/inspect_ai/scorer/_metric.py\" target=\"_blank\"><span style=\"color: #7f7f7f; text-decoration-color: #7f7f7f\">_metric.py</span></a><span style=\"color: #7f7f7f; text-decoration-color: #7f7f7f\">:</span><a href=\"file:///Users/manonkempermann/safe-llm-finetune/venv/lib/python3.13/site-packages/inspect_ai/scorer/_metric.py#180\" target=\"_blank\"><span style=\"color: #7f7f7f; text-decoration-color: #7f7f7f\">180</span></a>\n",
       "</pre>\n"
      ],
      "text/plain": [
       "\u001b[2;36m                   \u001b[0m\u001b[2;36m \u001b[0m\u001b[33mWARNING \u001b[0m Unable to convert value to float: y                                     \u001b]8;id=329293;file:///Users/manonkempermann/safe-llm-finetune/venv/lib/python3.13/site-packages/inspect_ai/scorer/_metric.py\u001b\\\u001b[2m_metric.py\u001b[0m\u001b]8;;\u001b\\\u001b[2m:\u001b[0m\u001b]8;id=431718;file:///Users/manonkempermann/safe-llm-finetune/venv/lib/python3.13/site-packages/inspect_ai/scorer/_metric.py#180\u001b\\\u001b[2m180\u001b[0m\u001b]8;;\u001b\\\n"
      ]
     },
     "metadata": {},
     "output_type": "display_data"
    },
    {
     "data": {
      "text/html": [
       "<pre style=\"white-space:pre;overflow-x:auto;line-height:normal;font-family:Menlo,'DejaVu Sans Mono',consolas,'Courier New',monospace\"><span style=\"color: #7fbfbf; text-decoration-color: #7fbfbf\">                    </span><span style=\"color: #808000; text-decoration-color: #808000\">WARNING </span> Unable to convert value to float: y                                     <a href=\"file:///Users/manonkempermann/safe-llm-finetune/venv/lib/python3.13/site-packages/inspect_ai/scorer/_metric.py\" target=\"_blank\"><span style=\"color: #7f7f7f; text-decoration-color: #7f7f7f\">_metric.py</span></a><span style=\"color: #7f7f7f; text-decoration-color: #7f7f7f\">:</span><a href=\"file:///Users/manonkempermann/safe-llm-finetune/venv/lib/python3.13/site-packages/inspect_ai/scorer/_metric.py#180\" target=\"_blank\"><span style=\"color: #7f7f7f; text-decoration-color: #7f7f7f\">180</span></a>\n",
       "</pre>\n"
      ],
      "text/plain": [
       "\u001b[2;36m                   \u001b[0m\u001b[2;36m \u001b[0m\u001b[33mWARNING \u001b[0m Unable to convert value to float: y                                     \u001b]8;id=624060;file:///Users/manonkempermann/safe-llm-finetune/venv/lib/python3.13/site-packages/inspect_ai/scorer/_metric.py\u001b\\\u001b[2m_metric.py\u001b[0m\u001b]8;;\u001b\\\u001b[2m:\u001b[0m\u001b]8;id=729643;file:///Users/manonkempermann/safe-llm-finetune/venv/lib/python3.13/site-packages/inspect_ai/scorer/_metric.py#180\u001b\\\u001b[2m180\u001b[0m\u001b]8;;\u001b\\\n"
      ]
     },
     "metadata": {},
     "output_type": "display_data"
    },
    {
     "data": {
      "text/html": [
       "<pre style=\"white-space:pre;overflow-x:auto;line-height:normal;font-family:Menlo,'DejaVu Sans Mono',consolas,'Courier New',monospace\"><span style=\"color: #7fbfbf; text-decoration-color: #7fbfbf\">                    </span><span style=\"color: #808000; text-decoration-color: #808000\">WARNING </span> Unable to convert value to float: y                                     <a href=\"file:///Users/manonkempermann/safe-llm-finetune/venv/lib/python3.13/site-packages/inspect_ai/scorer/_metric.py\" target=\"_blank\"><span style=\"color: #7f7f7f; text-decoration-color: #7f7f7f\">_metric.py</span></a><span style=\"color: #7f7f7f; text-decoration-color: #7f7f7f\">:</span><a href=\"file:///Users/manonkempermann/safe-llm-finetune/venv/lib/python3.13/site-packages/inspect_ai/scorer/_metric.py#180\" target=\"_blank\"><span style=\"color: #7f7f7f; text-decoration-color: #7f7f7f\">180</span></a>\n",
       "</pre>\n"
      ],
      "text/plain": [
       "\u001b[2;36m                   \u001b[0m\u001b[2;36m \u001b[0m\u001b[33mWARNING \u001b[0m Unable to convert value to float: y                                     \u001b]8;id=603992;file:///Users/manonkempermann/safe-llm-finetune/venv/lib/python3.13/site-packages/inspect_ai/scorer/_metric.py\u001b\\\u001b[2m_metric.py\u001b[0m\u001b]8;;\u001b\\\u001b[2m:\u001b[0m\u001b]8;id=690035;file:///Users/manonkempermann/safe-llm-finetune/venv/lib/python3.13/site-packages/inspect_ai/scorer/_metric.py#180\u001b\\\u001b[2m180\u001b[0m\u001b]8;;\u001b\\\n"
      ]
     },
     "metadata": {},
     "output_type": "display_data"
    },
    {
     "data": {
      "text/html": [
       "<pre style=\"white-space:pre;overflow-x:auto;line-height:normal;font-family:Menlo,'DejaVu Sans Mono',consolas,'Courier New',monospace\"><span style=\"color: #7fbfbf; text-decoration-color: #7fbfbf\">                    </span><span style=\"color: #808000; text-decoration-color: #808000\">WARNING </span> Unable to convert value to float: y                                     <a href=\"file:///Users/manonkempermann/safe-llm-finetune/venv/lib/python3.13/site-packages/inspect_ai/scorer/_metric.py\" target=\"_blank\"><span style=\"color: #7f7f7f; text-decoration-color: #7f7f7f\">_metric.py</span></a><span style=\"color: #7f7f7f; text-decoration-color: #7f7f7f\">:</span><a href=\"file:///Users/manonkempermann/safe-llm-finetune/venv/lib/python3.13/site-packages/inspect_ai/scorer/_metric.py#180\" target=\"_blank\"><span style=\"color: #7f7f7f; text-decoration-color: #7f7f7f\">180</span></a>\n",
       "</pre>\n"
      ],
      "text/plain": [
       "\u001b[2;36m                   \u001b[0m\u001b[2;36m \u001b[0m\u001b[33mWARNING \u001b[0m Unable to convert value to float: y                                     \u001b]8;id=729595;file:///Users/manonkempermann/safe-llm-finetune/venv/lib/python3.13/site-packages/inspect_ai/scorer/_metric.py\u001b\\\u001b[2m_metric.py\u001b[0m\u001b]8;;\u001b\\\u001b[2m:\u001b[0m\u001b]8;id=716561;file:///Users/manonkempermann/safe-llm-finetune/venv/lib/python3.13/site-packages/inspect_ai/scorer/_metric.py#180\u001b\\\u001b[2m180\u001b[0m\u001b]8;;\u001b\\\n"
      ]
     },
     "metadata": {},
     "output_type": "display_data"
    },
    {
     "data": {
      "text/html": [
       "<pre style=\"white-space:pre;overflow-x:auto;line-height:normal;font-family:Menlo,'DejaVu Sans Mono',consolas,'Courier New',monospace\">&lt;class 'float'&gt;\n",
       "</pre>\n"
      ],
      "text/plain": [
       "<class 'float'>\n"
      ]
     },
     "metadata": {},
     "output_type": "display_data"
    },
    {
     "data": {
      "text/html": [
       "<pre style=\"white-space:pre;overflow-x:auto;line-height:normal;font-family:Menlo,'DejaVu Sans Mono',consolas,'Courier New',monospace\">&lt;class 'float'&gt;\n",
       "</pre>\n"
      ],
      "text/plain": [
       "<class 'float'>\n"
      ]
     },
     "metadata": {},
     "output_type": "display_data"
    },
    {
     "data": {
      "text/html": [
       "<pre style=\"white-space:pre;overflow-x:auto;line-height:normal;font-family:Menlo,'DejaVu Sans Mono',consolas,'Courier New',monospace\">&lt;class 'float'&gt;\n",
       "</pre>\n"
      ],
      "text/plain": [
       "<class 'float'>\n"
      ]
     },
     "metadata": {},
     "output_type": "display_data"
    },
    {
     "data": {
      "text/html": [
       "<pre style=\"white-space:pre;overflow-x:auto;line-height:normal;font-family:Menlo,'DejaVu Sans Mono',consolas,'Courier New',monospace\">&lt;class 'float'&gt;\n",
       "</pre>\n"
      ],
      "text/plain": [
       "<class 'float'>\n"
      ]
     },
     "metadata": {},
     "output_type": "display_data"
    },
    {
     "data": {
      "text/html": [
       "<pre style=\"white-space:pre;overflow-x:auto;line-height:normal;font-family:Menlo,'DejaVu Sans Mono',consolas,'Courier New',monospace\">&lt;class 'float'&gt;\n",
       "</pre>\n"
      ],
      "text/plain": [
       "<class 'float'>\n"
      ]
     },
     "metadata": {},
     "output_type": "display_data"
    },
    {
     "data": {
      "text/html": [
       "<pre style=\"white-space:pre;overflow-x:auto;line-height:normal;font-family:Menlo,'DejaVu Sans Mono',consolas,'Courier New',monospace\">&lt;class 'float'&gt;\n",
       "</pre>\n"
      ],
      "text/plain": [
       "<class 'float'>\n"
      ]
     },
     "metadata": {},
     "output_type": "display_data"
    },
    {
     "data": {
      "text/html": [
       "<pre style=\"white-space:pre;overflow-x:auto;line-height:normal;font-family:Menlo,'DejaVu Sans Mono',consolas,'Courier New',monospace\">&lt;class 'float'&gt;\n",
       "</pre>\n"
      ],
      "text/plain": [
       "<class 'float'>\n"
      ]
     },
     "metadata": {},
     "output_type": "display_data"
    },
    {
     "data": {
      "text/html": [
       "<pre style=\"white-space:pre;overflow-x:auto;line-height:normal;font-family:Menlo,'DejaVu Sans Mono',consolas,'Courier New',monospace\">&lt;class 'float'&gt;\n",
       "</pre>\n"
      ],
      "text/plain": [
       "<class 'float'>\n"
      ]
     },
     "metadata": {},
     "output_type": "display_data"
    },
    {
     "data": {
      "text/html": [
       "<pre style=\"white-space:pre;overflow-x:auto;line-height:normal;font-family:Menlo,'DejaVu Sans Mono',consolas,'Courier New',monospace\">&lt;class 'int'&gt;\n",
       "</pre>\n"
      ],
      "text/plain": [
       "<class 'int'>\n"
      ]
     },
     "metadata": {},
     "output_type": "display_data"
    },
    {
     "data": {
      "text/html": [
       "<pre style=\"white-space:pre;overflow-x:auto;line-height:normal;font-family:Menlo,'DejaVu Sans Mono',consolas,'Courier New',monospace\">&lt;class 'int'&gt;\n",
       "</pre>\n"
      ],
      "text/plain": [
       "<class 'int'>\n"
      ]
     },
     "metadata": {},
     "output_type": "display_data"
    },
    {
     "data": {
      "text/html": [
       "<pre style=\"white-space:pre;overflow-x:auto;line-height:normal;font-family:Menlo,'DejaVu Sans Mono',consolas,'Courier New',monospace\"><span style=\"color: #7fbfbf; text-decoration-color: #7fbfbf\">                    </span><span style=\"color: #808000; text-decoration-color: #808000\">WARNING </span> Unable to convert value to float: y                                     <a href=\"file:///Users/manonkempermann/safe-llm-finetune/venv/lib/python3.13/site-packages/inspect_ai/scorer/_metric.py\" target=\"_blank\"><span style=\"color: #7f7f7f; text-decoration-color: #7f7f7f\">_metric.py</span></a><span style=\"color: #7f7f7f; text-decoration-color: #7f7f7f\">:</span><a href=\"file:///Users/manonkempermann/safe-llm-finetune/venv/lib/python3.13/site-packages/inspect_ai/scorer/_metric.py#180\" target=\"_blank\"><span style=\"color: #7f7f7f; text-decoration-color: #7f7f7f\">180</span></a>\n",
       "</pre>\n"
      ],
      "text/plain": [
       "\u001b[2;36m                   \u001b[0m\u001b[2;36m \u001b[0m\u001b[33mWARNING \u001b[0m Unable to convert value to float: y                                     \u001b]8;id=375676;file:///Users/manonkempermann/safe-llm-finetune/venv/lib/python3.13/site-packages/inspect_ai/scorer/_metric.py\u001b\\\u001b[2m_metric.py\u001b[0m\u001b]8;;\u001b\\\u001b[2m:\u001b[0m\u001b]8;id=639698;file:///Users/manonkempermann/safe-llm-finetune/venv/lib/python3.13/site-packages/inspect_ai/scorer/_metric.py#180\u001b\\\u001b[2m180\u001b[0m\u001b]8;;\u001b\\\n"
      ]
     },
     "metadata": {},
     "output_type": "display_data"
    },
    {
     "data": {
      "text/html": [
       "<pre style=\"white-space:pre;overflow-x:auto;line-height:normal;font-family:Menlo,'DejaVu Sans Mono',consolas,'Courier New',monospace\"><span style=\"color: #7fbfbf; text-decoration-color: #7fbfbf\">                    </span><span style=\"color: #808000; text-decoration-color: #808000\">WARNING </span> Unable to convert value to float: y                                     <a href=\"file:///Users/manonkempermann/safe-llm-finetune/venv/lib/python3.13/site-packages/inspect_ai/scorer/_metric.py\" target=\"_blank\"><span style=\"color: #7f7f7f; text-decoration-color: #7f7f7f\">_metric.py</span></a><span style=\"color: #7f7f7f; text-decoration-color: #7f7f7f\">:</span><a href=\"file:///Users/manonkempermann/safe-llm-finetune/venv/lib/python3.13/site-packages/inspect_ai/scorer/_metric.py#180\" target=\"_blank\"><span style=\"color: #7f7f7f; text-decoration-color: #7f7f7f\">180</span></a>\n",
       "</pre>\n"
      ],
      "text/plain": [
       "\u001b[2;36m                   \u001b[0m\u001b[2;36m \u001b[0m\u001b[33mWARNING \u001b[0m Unable to convert value to float: y                                     \u001b]8;id=512754;file:///Users/manonkempermann/safe-llm-finetune/venv/lib/python3.13/site-packages/inspect_ai/scorer/_metric.py\u001b\\\u001b[2m_metric.py\u001b[0m\u001b]8;;\u001b\\\u001b[2m:\u001b[0m\u001b]8;id=996092;file:///Users/manonkempermann/safe-llm-finetune/venv/lib/python3.13/site-packages/inspect_ai/scorer/_metric.py#180\u001b\\\u001b[2m180\u001b[0m\u001b]8;;\u001b\\\n"
      ]
     },
     "metadata": {},
     "output_type": "display_data"
    },
    {
     "data": {
      "text/html": [
       "<pre style=\"white-space:pre;overflow-x:auto;line-height:normal;font-family:Menlo,'DejaVu Sans Mono',consolas,'Courier New',monospace\"><span style=\"color: #7fbfbf; text-decoration-color: #7fbfbf\">                    </span><span style=\"color: #808000; text-decoration-color: #808000\">WARNING </span> Unable to convert value to float: y                                     <a href=\"file:///Users/manonkempermann/safe-llm-finetune/venv/lib/python3.13/site-packages/inspect_ai/scorer/_metric.py\" target=\"_blank\"><span style=\"color: #7f7f7f; text-decoration-color: #7f7f7f\">_metric.py</span></a><span style=\"color: #7f7f7f; text-decoration-color: #7f7f7f\">:</span><a href=\"file:///Users/manonkempermann/safe-llm-finetune/venv/lib/python3.13/site-packages/inspect_ai/scorer/_metric.py#180\" target=\"_blank\"><span style=\"color: #7f7f7f; text-decoration-color: #7f7f7f\">180</span></a>\n",
       "</pre>\n"
      ],
      "text/plain": [
       "\u001b[2;36m                   \u001b[0m\u001b[2;36m \u001b[0m\u001b[33mWARNING \u001b[0m Unable to convert value to float: y                                     \u001b]8;id=441543;file:///Users/manonkempermann/safe-llm-finetune/venv/lib/python3.13/site-packages/inspect_ai/scorer/_metric.py\u001b\\\u001b[2m_metric.py\u001b[0m\u001b]8;;\u001b\\\u001b[2m:\u001b[0m\u001b]8;id=470390;file:///Users/manonkempermann/safe-llm-finetune/venv/lib/python3.13/site-packages/inspect_ai/scorer/_metric.py#180\u001b\\\u001b[2m180\u001b[0m\u001b]8;;\u001b\\\n"
      ]
     },
     "metadata": {},
     "output_type": "display_data"
    },
    {
     "data": {
      "text/html": [
       "<pre style=\"white-space:pre;overflow-x:auto;line-height:normal;font-family:Menlo,'DejaVu Sans Mono',consolas,'Courier New',monospace\"><span style=\"color: #7fbfbf; text-decoration-color: #7fbfbf\">                    </span><span style=\"color: #808000; text-decoration-color: #808000\">WARNING </span> Unable to convert value to float: y                                     <a href=\"file:///Users/manonkempermann/safe-llm-finetune/venv/lib/python3.13/site-packages/inspect_ai/scorer/_metric.py\" target=\"_blank\"><span style=\"color: #7f7f7f; text-decoration-color: #7f7f7f\">_metric.py</span></a><span style=\"color: #7f7f7f; text-decoration-color: #7f7f7f\">:</span><a href=\"file:///Users/manonkempermann/safe-llm-finetune/venv/lib/python3.13/site-packages/inspect_ai/scorer/_metric.py#180\" target=\"_blank\"><span style=\"color: #7f7f7f; text-decoration-color: #7f7f7f\">180</span></a>\n",
       "</pre>\n"
      ],
      "text/plain": [
       "\u001b[2;36m                   \u001b[0m\u001b[2;36m \u001b[0m\u001b[33mWARNING \u001b[0m Unable to convert value to float: y                                     \u001b]8;id=4940;file:///Users/manonkempermann/safe-llm-finetune/venv/lib/python3.13/site-packages/inspect_ai/scorer/_metric.py\u001b\\\u001b[2m_metric.py\u001b[0m\u001b]8;;\u001b\\\u001b[2m:\u001b[0m\u001b]8;id=229603;file:///Users/manonkempermann/safe-llm-finetune/venv/lib/python3.13/site-packages/inspect_ai/scorer/_metric.py#180\u001b\\\u001b[2m180\u001b[0m\u001b]8;;\u001b\\\n"
      ]
     },
     "metadata": {},
     "output_type": "display_data"
    },
    {
     "data": {
      "text/html": [
       "<pre style=\"white-space:pre;overflow-x:auto;line-height:normal;font-family:Menlo,'DejaVu Sans Mono',consolas,'Courier New',monospace\"><span style=\"color: #7fbfbf; text-decoration-color: #7fbfbf\">                    </span><span style=\"color: #808000; text-decoration-color: #808000\">WARNING </span> Unable to convert value to float: y                                     <a href=\"file:///Users/manonkempermann/safe-llm-finetune/venv/lib/python3.13/site-packages/inspect_ai/scorer/_metric.py\" target=\"_blank\"><span style=\"color: #7f7f7f; text-decoration-color: #7f7f7f\">_metric.py</span></a><span style=\"color: #7f7f7f; text-decoration-color: #7f7f7f\">:</span><a href=\"file:///Users/manonkempermann/safe-llm-finetune/venv/lib/python3.13/site-packages/inspect_ai/scorer/_metric.py#180\" target=\"_blank\"><span style=\"color: #7f7f7f; text-decoration-color: #7f7f7f\">180</span></a>\n",
       "</pre>\n"
      ],
      "text/plain": [
       "\u001b[2;36m                   \u001b[0m\u001b[2;36m \u001b[0m\u001b[33mWARNING \u001b[0m Unable to convert value to float: y                                     \u001b]8;id=830837;file:///Users/manonkempermann/safe-llm-finetune/venv/lib/python3.13/site-packages/inspect_ai/scorer/_metric.py\u001b\\\u001b[2m_metric.py\u001b[0m\u001b]8;;\u001b\\\u001b[2m:\u001b[0m\u001b]8;id=897313;file:///Users/manonkempermann/safe-llm-finetune/venv/lib/python3.13/site-packages/inspect_ai/scorer/_metric.py#180\u001b\\\u001b[2m180\u001b[0m\u001b]8;;\u001b\\\n"
      ]
     },
     "metadata": {},
     "output_type": "display_data"
    },
    {
     "data": {
      "text/html": [
       "<pre style=\"white-space:pre;overflow-x:auto;line-height:normal;font-family:Menlo,'DejaVu Sans Mono',consolas,'Courier New',monospace\"><span style=\"color: #7fbfbf; text-decoration-color: #7fbfbf\">                    </span><span style=\"color: #808000; text-decoration-color: #808000\">WARNING </span> Unable to convert value to float: y                                     <a href=\"file:///Users/manonkempermann/safe-llm-finetune/venv/lib/python3.13/site-packages/inspect_ai/scorer/_metric.py\" target=\"_blank\"><span style=\"color: #7f7f7f; text-decoration-color: #7f7f7f\">_metric.py</span></a><span style=\"color: #7f7f7f; text-decoration-color: #7f7f7f\">:</span><a href=\"file:///Users/manonkempermann/safe-llm-finetune/venv/lib/python3.13/site-packages/inspect_ai/scorer/_metric.py#180\" target=\"_blank\"><span style=\"color: #7f7f7f; text-decoration-color: #7f7f7f\">180</span></a>\n",
       "</pre>\n"
      ],
      "text/plain": [
       "\u001b[2;36m                   \u001b[0m\u001b[2;36m \u001b[0m\u001b[33mWARNING \u001b[0m Unable to convert value to float: y                                     \u001b]8;id=64626;file:///Users/manonkempermann/safe-llm-finetune/venv/lib/python3.13/site-packages/inspect_ai/scorer/_metric.py\u001b\\\u001b[2m_metric.py\u001b[0m\u001b]8;;\u001b\\\u001b[2m:\u001b[0m\u001b]8;id=623547;file:///Users/manonkempermann/safe-llm-finetune/venv/lib/python3.13/site-packages/inspect_ai/scorer/_metric.py#180\u001b\\\u001b[2m180\u001b[0m\u001b]8;;\u001b\\\n"
      ]
     },
     "metadata": {},
     "output_type": "display_data"
    },
    {
     "data": {
      "text/html": [
       "<pre style=\"white-space:pre;overflow-x:auto;line-height:normal;font-family:Menlo,'DejaVu Sans Mono',consolas,'Courier New',monospace\"><span style=\"color: #7fbfbf; text-decoration-color: #7fbfbf\">                    </span><span style=\"color: #808000; text-decoration-color: #808000\">WARNING </span> Unable to convert value to float: y                                     <a href=\"file:///Users/manonkempermann/safe-llm-finetune/venv/lib/python3.13/site-packages/inspect_ai/scorer/_metric.py\" target=\"_blank\"><span style=\"color: #7f7f7f; text-decoration-color: #7f7f7f\">_metric.py</span></a><span style=\"color: #7f7f7f; text-decoration-color: #7f7f7f\">:</span><a href=\"file:///Users/manonkempermann/safe-llm-finetune/venv/lib/python3.13/site-packages/inspect_ai/scorer/_metric.py#180\" target=\"_blank\"><span style=\"color: #7f7f7f; text-decoration-color: #7f7f7f\">180</span></a>\n",
       "</pre>\n"
      ],
      "text/plain": [
       "\u001b[2;36m                   \u001b[0m\u001b[2;36m \u001b[0m\u001b[33mWARNING \u001b[0m Unable to convert value to float: y                                     \u001b]8;id=629052;file:///Users/manonkempermann/safe-llm-finetune/venv/lib/python3.13/site-packages/inspect_ai/scorer/_metric.py\u001b\\\u001b[2m_metric.py\u001b[0m\u001b]8;;\u001b\\\u001b[2m:\u001b[0m\u001b]8;id=486038;file:///Users/manonkempermann/safe-llm-finetune/venv/lib/python3.13/site-packages/inspect_ai/scorer/_metric.py#180\u001b\\\u001b[2m180\u001b[0m\u001b]8;;\u001b\\\n"
      ]
     },
     "metadata": {},
     "output_type": "display_data"
    },
    {
     "data": {
      "text/html": [
       "<pre style=\"white-space:pre;overflow-x:auto;line-height:normal;font-family:Menlo,'DejaVu Sans Mono',consolas,'Courier New',monospace\"><span style=\"color: #7fbfbf; text-decoration-color: #7fbfbf\">                    </span><span style=\"color: #808000; text-decoration-color: #808000\">WARNING </span> Unable to convert value to float: y                                     <a href=\"file:///Users/manonkempermann/safe-llm-finetune/venv/lib/python3.13/site-packages/inspect_ai/scorer/_metric.py\" target=\"_blank\"><span style=\"color: #7f7f7f; text-decoration-color: #7f7f7f\">_metric.py</span></a><span style=\"color: #7f7f7f; text-decoration-color: #7f7f7f\">:</span><a href=\"file:///Users/manonkempermann/safe-llm-finetune/venv/lib/python3.13/site-packages/inspect_ai/scorer/_metric.py#180\" target=\"_blank\"><span style=\"color: #7f7f7f; text-decoration-color: #7f7f7f\">180</span></a>\n",
       "</pre>\n"
      ],
      "text/plain": [
       "\u001b[2;36m                   \u001b[0m\u001b[2;36m \u001b[0m\u001b[33mWARNING \u001b[0m Unable to convert value to float: y                                     \u001b]8;id=332006;file:///Users/manonkempermann/safe-llm-finetune/venv/lib/python3.13/site-packages/inspect_ai/scorer/_metric.py\u001b\\\u001b[2m_metric.py\u001b[0m\u001b]8;;\u001b\\\u001b[2m:\u001b[0m\u001b]8;id=145810;file:///Users/manonkempermann/safe-llm-finetune/venv/lib/python3.13/site-packages/inspect_ai/scorer/_metric.py#180\u001b\\\u001b[2m180\u001b[0m\u001b]8;;\u001b\\\n"
      ]
     },
     "metadata": {},
     "output_type": "display_data"
    },
    {
     "data": {
      "text/html": [
       "<pre style=\"white-space:pre;overflow-x:auto;line-height:normal;font-family:Menlo,'DejaVu Sans Mono',consolas,'Courier New',monospace\">&lt;class 'float'&gt;\n",
       "</pre>\n"
      ],
      "text/plain": [
       "<class 'float'>\n"
      ]
     },
     "metadata": {},
     "output_type": "display_data"
    },
    {
     "data": {
      "text/html": [
       "<pre style=\"white-space:pre;overflow-x:auto;line-height:normal;font-family:Menlo,'DejaVu Sans Mono',consolas,'Courier New',monospace\">&lt;class 'float'&gt;\n",
       "</pre>\n"
      ],
      "text/plain": [
       "<class 'float'>\n"
      ]
     },
     "metadata": {},
     "output_type": "display_data"
    },
    {
     "data": {
      "text/html": [
       "<pre style=\"white-space:pre;overflow-x:auto;line-height:normal;font-family:Menlo,'DejaVu Sans Mono',consolas,'Courier New',monospace\">&lt;class 'float'&gt;\n",
       "</pre>\n"
      ],
      "text/plain": [
       "<class 'float'>\n"
      ]
     },
     "metadata": {},
     "output_type": "display_data"
    },
    {
     "data": {
      "text/html": [
       "<pre style=\"white-space:pre;overflow-x:auto;line-height:normal;font-family:Menlo,'DejaVu Sans Mono',consolas,'Courier New',monospace\">&lt;class 'float'&gt;\n",
       "</pre>\n"
      ],
      "text/plain": [
       "<class 'float'>\n"
      ]
     },
     "metadata": {},
     "output_type": "display_data"
    },
    {
     "data": {
      "text/html": [
       "<pre style=\"white-space:pre;overflow-x:auto;line-height:normal;font-family:Menlo,'DejaVu Sans Mono',consolas,'Courier New',monospace\">&lt;class 'float'&gt;\n",
       "</pre>\n"
      ],
      "text/plain": [
       "<class 'float'>\n"
      ]
     },
     "metadata": {},
     "output_type": "display_data"
    },
    {
     "data": {
      "text/html": [
       "<pre style=\"white-space:pre;overflow-x:auto;line-height:normal;font-family:Menlo,'DejaVu Sans Mono',consolas,'Courier New',monospace\">&lt;class 'int'&gt;\n",
       "</pre>\n"
      ],
      "text/plain": [
       "<class 'int'>\n"
      ]
     },
     "metadata": {},
     "output_type": "display_data"
    },
    {
     "data": {
      "text/html": [
       "<pre style=\"white-space:pre;overflow-x:auto;line-height:normal;font-family:Menlo,'DejaVu Sans Mono',consolas,'Courier New',monospace\">&lt;class 'float'&gt;\n",
       "</pre>\n"
      ],
      "text/plain": [
       "<class 'float'>\n"
      ]
     },
     "metadata": {},
     "output_type": "display_data"
    },
    {
     "data": {
      "text/html": [
       "<pre style=\"white-space:pre;overflow-x:auto;line-height:normal;font-family:Menlo,'DejaVu Sans Mono',consolas,'Courier New',monospace\">&lt;class 'float'&gt;\n",
       "</pre>\n"
      ],
      "text/plain": [
       "<class 'float'>\n"
      ]
     },
     "metadata": {},
     "output_type": "display_data"
    },
    {
     "data": {
      "text/html": [
       "<pre style=\"white-space:pre;overflow-x:auto;line-height:normal;font-family:Menlo,'DejaVu Sans Mono',consolas,'Courier New',monospace\">&lt;class 'int'&gt;\n",
       "</pre>\n"
      ],
      "text/plain": [
       "<class 'int'>\n"
      ]
     },
     "metadata": {},
     "output_type": "display_data"
    },
    {
     "data": {
      "text/html": [
       "<pre style=\"white-space:pre;overflow-x:auto;line-height:normal;font-family:Menlo,'DejaVu Sans Mono',consolas,'Courier New',monospace\">&lt;class 'float'&gt;\n",
       "</pre>\n"
      ],
      "text/plain": [
       "<class 'float'>\n"
      ]
     },
     "metadata": {},
     "output_type": "display_data"
    },
    {
     "data": {
      "text/html": [
       "<pre style=\"white-space:pre;overflow-x:auto;line-height:normal;font-family:Menlo,'DejaVu Sans Mono',consolas,'Courier New',monospace\"></pre>\n"
      ],
      "text/plain": []
     },
     "metadata": {},
     "output_type": "display_data"
    }
   ],
   "source": [
    "multi.run_eval(model_path=\"...\", tokenizer_path=\"...\", base_path=\"./test\")"
   ]
  },
  {
   "cell_type": "code",
   "execution_count": null,
   "id": "0f27a23b",
   "metadata": {},
   "outputs": [],
   "source": [
    "from inspect_ai.log import read_eval_log"
   ]
  },
  {
   "cell_type": "code",
   "execution_count": null,
   "id": "d2dadd9c",
   "metadata": {},
   "outputs": [],
   "source": [
    "log = read_eval_log(\n",
    "    \"/Users/manonkempermann/safe-llm-finetune/notebooks/evallogs/GPT-4o-mini/test/eval_log/2025-05-02T10-22-12+02-00_create-task_VgNo735gtKgKUpUJ4SpNj9.eval\"\n",
    ")"
   ]
  },
  {
   "cell_type": "code",
   "execution_count": null,
   "id": "71531593",
   "metadata": {},
   "outputs": [],
   "source": [
    "extracted_metrics = [\n",
    "    (metric_object.name, metric_object.value)\n",
    "    for metric_key, metric_object in log.results.metrics.items()\n",
    "]"
   ]
  },
  {
   "cell_type": "code",
   "execution_count": null,
   "id": "0585b7db",
   "metadata": {},
   "outputs": [
    {
     "name": "stdout",
     "output_type": "stream",
     "text": [
      "[('attack_success_rate', 1.0)]\n"
     ]
    }
   ],
   "source": [
    "print(extracted_metrics)"
   ]
  },
  {
   "cell_type": "code",
   "execution_count": 1,
   "id": "de506204",
   "metadata": {},
   "outputs": [],
   "source": [
    "from pathlib import Path\n",
    "import sys\n",
    "\n",
    "# Add project root to Python path to enable imports from the package\n",
    "sys.path.append(str(Path.cwd().parent))\n",
    "from safe_llm_finetune.evaluation.eval_analysis import evaluate\n",
    "from safe_llm_finetune.evaluation.airbench import AirBench"
   ]
  },
  {
   "cell_type": "code",
   "execution_count": 2,
   "id": "6b5fb710",
   "metadata": {},
   "outputs": [
    {
     "name": "stdout",
     "output_type": "stream",
     "text": [
      "Fetching repository contents for safe-llm-finetune/gemma-3-1B-it-CodeUltraFeedback-qLoRA-r8_a16_d0.05_b4_nf4...\n",
      "Found checkpoint folders: ['checkpoint-45', 'checkpoint-90', 'checkpoint-135', 'checkpoint-180', 'checkpoint-225', 'checkpoint-270', 'checkpoint-315', 'checkpoint-360', 'checkpoint-405', 'checkpoint-450']\n",
      "safe-llm-finetune/gemma-3-1B-it-CodeUltraFeedback-qLoRA-r8_a16_d0.05_b4_nf4 checkpoint-45\n",
      "safe-llm-finetune/gemma-3-1B-it-CodeUltraFeedback-qLoRA-r8_a16_d0.05_b4_nf4/checkpoint-45\n"
     ]
    },
    {
     "ename": "OSError",
     "evalue": "google/gemma-3-1B-it does not appear to have a file named pytorch_model.bin but there is a file for TensorFlow weights. Use `from_tf=True` to load this model from those weights.",
     "output_type": "error",
     "traceback": [
      "\u001b[31m---------------------------------------------------------------------------\u001b[39m",
      "\u001b[31mOSError\u001b[39m                                   Traceback (most recent call last)",
      "\u001b[36mCell\u001b[39m\u001b[36m \u001b[39m\u001b[32mIn[2]\u001b[39m\u001b[32m, line 1\u001b[39m\n\u001b[32m----> \u001b[39m\u001b[32m1\u001b[39m df = \u001b[43mevaluate\u001b[49m\u001b[43m(\u001b[49m\u001b[43m[\u001b[49m\u001b[43mAirBench\u001b[49m\u001b[43m(\u001b[49m\u001b[43m)\u001b[49m\u001b[43m]\u001b[49m\u001b[43m,\u001b[49m\u001b[43m \u001b[49m\u001b[43m[\u001b[49m\u001b[33;43m\"\u001b[39;49m\u001b[33;43msafe-llm-finetune/gemma-3-1B-it-CodeUltraFeedback-qLoRA-r8_a16_d0.05_b4_nf4\u001b[39;49m\u001b[33;43m\"\u001b[39;49m\u001b[43m]\u001b[49m\u001b[43m)\u001b[49m\n",
      "\u001b[36mFile \u001b[39m\u001b[32m~/safe-llm-finetune/safe_llm_finetune/evaluation/eval_analysis.py:58\u001b[39m, in \u001b[36mevaluate\u001b[39m\u001b[34m(evals, models)\u001b[39m\n\u001b[32m     56\u001b[39m metrics = []\n\u001b[32m     57\u001b[39m \u001b[38;5;28;01mfor\u001b[39;00m \u001b[38;5;28meval\u001b[39m \u001b[38;5;129;01min\u001b[39;00m evals:\n\u001b[32m---> \u001b[39m\u001b[32m58\u001b[39m     log : EvalLog = \u001b[38;5;28;43meval\u001b[39;49m\u001b[43m.\u001b[49m\u001b[43mrunEval\u001b[49m\u001b[43m(\u001b[49m\u001b[43mmodel_name\u001b[49m\u001b[43m=\u001b[49m\u001b[43mmodel_name\u001b[49m\u001b[43m,\u001b[49m\u001b[43m \u001b[49m\u001b[43mcheckpoint_dir\u001b[49m\u001b[43m=\u001b[49m\u001b[43mcheckpoint\u001b[49m\u001b[43m)\u001b[49m\n\u001b[32m     59\u001b[39m     \u001b[38;5;28;01mif\u001b[39;00m log.status != \u001b[33m\"\u001b[39m\u001b[33msuccess\u001b[39m\u001b[33m\"\u001b[39m:\n\u001b[32m     60\u001b[39m         \u001b[38;5;28mprint\u001b[39m(\u001b[33mf\u001b[39m\u001b[33m\"\u001b[39m\u001b[33mEval \u001b[39m\u001b[38;5;132;01m{\u001b[39;00m\u001b[38;5;28meval\u001b[39m.get_name()\u001b[38;5;132;01m}\u001b[39;00m\u001b[33m could not be computed for \u001b[39m\u001b[38;5;132;01m{\u001b[39;00mmodel_name\u001b[38;5;132;01m}\u001b[39;00m\u001b[33m!\u001b[39m\u001b[33m\"\u001b[39m)\n",
      "\u001b[36mFile \u001b[39m\u001b[32m~/safe-llm-finetune/safe_llm_finetune/evaluation/base.py:60\u001b[39m, in \u001b[36mEvaluator.runEval\u001b[39m\u001b[34m(self, model_name, checkpoint_dir, file_path)\u001b[39m\n\u001b[32m     57\u001b[39m     checkpoint_path = os.path.join(model_name, checkpoint_dir)\n\u001b[32m     58\u001b[39m     \u001b[38;5;28mprint\u001b[39m(checkpoint_path)\n\u001b[32m---> \u001b[39m\u001b[32m60\u001b[39m     model = \u001b[43mget_model\u001b[49m\u001b[43m(\u001b[49m\u001b[43mmodel\u001b[49m\u001b[43m=\u001b[49m\u001b[33;43m\"\u001b[39;49m\u001b[33;43mhf/\u001b[39;49m\u001b[33;43m\"\u001b[39;49m\u001b[43m+\u001b[49m\u001b[43mmodel_name\u001b[49m\u001b[43m,\u001b[49m\u001b[43m \u001b[49m\u001b[43mdevice\u001b[49m\u001b[43m=\u001b[49m\u001b[43m \u001b[49m\u001b[33;43m\"\u001b[39;49m\u001b[33;43mcuda:0\u001b[39;49m\u001b[33;43m\"\u001b[39;49m\u001b[43m,\u001b[49m\u001b[43m \u001b[49m\u001b[43mfrom_tf\u001b[49m\u001b[43m=\u001b[49m\u001b[38;5;28;43;01mTrue\u001b[39;49;00m\u001b[43m,\u001b[49m\u001b[43m \u001b[49m\u001b[43msubfolder\u001b[49m\u001b[43m=\u001b[49m\u001b[43m \u001b[49m\u001b[43mcheckpoint_dir\u001b[49m\u001b[43m)\u001b[49m\n\u001b[32m     62\u001b[39m     results = inspect_eval(tasks=task, model=model, log_dir=file_path + \u001b[33m\"\u001b[39m\u001b[33m/eval_log\u001b[39m\u001b[33m\"\u001b[39m)\n\u001b[32m     64\u001b[39m \u001b[38;5;28;01mreturn\u001b[39;00m results\n",
      "\u001b[36mFile \u001b[39m\u001b[32m~/safe-llm-finetune/venv/lib/python3.13/site-packages/inspect_ai/model/_model.py:971\u001b[39m, in \u001b[36mget_model\u001b[39m\u001b[34m(model, role, default, config, base_url, api_key, memoize, **model_args)\u001b[39m\n\u001b[32m    969\u001b[39m init_hooks()\n\u001b[32m    970\u001b[39m modelapi_type = cast(\u001b[38;5;28mtype\u001b[39m[ModelAPI], modelapi_types[\u001b[32m0\u001b[39m])\n\u001b[32m--> \u001b[39m\u001b[32m971\u001b[39m modelapi_instance = \u001b[43mmodelapi_type\u001b[49m\u001b[43m(\u001b[49m\n\u001b[32m    972\u001b[39m \u001b[43m    \u001b[49m\u001b[43mmodel_name\u001b[49m\u001b[43m=\u001b[49m\u001b[43mmodel\u001b[49m\u001b[43m,\u001b[49m\n\u001b[32m    973\u001b[39m \u001b[43m    \u001b[49m\u001b[43mbase_url\u001b[49m\u001b[43m=\u001b[49m\u001b[43mbase_url\u001b[49m\u001b[43m,\u001b[49m\n\u001b[32m    974\u001b[39m \u001b[43m    \u001b[49m\u001b[43mapi_key\u001b[49m\u001b[43m=\u001b[49m\u001b[43mapi_key\u001b[49m\u001b[43m,\u001b[49m\n\u001b[32m    975\u001b[39m \u001b[43m    \u001b[49m\u001b[43mconfig\u001b[49m\u001b[43m=\u001b[49m\u001b[43mconfig\u001b[49m\u001b[43m,\u001b[49m\n\u001b[32m    976\u001b[39m \u001b[43m    \u001b[49m\u001b[43m*\u001b[49m\u001b[43m*\u001b[49m\u001b[43mmodel_args\u001b[49m\u001b[43m,\u001b[49m\n\u001b[32m    977\u001b[39m \u001b[43m\u001b[49m\u001b[43m)\u001b[49m\n\u001b[32m    978\u001b[39m m = Model(modelapi_instance, config, model_args)\n\u001b[32m    979\u001b[39m \u001b[38;5;28;01mif\u001b[39;00m role \u001b[38;5;129;01mis\u001b[39;00m \u001b[38;5;129;01mnot\u001b[39;00m \u001b[38;5;28;01mNone\u001b[39;00m:\n",
      "\u001b[36mFile \u001b[39m\u001b[32m~/safe-llm-finetune/venv/lib/python3.13/site-packages/inspect_ai/model/_registry.py:56\u001b[39m, in \u001b[36mmodelapi.<locals>.create_model_wrapper.<locals>.model_wrapper\u001b[39m\u001b[34m(*args, **kwargs)\u001b[39m\n\u001b[32m     53\u001b[39m \u001b[38;5;28;01melse\u001b[39;00m:\n\u001b[32m     54\u001b[39m     model_type = wrapped\n\u001b[32m---> \u001b[39m\u001b[32m56\u001b[39m model = \u001b[43mmodel_type\u001b[49m\u001b[43m(\u001b[49m\u001b[43m*\u001b[49m\u001b[43margs\u001b[49m\u001b[43m,\u001b[49m\u001b[43m \u001b[49m\u001b[43m*\u001b[49m\u001b[43m*\u001b[49m\u001b[43mkwargs\u001b[49m\u001b[43m)\u001b[49m\n\u001b[32m     57\u001b[39m registry_tag(\n\u001b[32m     58\u001b[39m     model_type,\n\u001b[32m     59\u001b[39m     model,\n\u001b[32m   (...)\u001b[39m\u001b[32m     65\u001b[39m     **kwargs,\n\u001b[32m     66\u001b[39m )\n\u001b[32m     67\u001b[39m \u001b[38;5;28;01mreturn\u001b[39;00m model\n",
      "\u001b[36mFile \u001b[39m\u001b[32m~/safe-llm-finetune/venv/lib/python3.13/site-packages/inspect_ai/model/_providers/hf.py:107\u001b[39m, in \u001b[36mHuggingFaceAPI.__init__\u001b[39m\u001b[34m(self, model_name, base_url, api_key, config, **model_args)\u001b[39m\n\u001b[32m    103\u001b[39m     \u001b[38;5;28mself\u001b[39m.model = AutoModelForCausalLM.from_pretrained(\n\u001b[32m    104\u001b[39m         model_path, device_map=\u001b[38;5;28mself\u001b[39m.device, token=\u001b[38;5;28mself\u001b[39m.api_key, **model_args\n\u001b[32m    105\u001b[39m     )\n\u001b[32m    106\u001b[39m \u001b[38;5;28;01melse\u001b[39;00m:\n\u001b[32m--> \u001b[39m\u001b[32m107\u001b[39m     \u001b[38;5;28mself\u001b[39m.model = \u001b[43mAutoModelForCausalLM\u001b[49m\u001b[43m.\u001b[49m\u001b[43mfrom_pretrained\u001b[49m\u001b[43m(\u001b[49m\n\u001b[32m    108\u001b[39m \u001b[43m        \u001b[49m\u001b[43mmodel_name\u001b[49m\u001b[43m,\u001b[49m\u001b[43m \u001b[49m\u001b[43mdevice_map\u001b[49m\u001b[43m=\u001b[49m\u001b[38;5;28;43mself\u001b[39;49m\u001b[43m.\u001b[49m\u001b[43mdevice\u001b[49m\u001b[43m,\u001b[49m\u001b[43m \u001b[49m\u001b[43mtoken\u001b[49m\u001b[43m=\u001b[49m\u001b[38;5;28;43mself\u001b[39;49m\u001b[43m.\u001b[49m\u001b[43mapi_key\u001b[49m\u001b[43m,\u001b[49m\u001b[43m \u001b[49m\u001b[43m*\u001b[49m\u001b[43m*\u001b[49m\u001b[43mmodel_args\u001b[49m\n\u001b[32m    109\u001b[39m \u001b[43m    \u001b[49m\u001b[43m)\u001b[49m\n\u001b[32m    111\u001b[39m \u001b[38;5;66;03m# tokenizer\u001b[39;00m\n\u001b[32m    112\u001b[39m \u001b[38;5;28;01mif\u001b[39;00m tokenizer:\n",
      "\u001b[36mFile \u001b[39m\u001b[32m~/safe-llm-finetune/venv/lib/python3.13/site-packages/transformers/models/auto/auto_factory.py:571\u001b[39m, in \u001b[36m_BaseAutoModelClass.from_pretrained\u001b[39m\u001b[34m(cls, pretrained_model_name_or_path, *model_args, **kwargs)\u001b[39m\n\u001b[32m    569\u001b[39m     \u001b[38;5;28;01mif\u001b[39;00m model_class.config_class == config.sub_configs.get(\u001b[33m\"\u001b[39m\u001b[33mtext_config\u001b[39m\u001b[33m\"\u001b[39m, \u001b[38;5;28;01mNone\u001b[39;00m):\n\u001b[32m    570\u001b[39m         config = config.get_text_config()\n\u001b[32m--> \u001b[39m\u001b[32m571\u001b[39m     \u001b[38;5;28;01mreturn\u001b[39;00m \u001b[43mmodel_class\u001b[49m\u001b[43m.\u001b[49m\u001b[43mfrom_pretrained\u001b[49m\u001b[43m(\u001b[49m\n\u001b[32m    572\u001b[39m \u001b[43m        \u001b[49m\u001b[43mpretrained_model_name_or_path\u001b[49m\u001b[43m,\u001b[49m\u001b[43m \u001b[49m\u001b[43m*\u001b[49m\u001b[43mmodel_args\u001b[49m\u001b[43m,\u001b[49m\u001b[43m \u001b[49m\u001b[43mconfig\u001b[49m\u001b[43m=\u001b[49m\u001b[43mconfig\u001b[49m\u001b[43m,\u001b[49m\u001b[43m \u001b[49m\u001b[43m*\u001b[49m\u001b[43m*\u001b[49m\u001b[43mhub_kwargs\u001b[49m\u001b[43m,\u001b[49m\u001b[43m \u001b[49m\u001b[43m*\u001b[49m\u001b[43m*\u001b[49m\u001b[43mkwargs\u001b[49m\n\u001b[32m    573\u001b[39m \u001b[43m    \u001b[49m\u001b[43m)\u001b[49m\n\u001b[32m    574\u001b[39m \u001b[38;5;28;01mraise\u001b[39;00m \u001b[38;5;167;01mValueError\u001b[39;00m(\n\u001b[32m    575\u001b[39m     \u001b[33mf\u001b[39m\u001b[33m\"\u001b[39m\u001b[33mUnrecognized configuration class \u001b[39m\u001b[38;5;132;01m{\u001b[39;00mconfig.\u001b[34m__class__\u001b[39m\u001b[38;5;132;01m}\u001b[39;00m\u001b[33m for this kind of AutoModel: \u001b[39m\u001b[38;5;132;01m{\u001b[39;00m\u001b[38;5;28mcls\u001b[39m.\u001b[34m__name__\u001b[39m\u001b[38;5;132;01m}\u001b[39;00m\u001b[33m.\u001b[39m\u001b[38;5;130;01m\\n\u001b[39;00m\u001b[33m\"\u001b[39m\n\u001b[32m    576\u001b[39m     \u001b[33mf\u001b[39m\u001b[33m\"\u001b[39m\u001b[33mModel type should be one of \u001b[39m\u001b[38;5;132;01m{\u001b[39;00m\u001b[33m'\u001b[39m\u001b[33m, \u001b[39m\u001b[33m'\u001b[39m.join(c.\u001b[34m__name__\u001b[39m\u001b[38;5;250m \u001b[39m\u001b[38;5;28;01mfor\u001b[39;00m\u001b[38;5;250m \u001b[39mc\u001b[38;5;250m \u001b[39m\u001b[38;5;129;01min\u001b[39;00m\u001b[38;5;250m \u001b[39m\u001b[38;5;28mcls\u001b[39m._model_mapping.keys())\u001b[38;5;132;01m}\u001b[39;00m\u001b[33m.\u001b[39m\u001b[33m\"\u001b[39m\n\u001b[32m    577\u001b[39m )\n",
      "\u001b[36mFile \u001b[39m\u001b[32m~/safe-llm-finetune/venv/lib/python3.13/site-packages/transformers/modeling_utils.py:279\u001b[39m, in \u001b[36mrestore_default_torch_dtype.<locals>._wrapper\u001b[39m\u001b[34m(*args, **kwargs)\u001b[39m\n\u001b[32m    277\u001b[39m old_dtype = torch.get_default_dtype()\n\u001b[32m    278\u001b[39m \u001b[38;5;28;01mtry\u001b[39;00m:\n\u001b[32m--> \u001b[39m\u001b[32m279\u001b[39m     \u001b[38;5;28;01mreturn\u001b[39;00m \u001b[43mfunc\u001b[49m\u001b[43m(\u001b[49m\u001b[43m*\u001b[49m\u001b[43margs\u001b[49m\u001b[43m,\u001b[49m\u001b[43m \u001b[49m\u001b[43m*\u001b[49m\u001b[43m*\u001b[49m\u001b[43mkwargs\u001b[49m\u001b[43m)\u001b[49m\n\u001b[32m    280\u001b[39m \u001b[38;5;28;01mfinally\u001b[39;00m:\n\u001b[32m    281\u001b[39m     torch.set_default_dtype(old_dtype)\n",
      "\u001b[36mFile \u001b[39m\u001b[32m~/safe-llm-finetune/venv/lib/python3.13/site-packages/transformers/modeling_utils.py:4260\u001b[39m, in \u001b[36mPreTrainedModel.from_pretrained\u001b[39m\u001b[34m(cls, pretrained_model_name_or_path, config, cache_dir, ignore_mismatched_sizes, force_download, local_files_only, token, revision, use_safetensors, weights_only, *model_args, **kwargs)\u001b[39m\n\u001b[32m   4250\u001b[39m \u001b[38;5;28;01mif\u001b[39;00m (\n\u001b[32m   4251\u001b[39m     gguf_file\n\u001b[32m   4252\u001b[39m     \u001b[38;5;129;01mand\u001b[39;00m device_map \u001b[38;5;129;01mis\u001b[39;00m \u001b[38;5;129;01mnot\u001b[39;00m \u001b[38;5;28;01mNone\u001b[39;00m\n\u001b[32m   4253\u001b[39m     \u001b[38;5;129;01mand\u001b[39;00m ((\u001b[38;5;28misinstance\u001b[39m(device_map, \u001b[38;5;28mdict\u001b[39m) \u001b[38;5;129;01mand\u001b[39;00m \u001b[33m\"\u001b[39m\u001b[33mdisk\u001b[39m\u001b[33m\"\u001b[39m \u001b[38;5;129;01min\u001b[39;00m device_map.values()) \u001b[38;5;129;01mor\u001b[39;00m \u001b[33m\"\u001b[39m\u001b[33mdisk\u001b[39m\u001b[33m\"\u001b[39m \u001b[38;5;129;01min\u001b[39;00m device_map)\n\u001b[32m   4254\u001b[39m ):\n\u001b[32m   4255\u001b[39m     \u001b[38;5;28;01mraise\u001b[39;00m \u001b[38;5;167;01mRuntimeError\u001b[39;00m(\n\u001b[32m   4256\u001b[39m         \u001b[33m\"\u001b[39m\u001b[33mOne or more modules is configured to be mapped to disk. Disk offload is not supported for models \u001b[39m\u001b[33m\"\u001b[39m\n\u001b[32m   4257\u001b[39m         \u001b[33m\"\u001b[39m\u001b[33mloaded from GGUF files.\u001b[39m\u001b[33m\"\u001b[39m\n\u001b[32m   4258\u001b[39m     )\n\u001b[32m-> \u001b[39m\u001b[32m4260\u001b[39m checkpoint_files, sharded_metadata = \u001b[43m_get_resolved_checkpoint_files\u001b[49m\u001b[43m(\u001b[49m\n\u001b[32m   4261\u001b[39m \u001b[43m    \u001b[49m\u001b[43mpretrained_model_name_or_path\u001b[49m\u001b[43m=\u001b[49m\u001b[43mpretrained_model_name_or_path\u001b[49m\u001b[43m,\u001b[49m\n\u001b[32m   4262\u001b[39m \u001b[43m    \u001b[49m\u001b[43msubfolder\u001b[49m\u001b[43m=\u001b[49m\u001b[43msubfolder\u001b[49m\u001b[43m,\u001b[49m\n\u001b[32m   4263\u001b[39m \u001b[43m    \u001b[49m\u001b[43mvariant\u001b[49m\u001b[43m=\u001b[49m\u001b[43mvariant\u001b[49m\u001b[43m,\u001b[49m\n\u001b[32m   4264\u001b[39m \u001b[43m    \u001b[49m\u001b[43mgguf_file\u001b[49m\u001b[43m=\u001b[49m\u001b[43mgguf_file\u001b[49m\u001b[43m,\u001b[49m\n\u001b[32m   4265\u001b[39m \u001b[43m    \u001b[49m\u001b[43mfrom_tf\u001b[49m\u001b[43m=\u001b[49m\u001b[43mfrom_tf\u001b[49m\u001b[43m,\u001b[49m\n\u001b[32m   4266\u001b[39m \u001b[43m    \u001b[49m\u001b[43mfrom_flax\u001b[49m\u001b[43m=\u001b[49m\u001b[43mfrom_flax\u001b[49m\u001b[43m,\u001b[49m\n\u001b[32m   4267\u001b[39m \u001b[43m    \u001b[49m\u001b[43muse_safetensors\u001b[49m\u001b[43m=\u001b[49m\u001b[43muse_safetensors\u001b[49m\u001b[43m,\u001b[49m\n\u001b[32m   4268\u001b[39m \u001b[43m    \u001b[49m\u001b[43mcache_dir\u001b[49m\u001b[43m=\u001b[49m\u001b[43mcache_dir\u001b[49m\u001b[43m,\u001b[49m\n\u001b[32m   4269\u001b[39m \u001b[43m    \u001b[49m\u001b[43mforce_download\u001b[49m\u001b[43m=\u001b[49m\u001b[43mforce_download\u001b[49m\u001b[43m,\u001b[49m\n\u001b[32m   4270\u001b[39m \u001b[43m    \u001b[49m\u001b[43mproxies\u001b[49m\u001b[43m=\u001b[49m\u001b[43mproxies\u001b[49m\u001b[43m,\u001b[49m\n\u001b[32m   4271\u001b[39m \u001b[43m    \u001b[49m\u001b[43mlocal_files_only\u001b[49m\u001b[43m=\u001b[49m\u001b[43mlocal_files_only\u001b[49m\u001b[43m,\u001b[49m\n\u001b[32m   4272\u001b[39m \u001b[43m    \u001b[49m\u001b[43mtoken\u001b[49m\u001b[43m=\u001b[49m\u001b[43mtoken\u001b[49m\u001b[43m,\u001b[49m\n\u001b[32m   4273\u001b[39m \u001b[43m    \u001b[49m\u001b[43muser_agent\u001b[49m\u001b[43m=\u001b[49m\u001b[43muser_agent\u001b[49m\u001b[43m,\u001b[49m\n\u001b[32m   4274\u001b[39m \u001b[43m    \u001b[49m\u001b[43mrevision\u001b[49m\u001b[43m=\u001b[49m\u001b[43mrevision\u001b[49m\u001b[43m,\u001b[49m\n\u001b[32m   4275\u001b[39m \u001b[43m    \u001b[49m\u001b[43mcommit_hash\u001b[49m\u001b[43m=\u001b[49m\u001b[43mcommit_hash\u001b[49m\u001b[43m,\u001b[49m\n\u001b[32m   4276\u001b[39m \u001b[43m\u001b[49m\u001b[43m)\u001b[49m\n\u001b[32m   4278\u001b[39m is_sharded = sharded_metadata \u001b[38;5;129;01mis\u001b[39;00m \u001b[38;5;129;01mnot\u001b[39;00m \u001b[38;5;28;01mNone\u001b[39;00m\n\u001b[32m   4279\u001b[39m is_quantized = hf_quantizer \u001b[38;5;129;01mis\u001b[39;00m \u001b[38;5;129;01mnot\u001b[39;00m \u001b[38;5;28;01mNone\u001b[39;00m\n",
      "\u001b[36mFile \u001b[39m\u001b[32m~/safe-llm-finetune/venv/lib/python3.13/site-packages/transformers/modeling_utils.py:1080\u001b[39m, in \u001b[36m_get_resolved_checkpoint_files\u001b[39m\u001b[34m(pretrained_model_name_or_path, subfolder, variant, gguf_file, from_tf, from_flax, use_safetensors, cache_dir, force_download, proxies, local_files_only, token, user_agent, revision, commit_hash)\u001b[39m\n\u001b[32m   1072\u001b[39m has_file_kwargs = {\n\u001b[32m   1073\u001b[39m     \u001b[33m\"\u001b[39m\u001b[33mrevision\u001b[39m\u001b[33m\"\u001b[39m: revision,\n\u001b[32m   1074\u001b[39m     \u001b[33m\"\u001b[39m\u001b[33mproxies\u001b[39m\u001b[33m\"\u001b[39m: proxies,\n\u001b[32m   (...)\u001b[39m\u001b[32m   1077\u001b[39m     \u001b[33m\"\u001b[39m\u001b[33mlocal_files_only\u001b[39m\u001b[33m\"\u001b[39m: local_files_only,\n\u001b[32m   1078\u001b[39m }\n\u001b[32m   1079\u001b[39m \u001b[38;5;28;01mif\u001b[39;00m has_file(pretrained_model_name_or_path, TF2_WEIGHTS_NAME, **has_file_kwargs):\n\u001b[32m-> \u001b[39m\u001b[32m1080\u001b[39m     \u001b[38;5;28;01mraise\u001b[39;00m \u001b[38;5;167;01mEnvironmentError\u001b[39;00m(\n\u001b[32m   1081\u001b[39m         \u001b[33mf\u001b[39m\u001b[33m\"\u001b[39m\u001b[38;5;132;01m{\u001b[39;00mpretrained_model_name_or_path\u001b[38;5;132;01m}\u001b[39;00m\u001b[33m does not appear to have a file named\u001b[39m\u001b[33m\"\u001b[39m\n\u001b[32m   1082\u001b[39m         \u001b[33mf\u001b[39m\u001b[33m\"\u001b[39m\u001b[33m \u001b[39m\u001b[38;5;132;01m{\u001b[39;00m_add_variant(WEIGHTS_NAME,\u001b[38;5;250m \u001b[39mvariant)\u001b[38;5;132;01m}\u001b[39;00m\u001b[33m but there is a file for TensorFlow weights.\u001b[39m\u001b[33m\"\u001b[39m\n\u001b[32m   1083\u001b[39m         \u001b[33m\"\u001b[39m\u001b[33m Use `from_tf=True` to load this model from those weights.\u001b[39m\u001b[33m\"\u001b[39m\n\u001b[32m   1084\u001b[39m     )\n\u001b[32m   1085\u001b[39m \u001b[38;5;28;01melif\u001b[39;00m has_file(pretrained_model_name_or_path, FLAX_WEIGHTS_NAME, **has_file_kwargs):\n\u001b[32m   1086\u001b[39m     \u001b[38;5;28;01mraise\u001b[39;00m \u001b[38;5;167;01mEnvironmentError\u001b[39;00m(\n\u001b[32m   1087\u001b[39m         \u001b[33mf\u001b[39m\u001b[33m\"\u001b[39m\u001b[38;5;132;01m{\u001b[39;00mpretrained_model_name_or_path\u001b[38;5;132;01m}\u001b[39;00m\u001b[33m does not appear to have a file named\u001b[39m\u001b[33m\"\u001b[39m\n\u001b[32m   1088\u001b[39m         \u001b[33mf\u001b[39m\u001b[33m\"\u001b[39m\u001b[33m \u001b[39m\u001b[38;5;132;01m{\u001b[39;00m_add_variant(WEIGHTS_NAME,\u001b[38;5;250m \u001b[39mvariant)\u001b[38;5;132;01m}\u001b[39;00m\u001b[33m but there is a file for Flax weights. Use\u001b[39m\u001b[33m\"\u001b[39m\n\u001b[32m   1089\u001b[39m         \u001b[33m\"\u001b[39m\u001b[33m `from_flax=True` to load this model from those weights.\u001b[39m\u001b[33m\"\u001b[39m\n\u001b[32m   1090\u001b[39m     )\n",
      "\u001b[31mOSError\u001b[39m: google/gemma-3-1B-it does not appear to have a file named pytorch_model.bin but there is a file for TensorFlow weights. Use `from_tf=True` to load this model from those weights."
     ]
    }
   ],
   "source": [
    "df = evaluate(\n",
    "    [AirBench()],\n",
    "    [\"safe-llm-finetune/gemma-3-1B-it-CodeUltraFeedback-qLoRA-r8_a16_d0.05_b4_nf4\"],\n",
    ")"
   ]
  }
 ],
 "metadata": {
  "kernelspec": {
   "display_name": "venv",
   "language": "python",
   "name": "python3"
  },
  "language_info": {
   "codemirror_mode": {
    "name": "ipython",
    "version": 3
   },
   "file_extension": ".py",
   "mimetype": "text/x-python",
   "name": "python",
   "nbconvert_exporter": "python",
   "pygments_lexer": "ipython3",
   "version": "3.13.3"
  }
 },
 "nbformat": 4,
 "nbformat_minor": 5
}
