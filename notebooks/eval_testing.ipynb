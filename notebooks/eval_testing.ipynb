{
 "cells": [
  {
   "cell_type": "code",
   "execution_count": 1,
   "id": "b11c7bf4",
   "metadata": {},
   "outputs": [
    {
     "name": "stderr",
     "output_type": "stream",
     "text": [
      "Note: Environment variable`HF_TOKEN` is set and is the current active token independently from the token you've just configured.\n"
     ]
    }
   ],
   "source": [
    "from pathlib import Path\n",
    "import sys\n",
    "# Add project root to Python path to enable imports from the package\n",
    "sys.path.append(str(Path.cwd().parent))\n",
    "from safe_llm_finetune.evaluation.airbench import AirBench\n",
    "from safe_llm_finetune.evaluation.multitaskbench import MultiTaskBench\n",
    "import os\n",
    "from huggingface_hub import login\n",
    "\n",
    "\n",
    "HF_TOKEN = os.getenv(\"HF_TOKEN\")\n",
    "login(token=HF_TOKEN)"
   ]
  },
  {
   "cell_type": "code",
   "execution_count": 2,
   "id": "c0b896eb",
   "metadata": {},
   "outputs": [],
   "source": [
    "air = AirBench(model_name=\"GPT-4o-mini\", file_path=\"evallogs/GPT-4o-mini/test\", debug=True)"
   ]
  },
  {
   "cell_type": "code",
   "execution_count": 3,
   "id": "6d160c56",
   "metadata": {},
   "outputs": [
    {
     "data": {
      "application/vnd.jupyter.widget-view+json": {
       "model_id": "d454e1390a5b456b9e8688aaa129b28b",
       "version_major": 2,
       "version_minor": 0
      },
      "text/plain": [
       "Output()"
      ]
     },
     "metadata": {},
     "output_type": "display_data"
    },
    {
     "name": "stdout",
     "output_type": "stream",
     "text": [
      "<class 'inspect_ai._eval.task.task.Task'>\n"
     ]
    },
    {
     "data": {
      "text/html": [
       "<pre style=\"white-space:pre;overflow-x:auto;line-height:normal;font-family:Menlo,'DejaVu Sans Mono',consolas,'Courier New',monospace\"></pre>\n"
      ],
      "text/plain": []
     },
     "metadata": {},
     "output_type": "display_data"
    }
   ],
   "source": [
    "air.run()"
   ]
  },
  {
   "cell_type": "code",
   "execution_count": 2,
   "id": "5ec2637b",
   "metadata": {},
   "outputs": [],
   "source": [
    "multi = MultiTaskBench(model_name=\"GPT-4o-mini\", file_path=\"evallogs/GPT-4o-mini/test\", debug = True)\n"
   ]
  },
  {
   "cell_type": "code",
   "execution_count": 3,
   "id": "adf950e6",
   "metadata": {},
   "outputs": [
    {
     "data": {
      "application/vnd.jupyter.widget-view+json": {
       "model_id": "de3d816b39ad48f1b97c80e580f47fc2",
       "version_major": 2,
       "version_minor": 0
      },
      "text/plain": [
       "Output()"
      ]
     },
     "metadata": {},
     "output_type": "display_data"
    },
    {
     "name": "stdout",
     "output_type": "stream",
     "text": [
      "<class 'inspect_ai._eval.task.task.Task'>\n"
     ]
    },
    {
     "data": {
      "text/html": [
       "<pre style=\"white-space:pre;overflow-x:auto;line-height:normal;font-family:Menlo,'DejaVu Sans Mono',consolas,'Courier New',monospace\"><span style=\"color: #7fbfbf; text-decoration-color: #7fbfbf\">[05/02/25 10:27:53] </span><span style=\"color: #808000; text-decoration-color: #808000\">WARNING </span> Unable to convert value to float: y                                     <a href=\"file:///Users/manonkempermann/safe-llm-finetune/venv/lib/python3.13/site-packages/inspect_ai/scorer/_metric.py\" target=\"_blank\"><span style=\"color: #7f7f7f; text-decoration-color: #7f7f7f\">_metric.py</span></a><span style=\"color: #7f7f7f; text-decoration-color: #7f7f7f\">:</span><a href=\"file:///Users/manonkempermann/safe-llm-finetune/venv/lib/python3.13/site-packages/inspect_ai/scorer/_metric.py#180\" target=\"_blank\"><span style=\"color: #7f7f7f; text-decoration-color: #7f7f7f\">180</span></a>\n",
       "</pre>\n"
      ],
      "text/plain": [
       "\u001b[2;36m[05/02/25 10:27:53]\u001b[0m\u001b[2;36m \u001b[0m\u001b[33mWARNING \u001b[0m Unable to convert value to float: y                                     \u001b]8;id=5859;file:///Users/manonkempermann/safe-llm-finetune/venv/lib/python3.13/site-packages/inspect_ai/scorer/_metric.py\u001b\\\u001b[2m_metric.py\u001b[0m\u001b]8;;\u001b\\\u001b[2m:\u001b[0m\u001b]8;id=208196;file:///Users/manonkempermann/safe-llm-finetune/venv/lib/python3.13/site-packages/inspect_ai/scorer/_metric.py#180\u001b\\\u001b[2m180\u001b[0m\u001b]8;;\u001b\\\n"
      ]
     },
     "metadata": {},
     "output_type": "display_data"
    },
    {
     "data": {
      "text/html": [
       "<pre style=\"white-space:pre;overflow-x:auto;line-height:normal;font-family:Menlo,'DejaVu Sans Mono',consolas,'Courier New',monospace\"><span style=\"color: #7fbfbf; text-decoration-color: #7fbfbf\">[05/02/25 10:27:54] </span><span style=\"color: #808000; text-decoration-color: #808000\">WARNING </span> Unable to convert value to float: y                                     <a href=\"file:///Users/manonkempermann/safe-llm-finetune/venv/lib/python3.13/site-packages/inspect_ai/scorer/_metric.py\" target=\"_blank\"><span style=\"color: #7f7f7f; text-decoration-color: #7f7f7f\">_metric.py</span></a><span style=\"color: #7f7f7f; text-decoration-color: #7f7f7f\">:</span><a href=\"file:///Users/manonkempermann/safe-llm-finetune/venv/lib/python3.13/site-packages/inspect_ai/scorer/_metric.py#180\" target=\"_blank\"><span style=\"color: #7f7f7f; text-decoration-color: #7f7f7f\">180</span></a>\n",
       "</pre>\n"
      ],
      "text/plain": [
       "\u001b[2;36m[05/02/25 10:27:54]\u001b[0m\u001b[2;36m \u001b[0m\u001b[33mWARNING \u001b[0m Unable to convert value to float: y                                     \u001b]8;id=289376;file:///Users/manonkempermann/safe-llm-finetune/venv/lib/python3.13/site-packages/inspect_ai/scorer/_metric.py\u001b\\\u001b[2m_metric.py\u001b[0m\u001b]8;;\u001b\\\u001b[2m:\u001b[0m\u001b]8;id=334906;file:///Users/manonkempermann/safe-llm-finetune/venv/lib/python3.13/site-packages/inspect_ai/scorer/_metric.py#180\u001b\\\u001b[2m180\u001b[0m\u001b]8;;\u001b\\\n"
      ]
     },
     "metadata": {},
     "output_type": "display_data"
    },
    {
     "data": {
      "text/html": [
       "<pre style=\"white-space:pre;overflow-x:auto;line-height:normal;font-family:Menlo,'DejaVu Sans Mono',consolas,'Courier New',monospace\"><span style=\"color: #7fbfbf; text-decoration-color: #7fbfbf\">                    </span><span style=\"color: #808000; text-decoration-color: #808000\">WARNING </span> Unable to convert value to float: y                                     <a href=\"file:///Users/manonkempermann/safe-llm-finetune/venv/lib/python3.13/site-packages/inspect_ai/scorer/_metric.py\" target=\"_blank\"><span style=\"color: #7f7f7f; text-decoration-color: #7f7f7f\">_metric.py</span></a><span style=\"color: #7f7f7f; text-decoration-color: #7f7f7f\">:</span><a href=\"file:///Users/manonkempermann/safe-llm-finetune/venv/lib/python3.13/site-packages/inspect_ai/scorer/_metric.py#180\" target=\"_blank\"><span style=\"color: #7f7f7f; text-decoration-color: #7f7f7f\">180</span></a>\n",
       "</pre>\n"
      ],
      "text/plain": [
       "\u001b[2;36m                   \u001b[0m\u001b[2;36m \u001b[0m\u001b[33mWARNING \u001b[0m Unable to convert value to float: y                                     \u001b]8;id=213693;file:///Users/manonkempermann/safe-llm-finetune/venv/lib/python3.13/site-packages/inspect_ai/scorer/_metric.py\u001b\\\u001b[2m_metric.py\u001b[0m\u001b]8;;\u001b\\\u001b[2m:\u001b[0m\u001b]8;id=531006;file:///Users/manonkempermann/safe-llm-finetune/venv/lib/python3.13/site-packages/inspect_ai/scorer/_metric.py#180\u001b\\\u001b[2m180\u001b[0m\u001b]8;;\u001b\\\n"
      ]
     },
     "metadata": {},
     "output_type": "display_data"
    },
    {
     "data": {
      "text/html": [
       "<pre style=\"white-space:pre;overflow-x:auto;line-height:normal;font-family:Menlo,'DejaVu Sans Mono',consolas,'Courier New',monospace\"><span style=\"color: #7fbfbf; text-decoration-color: #7fbfbf\">                    </span><span style=\"color: #808000; text-decoration-color: #808000\">WARNING </span> Unable to convert value to float: y                                     <a href=\"file:///Users/manonkempermann/safe-llm-finetune/venv/lib/python3.13/site-packages/inspect_ai/scorer/_metric.py\" target=\"_blank\"><span style=\"color: #7f7f7f; text-decoration-color: #7f7f7f\">_metric.py</span></a><span style=\"color: #7f7f7f; text-decoration-color: #7f7f7f\">:</span><a href=\"file:///Users/manonkempermann/safe-llm-finetune/venv/lib/python3.13/site-packages/inspect_ai/scorer/_metric.py#180\" target=\"_blank\"><span style=\"color: #7f7f7f; text-decoration-color: #7f7f7f\">180</span></a>\n",
       "</pre>\n"
      ],
      "text/plain": [
       "\u001b[2;36m                   \u001b[0m\u001b[2;36m \u001b[0m\u001b[33mWARNING \u001b[0m Unable to convert value to float: y                                     \u001b]8;id=904334;file:///Users/manonkempermann/safe-llm-finetune/venv/lib/python3.13/site-packages/inspect_ai/scorer/_metric.py\u001b\\\u001b[2m_metric.py\u001b[0m\u001b]8;;\u001b\\\u001b[2m:\u001b[0m\u001b]8;id=970452;file:///Users/manonkempermann/safe-llm-finetune/venv/lib/python3.13/site-packages/inspect_ai/scorer/_metric.py#180\u001b\\\u001b[2m180\u001b[0m\u001b]8;;\u001b\\\n"
      ]
     },
     "metadata": {},
     "output_type": "display_data"
    },
    {
     "data": {
      "text/html": [
       "<pre style=\"white-space:pre;overflow-x:auto;line-height:normal;font-family:Menlo,'DejaVu Sans Mono',consolas,'Courier New',monospace\"><span style=\"color: #7fbfbf; text-decoration-color: #7fbfbf\">[05/02/25 10:27:55] </span><span style=\"color: #808000; text-decoration-color: #808000\">WARNING </span> Unable to convert value to float: y                                     <a href=\"file:///Users/manonkempermann/safe-llm-finetune/venv/lib/python3.13/site-packages/inspect_ai/scorer/_metric.py\" target=\"_blank\"><span style=\"color: #7f7f7f; text-decoration-color: #7f7f7f\">_metric.py</span></a><span style=\"color: #7f7f7f; text-decoration-color: #7f7f7f\">:</span><a href=\"file:///Users/manonkempermann/safe-llm-finetune/venv/lib/python3.13/site-packages/inspect_ai/scorer/_metric.py#180\" target=\"_blank\"><span style=\"color: #7f7f7f; text-decoration-color: #7f7f7f\">180</span></a>\n",
       "</pre>\n"
      ],
      "text/plain": [
       "\u001b[2;36m[05/02/25 10:27:55]\u001b[0m\u001b[2;36m \u001b[0m\u001b[33mWARNING \u001b[0m Unable to convert value to float: y                                     \u001b]8;id=626436;file:///Users/manonkempermann/safe-llm-finetune/venv/lib/python3.13/site-packages/inspect_ai/scorer/_metric.py\u001b\\\u001b[2m_metric.py\u001b[0m\u001b]8;;\u001b\\\u001b[2m:\u001b[0m\u001b]8;id=573291;file:///Users/manonkempermann/safe-llm-finetune/venv/lib/python3.13/site-packages/inspect_ai/scorer/_metric.py#180\u001b\\\u001b[2m180\u001b[0m\u001b]8;;\u001b\\\n"
      ]
     },
     "metadata": {},
     "output_type": "display_data"
    },
    {
     "data": {
      "text/html": [
       "<pre style=\"white-space:pre;overflow-x:auto;line-height:normal;font-family:Menlo,'DejaVu Sans Mono',consolas,'Courier New',monospace\"><span style=\"color: #7fbfbf; text-decoration-color: #7fbfbf\">                    </span><span style=\"color: #808000; text-decoration-color: #808000\">WARNING </span> Unable to convert value to float: y                                     <a href=\"file:///Users/manonkempermann/safe-llm-finetune/venv/lib/python3.13/site-packages/inspect_ai/scorer/_metric.py\" target=\"_blank\"><span style=\"color: #7f7f7f; text-decoration-color: #7f7f7f\">_metric.py</span></a><span style=\"color: #7f7f7f; text-decoration-color: #7f7f7f\">:</span><a href=\"file:///Users/manonkempermann/safe-llm-finetune/venv/lib/python3.13/site-packages/inspect_ai/scorer/_metric.py#180\" target=\"_blank\"><span style=\"color: #7f7f7f; text-decoration-color: #7f7f7f\">180</span></a>\n",
       "</pre>\n"
      ],
      "text/plain": [
       "\u001b[2;36m                   \u001b[0m\u001b[2;36m \u001b[0m\u001b[33mWARNING \u001b[0m Unable to convert value to float: y                                     \u001b]8;id=791717;file:///Users/manonkempermann/safe-llm-finetune/venv/lib/python3.13/site-packages/inspect_ai/scorer/_metric.py\u001b\\\u001b[2m_metric.py\u001b[0m\u001b]8;;\u001b\\\u001b[2m:\u001b[0m\u001b]8;id=360182;file:///Users/manonkempermann/safe-llm-finetune/venv/lib/python3.13/site-packages/inspect_ai/scorer/_metric.py#180\u001b\\\u001b[2m180\u001b[0m\u001b]8;;\u001b\\\n"
      ]
     },
     "metadata": {},
     "output_type": "display_data"
    },
    {
     "data": {
      "text/html": [
       "<pre style=\"white-space:pre;overflow-x:auto;line-height:normal;font-family:Menlo,'DejaVu Sans Mono',consolas,'Courier New',monospace\"><span style=\"color: #7fbfbf; text-decoration-color: #7fbfbf\">                    </span><span style=\"color: #808000; text-decoration-color: #808000\">WARNING </span> Unable to convert value to float: y                                     <a href=\"file:///Users/manonkempermann/safe-llm-finetune/venv/lib/python3.13/site-packages/inspect_ai/scorer/_metric.py\" target=\"_blank\"><span style=\"color: #7f7f7f; text-decoration-color: #7f7f7f\">_metric.py</span></a><span style=\"color: #7f7f7f; text-decoration-color: #7f7f7f\">:</span><a href=\"file:///Users/manonkempermann/safe-llm-finetune/venv/lib/python3.13/site-packages/inspect_ai/scorer/_metric.py#180\" target=\"_blank\"><span style=\"color: #7f7f7f; text-decoration-color: #7f7f7f\">180</span></a>\n",
       "</pre>\n"
      ],
      "text/plain": [
       "\u001b[2;36m                   \u001b[0m\u001b[2;36m \u001b[0m\u001b[33mWARNING \u001b[0m Unable to convert value to float: y                                     \u001b]8;id=540505;file:///Users/manonkempermann/safe-llm-finetune/venv/lib/python3.13/site-packages/inspect_ai/scorer/_metric.py\u001b\\\u001b[2m_metric.py\u001b[0m\u001b]8;;\u001b\\\u001b[2m:\u001b[0m\u001b]8;id=764494;file:///Users/manonkempermann/safe-llm-finetune/venv/lib/python3.13/site-packages/inspect_ai/scorer/_metric.py#180\u001b\\\u001b[2m180\u001b[0m\u001b]8;;\u001b\\\n"
      ]
     },
     "metadata": {},
     "output_type": "display_data"
    },
    {
     "data": {
      "text/html": [
       "<pre style=\"white-space:pre;overflow-x:auto;line-height:normal;font-family:Menlo,'DejaVu Sans Mono',consolas,'Courier New',monospace\"><span style=\"color: #7fbfbf; text-decoration-color: #7fbfbf\">                    </span><span style=\"color: #808000; text-decoration-color: #808000\">WARNING </span> Unable to convert value to float: y                                     <a href=\"file:///Users/manonkempermann/safe-llm-finetune/venv/lib/python3.13/site-packages/inspect_ai/scorer/_metric.py\" target=\"_blank\"><span style=\"color: #7f7f7f; text-decoration-color: #7f7f7f\">_metric.py</span></a><span style=\"color: #7f7f7f; text-decoration-color: #7f7f7f\">:</span><a href=\"file:///Users/manonkempermann/safe-llm-finetune/venv/lib/python3.13/site-packages/inspect_ai/scorer/_metric.py#180\" target=\"_blank\"><span style=\"color: #7f7f7f; text-decoration-color: #7f7f7f\">180</span></a>\n",
       "</pre>\n"
      ],
      "text/plain": [
       "\u001b[2;36m                   \u001b[0m\u001b[2;36m \u001b[0m\u001b[33mWARNING \u001b[0m Unable to convert value to float: y                                     \u001b]8;id=640807;file:///Users/manonkempermann/safe-llm-finetune/venv/lib/python3.13/site-packages/inspect_ai/scorer/_metric.py\u001b\\\u001b[2m_metric.py\u001b[0m\u001b]8;;\u001b\\\u001b[2m:\u001b[0m\u001b]8;id=375097;file:///Users/manonkempermann/safe-llm-finetune/venv/lib/python3.13/site-packages/inspect_ai/scorer/_metric.py#180\u001b\\\u001b[2m180\u001b[0m\u001b]8;;\u001b\\\n"
      ]
     },
     "metadata": {},
     "output_type": "display_data"
    },
    {
     "data": {
      "text/html": [
       "<pre style=\"white-space:pre;overflow-x:auto;line-height:normal;font-family:Menlo,'DejaVu Sans Mono',consolas,'Courier New',monospace\"><span style=\"color: #7fbfbf; text-decoration-color: #7fbfbf\">                    </span><span style=\"color: #808000; text-decoration-color: #808000\">WARNING </span> Unable to convert value to float: y                                     <a href=\"file:///Users/manonkempermann/safe-llm-finetune/venv/lib/python3.13/site-packages/inspect_ai/scorer/_metric.py\" target=\"_blank\"><span style=\"color: #7f7f7f; text-decoration-color: #7f7f7f\">_metric.py</span></a><span style=\"color: #7f7f7f; text-decoration-color: #7f7f7f\">:</span><a href=\"file:///Users/manonkempermann/safe-llm-finetune/venv/lib/python3.13/site-packages/inspect_ai/scorer/_metric.py#180\" target=\"_blank\"><span style=\"color: #7f7f7f; text-decoration-color: #7f7f7f\">180</span></a>\n",
       "</pre>\n"
      ],
      "text/plain": [
       "\u001b[2;36m                   \u001b[0m\u001b[2;36m \u001b[0m\u001b[33mWARNING \u001b[0m Unable to convert value to float: y                                     \u001b]8;id=690267;file:///Users/manonkempermann/safe-llm-finetune/venv/lib/python3.13/site-packages/inspect_ai/scorer/_metric.py\u001b\\\u001b[2m_metric.py\u001b[0m\u001b]8;;\u001b\\\u001b[2m:\u001b[0m\u001b]8;id=514681;file:///Users/manonkempermann/safe-llm-finetune/venv/lib/python3.13/site-packages/inspect_ai/scorer/_metric.py#180\u001b\\\u001b[2m180\u001b[0m\u001b]8;;\u001b\\\n"
      ]
     },
     "metadata": {},
     "output_type": "display_data"
    },
    {
     "data": {
      "text/html": [
       "<pre style=\"white-space:pre;overflow-x:auto;line-height:normal;font-family:Menlo,'DejaVu Sans Mono',consolas,'Courier New',monospace\"><span style=\"color: #7fbfbf; text-decoration-color: #7fbfbf\">                    </span><span style=\"color: #808000; text-decoration-color: #808000\">WARNING </span> Unable to convert value to float: y                                     <a href=\"file:///Users/manonkempermann/safe-llm-finetune/venv/lib/python3.13/site-packages/inspect_ai/scorer/_metric.py\" target=\"_blank\"><span style=\"color: #7f7f7f; text-decoration-color: #7f7f7f\">_metric.py</span></a><span style=\"color: #7f7f7f; text-decoration-color: #7f7f7f\">:</span><a href=\"file:///Users/manonkempermann/safe-llm-finetune/venv/lib/python3.13/site-packages/inspect_ai/scorer/_metric.py#180\" target=\"_blank\"><span style=\"color: #7f7f7f; text-decoration-color: #7f7f7f\">180</span></a>\n",
       "</pre>\n"
      ],
      "text/plain": [
       "\u001b[2;36m                   \u001b[0m\u001b[2;36m \u001b[0m\u001b[33mWARNING \u001b[0m Unable to convert value to float: y                                     \u001b]8;id=742804;file:///Users/manonkempermann/safe-llm-finetune/venv/lib/python3.13/site-packages/inspect_ai/scorer/_metric.py\u001b\\\u001b[2m_metric.py\u001b[0m\u001b]8;;\u001b\\\u001b[2m:\u001b[0m\u001b]8;id=629983;file:///Users/manonkempermann/safe-llm-finetune/venv/lib/python3.13/site-packages/inspect_ai/scorer/_metric.py#180\u001b\\\u001b[2m180\u001b[0m\u001b]8;;\u001b\\\n"
      ]
     },
     "metadata": {},
     "output_type": "display_data"
    },
    {
     "data": {
      "text/html": [
       "<pre style=\"white-space:pre;overflow-x:auto;line-height:normal;font-family:Menlo,'DejaVu Sans Mono',consolas,'Courier New',monospace\"><span style=\"color: #7fbfbf; text-decoration-color: #7fbfbf\">[05/02/25 10:27:56] </span><span style=\"color: #808000; text-decoration-color: #808000\">WARNING </span> Unable to convert value to float: y                                     <a href=\"file:///Users/manonkempermann/safe-llm-finetune/venv/lib/python3.13/site-packages/inspect_ai/scorer/_metric.py\" target=\"_blank\"><span style=\"color: #7f7f7f; text-decoration-color: #7f7f7f\">_metric.py</span></a><span style=\"color: #7f7f7f; text-decoration-color: #7f7f7f\">:</span><a href=\"file:///Users/manonkempermann/safe-llm-finetune/venv/lib/python3.13/site-packages/inspect_ai/scorer/_metric.py#180\" target=\"_blank\"><span style=\"color: #7f7f7f; text-decoration-color: #7f7f7f\">180</span></a>\n",
       "</pre>\n"
      ],
      "text/plain": [
       "\u001b[2;36m[05/02/25 10:27:56]\u001b[0m\u001b[2;36m \u001b[0m\u001b[33mWARNING \u001b[0m Unable to convert value to float: y                                     \u001b]8;id=111768;file:///Users/manonkempermann/safe-llm-finetune/venv/lib/python3.13/site-packages/inspect_ai/scorer/_metric.py\u001b\\\u001b[2m_metric.py\u001b[0m\u001b]8;;\u001b\\\u001b[2m:\u001b[0m\u001b]8;id=295337;file:///Users/manonkempermann/safe-llm-finetune/venv/lib/python3.13/site-packages/inspect_ai/scorer/_metric.py#180\u001b\\\u001b[2m180\u001b[0m\u001b]8;;\u001b\\\n"
      ]
     },
     "metadata": {},
     "output_type": "display_data"
    },
    {
     "data": {
      "text/html": [
       "<pre style=\"white-space:pre;overflow-x:auto;line-height:normal;font-family:Menlo,'DejaVu Sans Mono',consolas,'Courier New',monospace\"><span style=\"color: #7fbfbf; text-decoration-color: #7fbfbf\">                    </span><span style=\"color: #808000; text-decoration-color: #808000\">WARNING </span> Unable to convert value to float: y                                     <a href=\"file:///Users/manonkempermann/safe-llm-finetune/venv/lib/python3.13/site-packages/inspect_ai/scorer/_metric.py\" target=\"_blank\"><span style=\"color: #7f7f7f; text-decoration-color: #7f7f7f\">_metric.py</span></a><span style=\"color: #7f7f7f; text-decoration-color: #7f7f7f\">:</span><a href=\"file:///Users/manonkempermann/safe-llm-finetune/venv/lib/python3.13/site-packages/inspect_ai/scorer/_metric.py#180\" target=\"_blank\"><span style=\"color: #7f7f7f; text-decoration-color: #7f7f7f\">180</span></a>\n",
       "</pre>\n"
      ],
      "text/plain": [
       "\u001b[2;36m                   \u001b[0m\u001b[2;36m \u001b[0m\u001b[33mWARNING \u001b[0m Unable to convert value to float: y                                     \u001b]8;id=278105;file:///Users/manonkempermann/safe-llm-finetune/venv/lib/python3.13/site-packages/inspect_ai/scorer/_metric.py\u001b\\\u001b[2m_metric.py\u001b[0m\u001b]8;;\u001b\\\u001b[2m:\u001b[0m\u001b]8;id=669502;file:///Users/manonkempermann/safe-llm-finetune/venv/lib/python3.13/site-packages/inspect_ai/scorer/_metric.py#180\u001b\\\u001b[2m180\u001b[0m\u001b]8;;\u001b\\\n"
      ]
     },
     "metadata": {},
     "output_type": "display_data"
    },
    {
     "data": {
      "text/html": [
       "<pre style=\"white-space:pre;overflow-x:auto;line-height:normal;font-family:Menlo,'DejaVu Sans Mono',consolas,'Courier New',monospace\"><span style=\"color: #7fbfbf; text-decoration-color: #7fbfbf\">                    </span><span style=\"color: #808000; text-decoration-color: #808000\">WARNING </span> Unable to convert value to float: y                                     <a href=\"file:///Users/manonkempermann/safe-llm-finetune/venv/lib/python3.13/site-packages/inspect_ai/scorer/_metric.py\" target=\"_blank\"><span style=\"color: #7f7f7f; text-decoration-color: #7f7f7f\">_metric.py</span></a><span style=\"color: #7f7f7f; text-decoration-color: #7f7f7f\">:</span><a href=\"file:///Users/manonkempermann/safe-llm-finetune/venv/lib/python3.13/site-packages/inspect_ai/scorer/_metric.py#180\" target=\"_blank\"><span style=\"color: #7f7f7f; text-decoration-color: #7f7f7f\">180</span></a>\n",
       "</pre>\n"
      ],
      "text/plain": [
       "\u001b[2;36m                   \u001b[0m\u001b[2;36m \u001b[0m\u001b[33mWARNING \u001b[0m Unable to convert value to float: y                                     \u001b]8;id=788510;file:///Users/manonkempermann/safe-llm-finetune/venv/lib/python3.13/site-packages/inspect_ai/scorer/_metric.py\u001b\\\u001b[2m_metric.py\u001b[0m\u001b]8;;\u001b\\\u001b[2m:\u001b[0m\u001b]8;id=942724;file:///Users/manonkempermann/safe-llm-finetune/venv/lib/python3.13/site-packages/inspect_ai/scorer/_metric.py#180\u001b\\\u001b[2m180\u001b[0m\u001b]8;;\u001b\\\n"
      ]
     },
     "metadata": {},
     "output_type": "display_data"
    },
    {
     "data": {
      "text/html": [
       "<pre style=\"white-space:pre;overflow-x:auto;line-height:normal;font-family:Menlo,'DejaVu Sans Mono',consolas,'Courier New',monospace\"><span style=\"color: #7fbfbf; text-decoration-color: #7fbfbf\">                    </span><span style=\"color: #808000; text-decoration-color: #808000\">WARNING </span> Unable to convert value to float: y                                     <a href=\"file:///Users/manonkempermann/safe-llm-finetune/venv/lib/python3.13/site-packages/inspect_ai/scorer/_metric.py\" target=\"_blank\"><span style=\"color: #7f7f7f; text-decoration-color: #7f7f7f\">_metric.py</span></a><span style=\"color: #7f7f7f; text-decoration-color: #7f7f7f\">:</span><a href=\"file:///Users/manonkempermann/safe-llm-finetune/venv/lib/python3.13/site-packages/inspect_ai/scorer/_metric.py#180\" target=\"_blank\"><span style=\"color: #7f7f7f; text-decoration-color: #7f7f7f\">180</span></a>\n",
       "</pre>\n"
      ],
      "text/plain": [
       "\u001b[2;36m                   \u001b[0m\u001b[2;36m \u001b[0m\u001b[33mWARNING \u001b[0m Unable to convert value to float: y                                     \u001b]8;id=790037;file:///Users/manonkempermann/safe-llm-finetune/venv/lib/python3.13/site-packages/inspect_ai/scorer/_metric.py\u001b\\\u001b[2m_metric.py\u001b[0m\u001b]8;;\u001b\\\u001b[2m:\u001b[0m\u001b]8;id=579538;file:///Users/manonkempermann/safe-llm-finetune/venv/lib/python3.13/site-packages/inspect_ai/scorer/_metric.py#180\u001b\\\u001b[2m180\u001b[0m\u001b]8;;\u001b\\\n"
      ]
     },
     "metadata": {},
     "output_type": "display_data"
    },
    {
     "data": {
      "text/html": [
       "<pre style=\"white-space:pre;overflow-x:auto;line-height:normal;font-family:Menlo,'DejaVu Sans Mono',consolas,'Courier New',monospace\"><span style=\"color: #7fbfbf; text-decoration-color: #7fbfbf\">                    </span><span style=\"color: #808000; text-decoration-color: #808000\">WARNING </span> Unable to convert value to float: y                                     <a href=\"file:///Users/manonkempermann/safe-llm-finetune/venv/lib/python3.13/site-packages/inspect_ai/scorer/_metric.py\" target=\"_blank\"><span style=\"color: #7f7f7f; text-decoration-color: #7f7f7f\">_metric.py</span></a><span style=\"color: #7f7f7f; text-decoration-color: #7f7f7f\">:</span><a href=\"file:///Users/manonkempermann/safe-llm-finetune/venv/lib/python3.13/site-packages/inspect_ai/scorer/_metric.py#180\" target=\"_blank\"><span style=\"color: #7f7f7f; text-decoration-color: #7f7f7f\">180</span></a>\n",
       "</pre>\n"
      ],
      "text/plain": [
       "\u001b[2;36m                   \u001b[0m\u001b[2;36m \u001b[0m\u001b[33mWARNING \u001b[0m Unable to convert value to float: y                                     \u001b]8;id=162829;file:///Users/manonkempermann/safe-llm-finetune/venv/lib/python3.13/site-packages/inspect_ai/scorer/_metric.py\u001b\\\u001b[2m_metric.py\u001b[0m\u001b]8;;\u001b\\\u001b[2m:\u001b[0m\u001b]8;id=261688;file:///Users/manonkempermann/safe-llm-finetune/venv/lib/python3.13/site-packages/inspect_ai/scorer/_metric.py#180\u001b\\\u001b[2m180\u001b[0m\u001b]8;;\u001b\\\n"
      ]
     },
     "metadata": {},
     "output_type": "display_data"
    },
    {
     "data": {
      "text/html": [
       "<pre style=\"white-space:pre;overflow-x:auto;line-height:normal;font-family:Menlo,'DejaVu Sans Mono',consolas,'Courier New',monospace\"><span style=\"color: #7fbfbf; text-decoration-color: #7fbfbf\">                    </span><span style=\"color: #808000; text-decoration-color: #808000\">WARNING </span> Unable to convert value to float: y                                     <a href=\"file:///Users/manonkempermann/safe-llm-finetune/venv/lib/python3.13/site-packages/inspect_ai/scorer/_metric.py\" target=\"_blank\"><span style=\"color: #7f7f7f; text-decoration-color: #7f7f7f\">_metric.py</span></a><span style=\"color: #7f7f7f; text-decoration-color: #7f7f7f\">:</span><a href=\"file:///Users/manonkempermann/safe-llm-finetune/venv/lib/python3.13/site-packages/inspect_ai/scorer/_metric.py#180\" target=\"_blank\"><span style=\"color: #7f7f7f; text-decoration-color: #7f7f7f\">180</span></a>\n",
       "</pre>\n"
      ],
      "text/plain": [
       "\u001b[2;36m                   \u001b[0m\u001b[2;36m \u001b[0m\u001b[33mWARNING \u001b[0m Unable to convert value to float: y                                     \u001b]8;id=785943;file:///Users/manonkempermann/safe-llm-finetune/venv/lib/python3.13/site-packages/inspect_ai/scorer/_metric.py\u001b\\\u001b[2m_metric.py\u001b[0m\u001b]8;;\u001b\\\u001b[2m:\u001b[0m\u001b]8;id=575437;file:///Users/manonkempermann/safe-llm-finetune/venv/lib/python3.13/site-packages/inspect_ai/scorer/_metric.py#180\u001b\\\u001b[2m180\u001b[0m\u001b]8;;\u001b\\\n"
      ]
     },
     "metadata": {},
     "output_type": "display_data"
    },
    {
     "data": {
      "text/html": [
       "<pre style=\"white-space:pre;overflow-x:auto;line-height:normal;font-family:Menlo,'DejaVu Sans Mono',consolas,'Courier New',monospace\"><span style=\"color: #7fbfbf; text-decoration-color: #7fbfbf\">                    </span><span style=\"color: #808000; text-decoration-color: #808000\">WARNING </span> Unable to convert value to float: y                                     <a href=\"file:///Users/manonkempermann/safe-llm-finetune/venv/lib/python3.13/site-packages/inspect_ai/scorer/_metric.py\" target=\"_blank\"><span style=\"color: #7f7f7f; text-decoration-color: #7f7f7f\">_metric.py</span></a><span style=\"color: #7f7f7f; text-decoration-color: #7f7f7f\">:</span><a href=\"file:///Users/manonkempermann/safe-llm-finetune/venv/lib/python3.13/site-packages/inspect_ai/scorer/_metric.py#180\" target=\"_blank\"><span style=\"color: #7f7f7f; text-decoration-color: #7f7f7f\">180</span></a>\n",
       "</pre>\n"
      ],
      "text/plain": [
       "\u001b[2;36m                   \u001b[0m\u001b[2;36m \u001b[0m\u001b[33mWARNING \u001b[0m Unable to convert value to float: y                                     \u001b]8;id=156526;file:///Users/manonkempermann/safe-llm-finetune/venv/lib/python3.13/site-packages/inspect_ai/scorer/_metric.py\u001b\\\u001b[2m_metric.py\u001b[0m\u001b]8;;\u001b\\\u001b[2m:\u001b[0m\u001b]8;id=935842;file:///Users/manonkempermann/safe-llm-finetune/venv/lib/python3.13/site-packages/inspect_ai/scorer/_metric.py#180\u001b\\\u001b[2m180\u001b[0m\u001b]8;;\u001b\\\n"
      ]
     },
     "metadata": {},
     "output_type": "display_data"
    },
    {
     "data": {
      "text/html": [
       "<pre style=\"white-space:pre;overflow-x:auto;line-height:normal;font-family:Menlo,'DejaVu Sans Mono',consolas,'Courier New',monospace\"><span style=\"color: #7fbfbf; text-decoration-color: #7fbfbf\">[05/02/25 10:28:00] </span><span style=\"color: #808000; text-decoration-color: #808000\">WARNING </span> Unable to convert value to float: y                                     <a href=\"file:///Users/manonkempermann/safe-llm-finetune/venv/lib/python3.13/site-packages/inspect_ai/scorer/_metric.py\" target=\"_blank\"><span style=\"color: #7f7f7f; text-decoration-color: #7f7f7f\">_metric.py</span></a><span style=\"color: #7f7f7f; text-decoration-color: #7f7f7f\">:</span><a href=\"file:///Users/manonkempermann/safe-llm-finetune/venv/lib/python3.13/site-packages/inspect_ai/scorer/_metric.py#180\" target=\"_blank\"><span style=\"color: #7f7f7f; text-decoration-color: #7f7f7f\">180</span></a>\n",
       "</pre>\n"
      ],
      "text/plain": [
       "\u001b[2;36m[05/02/25 10:28:00]\u001b[0m\u001b[2;36m \u001b[0m\u001b[33mWARNING \u001b[0m Unable to convert value to float: y                                     \u001b]8;id=817565;file:///Users/manonkempermann/safe-llm-finetune/venv/lib/python3.13/site-packages/inspect_ai/scorer/_metric.py\u001b\\\u001b[2m_metric.py\u001b[0m\u001b]8;;\u001b\\\u001b[2m:\u001b[0m\u001b]8;id=33314;file:///Users/manonkempermann/safe-llm-finetune/venv/lib/python3.13/site-packages/inspect_ai/scorer/_metric.py#180\u001b\\\u001b[2m180\u001b[0m\u001b]8;;\u001b\\\n"
      ]
     },
     "metadata": {},
     "output_type": "display_data"
    },
    {
     "data": {
      "text/html": [
       "<pre style=\"white-space:pre;overflow-x:auto;line-height:normal;font-family:Menlo,'DejaVu Sans Mono',consolas,'Courier New',monospace\"><span style=\"color: #7fbfbf; text-decoration-color: #7fbfbf\">                    </span><span style=\"color: #808000; text-decoration-color: #808000\">WARNING </span> Unable to convert value to float: y                                     <a href=\"file:///Users/manonkempermann/safe-llm-finetune/venv/lib/python3.13/site-packages/inspect_ai/scorer/_metric.py\" target=\"_blank\"><span style=\"color: #7f7f7f; text-decoration-color: #7f7f7f\">_metric.py</span></a><span style=\"color: #7f7f7f; text-decoration-color: #7f7f7f\">:</span><a href=\"file:///Users/manonkempermann/safe-llm-finetune/venv/lib/python3.13/site-packages/inspect_ai/scorer/_metric.py#180\" target=\"_blank\"><span style=\"color: #7f7f7f; text-decoration-color: #7f7f7f\">180</span></a>\n",
       "</pre>\n"
      ],
      "text/plain": [
       "\u001b[2;36m                   \u001b[0m\u001b[2;36m \u001b[0m\u001b[33mWARNING \u001b[0m Unable to convert value to float: y                                     \u001b]8;id=574040;file:///Users/manonkempermann/safe-llm-finetune/venv/lib/python3.13/site-packages/inspect_ai/scorer/_metric.py\u001b\\\u001b[2m_metric.py\u001b[0m\u001b]8;;\u001b\\\u001b[2m:\u001b[0m\u001b]8;id=615131;file:///Users/manonkempermann/safe-llm-finetune/venv/lib/python3.13/site-packages/inspect_ai/scorer/_metric.py#180\u001b\\\u001b[2m180\u001b[0m\u001b]8;;\u001b\\\n"
      ]
     },
     "metadata": {},
     "output_type": "display_data"
    },
    {
     "data": {
      "text/html": [
       "<pre style=\"white-space:pre;overflow-x:auto;line-height:normal;font-family:Menlo,'DejaVu Sans Mono',consolas,'Courier New',monospace\"><span style=\"color: #7fbfbf; text-decoration-color: #7fbfbf\">                    </span><span style=\"color: #808000; text-decoration-color: #808000\">WARNING </span> Unable to convert value to float: y                                     <a href=\"file:///Users/manonkempermann/safe-llm-finetune/venv/lib/python3.13/site-packages/inspect_ai/scorer/_metric.py\" target=\"_blank\"><span style=\"color: #7f7f7f; text-decoration-color: #7f7f7f\">_metric.py</span></a><span style=\"color: #7f7f7f; text-decoration-color: #7f7f7f\">:</span><a href=\"file:///Users/manonkempermann/safe-llm-finetune/venv/lib/python3.13/site-packages/inspect_ai/scorer/_metric.py#180\" target=\"_blank\"><span style=\"color: #7f7f7f; text-decoration-color: #7f7f7f\">180</span></a>\n",
       "</pre>\n"
      ],
      "text/plain": [
       "\u001b[2;36m                   \u001b[0m\u001b[2;36m \u001b[0m\u001b[33mWARNING \u001b[0m Unable to convert value to float: y                                     \u001b]8;id=619962;file:///Users/manonkempermann/safe-llm-finetune/venv/lib/python3.13/site-packages/inspect_ai/scorer/_metric.py\u001b\\\u001b[2m_metric.py\u001b[0m\u001b]8;;\u001b\\\u001b[2m:\u001b[0m\u001b]8;id=911008;file:///Users/manonkempermann/safe-llm-finetune/venv/lib/python3.13/site-packages/inspect_ai/scorer/_metric.py#180\u001b\\\u001b[2m180\u001b[0m\u001b]8;;\u001b\\\n"
      ]
     },
     "metadata": {},
     "output_type": "display_data"
    },
    {
     "data": {
      "text/html": [
       "<pre style=\"white-space:pre;overflow-x:auto;line-height:normal;font-family:Menlo,'DejaVu Sans Mono',consolas,'Courier New',monospace\"><span style=\"color: #7fbfbf; text-decoration-color: #7fbfbf\">                    </span><span style=\"color: #808000; text-decoration-color: #808000\">WARNING </span> Unable to convert value to float: y                                     <a href=\"file:///Users/manonkempermann/safe-llm-finetune/venv/lib/python3.13/site-packages/inspect_ai/scorer/_metric.py\" target=\"_blank\"><span style=\"color: #7f7f7f; text-decoration-color: #7f7f7f\">_metric.py</span></a><span style=\"color: #7f7f7f; text-decoration-color: #7f7f7f\">:</span><a href=\"file:///Users/manonkempermann/safe-llm-finetune/venv/lib/python3.13/site-packages/inspect_ai/scorer/_metric.py#180\" target=\"_blank\"><span style=\"color: #7f7f7f; text-decoration-color: #7f7f7f\">180</span></a>\n",
       "</pre>\n"
      ],
      "text/plain": [
       "\u001b[2;36m                   \u001b[0m\u001b[2;36m \u001b[0m\u001b[33mWARNING \u001b[0m Unable to convert value to float: y                                     \u001b]8;id=619755;file:///Users/manonkempermann/safe-llm-finetune/venv/lib/python3.13/site-packages/inspect_ai/scorer/_metric.py\u001b\\\u001b[2m_metric.py\u001b[0m\u001b]8;;\u001b\\\u001b[2m:\u001b[0m\u001b]8;id=494322;file:///Users/manonkempermann/safe-llm-finetune/venv/lib/python3.13/site-packages/inspect_ai/scorer/_metric.py#180\u001b\\\u001b[2m180\u001b[0m\u001b]8;;\u001b\\\n"
      ]
     },
     "metadata": {},
     "output_type": "display_data"
    },
    {
     "data": {
      "text/html": [
       "<pre style=\"white-space:pre;overflow-x:auto;line-height:normal;font-family:Menlo,'DejaVu Sans Mono',consolas,'Courier New',monospace\"><span style=\"color: #7fbfbf; text-decoration-color: #7fbfbf\">                    </span><span style=\"color: #808000; text-decoration-color: #808000\">WARNING </span> Unable to convert value to float: y                                     <a href=\"file:///Users/manonkempermann/safe-llm-finetune/venv/lib/python3.13/site-packages/inspect_ai/scorer/_metric.py\" target=\"_blank\"><span style=\"color: #7f7f7f; text-decoration-color: #7f7f7f\">_metric.py</span></a><span style=\"color: #7f7f7f; text-decoration-color: #7f7f7f\">:</span><a href=\"file:///Users/manonkempermann/safe-llm-finetune/venv/lib/python3.13/site-packages/inspect_ai/scorer/_metric.py#180\" target=\"_blank\"><span style=\"color: #7f7f7f; text-decoration-color: #7f7f7f\">180</span></a>\n",
       "</pre>\n"
      ],
      "text/plain": [
       "\u001b[2;36m                   \u001b[0m\u001b[2;36m \u001b[0m\u001b[33mWARNING \u001b[0m Unable to convert value to float: y                                     \u001b]8;id=100415;file:///Users/manonkempermann/safe-llm-finetune/venv/lib/python3.13/site-packages/inspect_ai/scorer/_metric.py\u001b\\\u001b[2m_metric.py\u001b[0m\u001b]8;;\u001b\\\u001b[2m:\u001b[0m\u001b]8;id=173013;file:///Users/manonkempermann/safe-llm-finetune/venv/lib/python3.13/site-packages/inspect_ai/scorer/_metric.py#180\u001b\\\u001b[2m180\u001b[0m\u001b]8;;\u001b\\\n"
      ]
     },
     "metadata": {},
     "output_type": "display_data"
    },
    {
     "data": {
      "text/html": [
       "<pre style=\"white-space:pre;overflow-x:auto;line-height:normal;font-family:Menlo,'DejaVu Sans Mono',consolas,'Courier New',monospace\"><span style=\"color: #7fbfbf; text-decoration-color: #7fbfbf\">                    </span><span style=\"color: #808000; text-decoration-color: #808000\">WARNING </span> Unable to convert value to float: y                                     <a href=\"file:///Users/manonkempermann/safe-llm-finetune/venv/lib/python3.13/site-packages/inspect_ai/scorer/_metric.py\" target=\"_blank\"><span style=\"color: #7f7f7f; text-decoration-color: #7f7f7f\">_metric.py</span></a><span style=\"color: #7f7f7f; text-decoration-color: #7f7f7f\">:</span><a href=\"file:///Users/manonkempermann/safe-llm-finetune/venv/lib/python3.13/site-packages/inspect_ai/scorer/_metric.py#180\" target=\"_blank\"><span style=\"color: #7f7f7f; text-decoration-color: #7f7f7f\">180</span></a>\n",
       "</pre>\n"
      ],
      "text/plain": [
       "\u001b[2;36m                   \u001b[0m\u001b[2;36m \u001b[0m\u001b[33mWARNING \u001b[0m Unable to convert value to float: y                                     \u001b]8;id=313861;file:///Users/manonkempermann/safe-llm-finetune/venv/lib/python3.13/site-packages/inspect_ai/scorer/_metric.py\u001b\\\u001b[2m_metric.py\u001b[0m\u001b]8;;\u001b\\\u001b[2m:\u001b[0m\u001b]8;id=409731;file:///Users/manonkempermann/safe-llm-finetune/venv/lib/python3.13/site-packages/inspect_ai/scorer/_metric.py#180\u001b\\\u001b[2m180\u001b[0m\u001b]8;;\u001b\\\n"
      ]
     },
     "metadata": {},
     "output_type": "display_data"
    },
    {
     "data": {
      "text/html": [
       "<pre style=\"white-space:pre;overflow-x:auto;line-height:normal;font-family:Menlo,'DejaVu Sans Mono',consolas,'Courier New',monospace\"><span style=\"color: #7fbfbf; text-decoration-color: #7fbfbf\">                    </span><span style=\"color: #808000; text-decoration-color: #808000\">WARNING </span> Unable to convert value to float: y                                     <a href=\"file:///Users/manonkempermann/safe-llm-finetune/venv/lib/python3.13/site-packages/inspect_ai/scorer/_metric.py\" target=\"_blank\"><span style=\"color: #7f7f7f; text-decoration-color: #7f7f7f\">_metric.py</span></a><span style=\"color: #7f7f7f; text-decoration-color: #7f7f7f\">:</span><a href=\"file:///Users/manonkempermann/safe-llm-finetune/venv/lib/python3.13/site-packages/inspect_ai/scorer/_metric.py#180\" target=\"_blank\"><span style=\"color: #7f7f7f; text-decoration-color: #7f7f7f\">180</span></a>\n",
       "</pre>\n"
      ],
      "text/plain": [
       "\u001b[2;36m                   \u001b[0m\u001b[2;36m \u001b[0m\u001b[33mWARNING \u001b[0m Unable to convert value to float: y                                     \u001b]8;id=329212;file:///Users/manonkempermann/safe-llm-finetune/venv/lib/python3.13/site-packages/inspect_ai/scorer/_metric.py\u001b\\\u001b[2m_metric.py\u001b[0m\u001b]8;;\u001b\\\u001b[2m:\u001b[0m\u001b]8;id=418861;file:///Users/manonkempermann/safe-llm-finetune/venv/lib/python3.13/site-packages/inspect_ai/scorer/_metric.py#180\u001b\\\u001b[2m180\u001b[0m\u001b]8;;\u001b\\\n"
      ]
     },
     "metadata": {},
     "output_type": "display_data"
    },
    {
     "data": {
      "text/html": [
       "<pre style=\"white-space:pre;overflow-x:auto;line-height:normal;font-family:Menlo,'DejaVu Sans Mono',consolas,'Courier New',monospace\"><span style=\"color: #7fbfbf; text-decoration-color: #7fbfbf\">[05/02/25 10:28:01] </span><span style=\"color: #808000; text-decoration-color: #808000\">WARNING </span> Unable to convert value to float: y                                     <a href=\"file:///Users/manonkempermann/safe-llm-finetune/venv/lib/python3.13/site-packages/inspect_ai/scorer/_metric.py\" target=\"_blank\"><span style=\"color: #7f7f7f; text-decoration-color: #7f7f7f\">_metric.py</span></a><span style=\"color: #7f7f7f; text-decoration-color: #7f7f7f\">:</span><a href=\"file:///Users/manonkempermann/safe-llm-finetune/venv/lib/python3.13/site-packages/inspect_ai/scorer/_metric.py#180\" target=\"_blank\"><span style=\"color: #7f7f7f; text-decoration-color: #7f7f7f\">180</span></a>\n",
       "</pre>\n"
      ],
      "text/plain": [
       "\u001b[2;36m[05/02/25 10:28:01]\u001b[0m\u001b[2;36m \u001b[0m\u001b[33mWARNING \u001b[0m Unable to convert value to float: y                                     \u001b]8;id=636727;file:///Users/manonkempermann/safe-llm-finetune/venv/lib/python3.13/site-packages/inspect_ai/scorer/_metric.py\u001b\\\u001b[2m_metric.py\u001b[0m\u001b]8;;\u001b\\\u001b[2m:\u001b[0m\u001b]8;id=564223;file:///Users/manonkempermann/safe-llm-finetune/venv/lib/python3.13/site-packages/inspect_ai/scorer/_metric.py#180\u001b\\\u001b[2m180\u001b[0m\u001b]8;;\u001b\\\n"
      ]
     },
     "metadata": {},
     "output_type": "display_data"
    },
    {
     "data": {
      "text/html": [
       "<pre style=\"white-space:pre;overflow-x:auto;line-height:normal;font-family:Menlo,'DejaVu Sans Mono',consolas,'Courier New',monospace\"><span style=\"color: #7fbfbf; text-decoration-color: #7fbfbf\">                    </span><span style=\"color: #808000; text-decoration-color: #808000\">WARNING </span> Unable to convert value to float: y                                     <a href=\"file:///Users/manonkempermann/safe-llm-finetune/venv/lib/python3.13/site-packages/inspect_ai/scorer/_metric.py\" target=\"_blank\"><span style=\"color: #7f7f7f; text-decoration-color: #7f7f7f\">_metric.py</span></a><span style=\"color: #7f7f7f; text-decoration-color: #7f7f7f\">:</span><a href=\"file:///Users/manonkempermann/safe-llm-finetune/venv/lib/python3.13/site-packages/inspect_ai/scorer/_metric.py#180\" target=\"_blank\"><span style=\"color: #7f7f7f; text-decoration-color: #7f7f7f\">180</span></a>\n",
       "</pre>\n"
      ],
      "text/plain": [
       "\u001b[2;36m                   \u001b[0m\u001b[2;36m \u001b[0m\u001b[33mWARNING \u001b[0m Unable to convert value to float: y                                     \u001b]8;id=617459;file:///Users/manonkempermann/safe-llm-finetune/venv/lib/python3.13/site-packages/inspect_ai/scorer/_metric.py\u001b\\\u001b[2m_metric.py\u001b[0m\u001b]8;;\u001b\\\u001b[2m:\u001b[0m\u001b]8;id=310599;file:///Users/manonkempermann/safe-llm-finetune/venv/lib/python3.13/site-packages/inspect_ai/scorer/_metric.py#180\u001b\\\u001b[2m180\u001b[0m\u001b]8;;\u001b\\\n"
      ]
     },
     "metadata": {},
     "output_type": "display_data"
    },
    {
     "data": {
      "text/html": [
       "<pre style=\"white-space:pre;overflow-x:auto;line-height:normal;font-family:Menlo,'DejaVu Sans Mono',consolas,'Courier New',monospace\"><span style=\"color: #7fbfbf; text-decoration-color: #7fbfbf\">                    </span><span style=\"color: #808000; text-decoration-color: #808000\">WARNING </span> Unable to convert value to float: y                                     <a href=\"file:///Users/manonkempermann/safe-llm-finetune/venv/lib/python3.13/site-packages/inspect_ai/scorer/_metric.py\" target=\"_blank\"><span style=\"color: #7f7f7f; text-decoration-color: #7f7f7f\">_metric.py</span></a><span style=\"color: #7f7f7f; text-decoration-color: #7f7f7f\">:</span><a href=\"file:///Users/manonkempermann/safe-llm-finetune/venv/lib/python3.13/site-packages/inspect_ai/scorer/_metric.py#180\" target=\"_blank\"><span style=\"color: #7f7f7f; text-decoration-color: #7f7f7f\">180</span></a>\n",
       "</pre>\n"
      ],
      "text/plain": [
       "\u001b[2;36m                   \u001b[0m\u001b[2;36m \u001b[0m\u001b[33mWARNING \u001b[0m Unable to convert value to float: y                                     \u001b]8;id=576639;file:///Users/manonkempermann/safe-llm-finetune/venv/lib/python3.13/site-packages/inspect_ai/scorer/_metric.py\u001b\\\u001b[2m_metric.py\u001b[0m\u001b]8;;\u001b\\\u001b[2m:\u001b[0m\u001b]8;id=356139;file:///Users/manonkempermann/safe-llm-finetune/venv/lib/python3.13/site-packages/inspect_ai/scorer/_metric.py#180\u001b\\\u001b[2m180\u001b[0m\u001b]8;;\u001b\\\n"
      ]
     },
     "metadata": {},
     "output_type": "display_data"
    },
    {
     "data": {
      "text/html": [
       "<pre style=\"white-space:pre;overflow-x:auto;line-height:normal;font-family:Menlo,'DejaVu Sans Mono',consolas,'Courier New',monospace\"><span style=\"color: #7fbfbf; text-decoration-color: #7fbfbf\">                    </span><span style=\"color: #808000; text-decoration-color: #808000\">WARNING </span> Unable to convert value to float: y                                     <a href=\"file:///Users/manonkempermann/safe-llm-finetune/venv/lib/python3.13/site-packages/inspect_ai/scorer/_metric.py\" target=\"_blank\"><span style=\"color: #7f7f7f; text-decoration-color: #7f7f7f\">_metric.py</span></a><span style=\"color: #7f7f7f; text-decoration-color: #7f7f7f\">:</span><a href=\"file:///Users/manonkempermann/safe-llm-finetune/venv/lib/python3.13/site-packages/inspect_ai/scorer/_metric.py#180\" target=\"_blank\"><span style=\"color: #7f7f7f; text-decoration-color: #7f7f7f\">180</span></a>\n",
       "</pre>\n"
      ],
      "text/plain": [
       "\u001b[2;36m                   \u001b[0m\u001b[2;36m \u001b[0m\u001b[33mWARNING \u001b[0m Unable to convert value to float: y                                     \u001b]8;id=505712;file:///Users/manonkempermann/safe-llm-finetune/venv/lib/python3.13/site-packages/inspect_ai/scorer/_metric.py\u001b\\\u001b[2m_metric.py\u001b[0m\u001b]8;;\u001b\\\u001b[2m:\u001b[0m\u001b]8;id=762893;file:///Users/manonkempermann/safe-llm-finetune/venv/lib/python3.13/site-packages/inspect_ai/scorer/_metric.py#180\u001b\\\u001b[2m180\u001b[0m\u001b]8;;\u001b\\\n"
      ]
     },
     "metadata": {},
     "output_type": "display_data"
    },
    {
     "data": {
      "text/html": [
       "<pre style=\"white-space:pre;overflow-x:auto;line-height:normal;font-family:Menlo,'DejaVu Sans Mono',consolas,'Courier New',monospace\"><span style=\"color: #7fbfbf; text-decoration-color: #7fbfbf\">                    </span><span style=\"color: #808000; text-decoration-color: #808000\">WARNING </span> Unable to convert value to float: y                                     <a href=\"file:///Users/manonkempermann/safe-llm-finetune/venv/lib/python3.13/site-packages/inspect_ai/scorer/_metric.py\" target=\"_blank\"><span style=\"color: #7f7f7f; text-decoration-color: #7f7f7f\">_metric.py</span></a><span style=\"color: #7f7f7f; text-decoration-color: #7f7f7f\">:</span><a href=\"file:///Users/manonkempermann/safe-llm-finetune/venv/lib/python3.13/site-packages/inspect_ai/scorer/_metric.py#180\" target=\"_blank\"><span style=\"color: #7f7f7f; text-decoration-color: #7f7f7f\">180</span></a>\n",
       "</pre>\n"
      ],
      "text/plain": [
       "\u001b[2;36m                   \u001b[0m\u001b[2;36m \u001b[0m\u001b[33mWARNING \u001b[0m Unable to convert value to float: y                                     \u001b]8;id=34562;file:///Users/manonkempermann/safe-llm-finetune/venv/lib/python3.13/site-packages/inspect_ai/scorer/_metric.py\u001b\\\u001b[2m_metric.py\u001b[0m\u001b]8;;\u001b\\\u001b[2m:\u001b[0m\u001b]8;id=177588;file:///Users/manonkempermann/safe-llm-finetune/venv/lib/python3.13/site-packages/inspect_ai/scorer/_metric.py#180\u001b\\\u001b[2m180\u001b[0m\u001b]8;;\u001b\\\n"
      ]
     },
     "metadata": {},
     "output_type": "display_data"
    },
    {
     "data": {
      "text/html": [
       "<pre style=\"white-space:pre;overflow-x:auto;line-height:normal;font-family:Menlo,'DejaVu Sans Mono',consolas,'Courier New',monospace\"><span style=\"color: #7fbfbf; text-decoration-color: #7fbfbf\">                    </span><span style=\"color: #808000; text-decoration-color: #808000\">WARNING </span> Unable to convert value to float: y                                     <a href=\"file:///Users/manonkempermann/safe-llm-finetune/venv/lib/python3.13/site-packages/inspect_ai/scorer/_metric.py\" target=\"_blank\"><span style=\"color: #7f7f7f; text-decoration-color: #7f7f7f\">_metric.py</span></a><span style=\"color: #7f7f7f; text-decoration-color: #7f7f7f\">:</span><a href=\"file:///Users/manonkempermann/safe-llm-finetune/venv/lib/python3.13/site-packages/inspect_ai/scorer/_metric.py#180\" target=\"_blank\"><span style=\"color: #7f7f7f; text-decoration-color: #7f7f7f\">180</span></a>\n",
       "</pre>\n"
      ],
      "text/plain": [
       "\u001b[2;36m                   \u001b[0m\u001b[2;36m \u001b[0m\u001b[33mWARNING \u001b[0m Unable to convert value to float: y                                     \u001b]8;id=143143;file:///Users/manonkempermann/safe-llm-finetune/venv/lib/python3.13/site-packages/inspect_ai/scorer/_metric.py\u001b\\\u001b[2m_metric.py\u001b[0m\u001b]8;;\u001b\\\u001b[2m:\u001b[0m\u001b]8;id=10339;file:///Users/manonkempermann/safe-llm-finetune/venv/lib/python3.13/site-packages/inspect_ai/scorer/_metric.py#180\u001b\\\u001b[2m180\u001b[0m\u001b]8;;\u001b\\\n"
      ]
     },
     "metadata": {},
     "output_type": "display_data"
    },
    {
     "data": {
      "text/html": [
       "<pre style=\"white-space:pre;overflow-x:auto;line-height:normal;font-family:Menlo,'DejaVu Sans Mono',consolas,'Courier New',monospace\"><span style=\"color: #7fbfbf; text-decoration-color: #7fbfbf\">                    </span><span style=\"color: #808000; text-decoration-color: #808000\">WARNING </span> Unable to convert value to float: y                                     <a href=\"file:///Users/manonkempermann/safe-llm-finetune/venv/lib/python3.13/site-packages/inspect_ai/scorer/_metric.py\" target=\"_blank\"><span style=\"color: #7f7f7f; text-decoration-color: #7f7f7f\">_metric.py</span></a><span style=\"color: #7f7f7f; text-decoration-color: #7f7f7f\">:</span><a href=\"file:///Users/manonkempermann/safe-llm-finetune/venv/lib/python3.13/site-packages/inspect_ai/scorer/_metric.py#180\" target=\"_blank\"><span style=\"color: #7f7f7f; text-decoration-color: #7f7f7f\">180</span></a>\n",
       "</pre>\n"
      ],
      "text/plain": [
       "\u001b[2;36m                   \u001b[0m\u001b[2;36m \u001b[0m\u001b[33mWARNING \u001b[0m Unable to convert value to float: y                                     \u001b]8;id=97535;file:///Users/manonkempermann/safe-llm-finetune/venv/lib/python3.13/site-packages/inspect_ai/scorer/_metric.py\u001b\\\u001b[2m_metric.py\u001b[0m\u001b]8;;\u001b\\\u001b[2m:\u001b[0m\u001b]8;id=434247;file:///Users/manonkempermann/safe-llm-finetune/venv/lib/python3.13/site-packages/inspect_ai/scorer/_metric.py#180\u001b\\\u001b[2m180\u001b[0m\u001b]8;;\u001b\\\n"
      ]
     },
     "metadata": {},
     "output_type": "display_data"
    },
    {
     "data": {
      "text/html": [
       "<pre style=\"white-space:pre;overflow-x:auto;line-height:normal;font-family:Menlo,'DejaVu Sans Mono',consolas,'Courier New',monospace\"><span style=\"color: #7fbfbf; text-decoration-color: #7fbfbf\">                    </span><span style=\"color: #808000; text-decoration-color: #808000\">WARNING </span> Unable to convert value to float: y                                     <a href=\"file:///Users/manonkempermann/safe-llm-finetune/venv/lib/python3.13/site-packages/inspect_ai/scorer/_metric.py\" target=\"_blank\"><span style=\"color: #7f7f7f; text-decoration-color: #7f7f7f\">_metric.py</span></a><span style=\"color: #7f7f7f; text-decoration-color: #7f7f7f\">:</span><a href=\"file:///Users/manonkempermann/safe-llm-finetune/venv/lib/python3.13/site-packages/inspect_ai/scorer/_metric.py#180\" target=\"_blank\"><span style=\"color: #7f7f7f; text-decoration-color: #7f7f7f\">180</span></a>\n",
       "</pre>\n"
      ],
      "text/plain": [
       "\u001b[2;36m                   \u001b[0m\u001b[2;36m \u001b[0m\u001b[33mWARNING \u001b[0m Unable to convert value to float: y                                     \u001b]8;id=86688;file:///Users/manonkempermann/safe-llm-finetune/venv/lib/python3.13/site-packages/inspect_ai/scorer/_metric.py\u001b\\\u001b[2m_metric.py\u001b[0m\u001b]8;;\u001b\\\u001b[2m:\u001b[0m\u001b]8;id=182046;file:///Users/manonkempermann/safe-llm-finetune/venv/lib/python3.13/site-packages/inspect_ai/scorer/_metric.py#180\u001b\\\u001b[2m180\u001b[0m\u001b]8;;\u001b\\\n"
      ]
     },
     "metadata": {},
     "output_type": "display_data"
    },
    {
     "data": {
      "text/html": [
       "<pre style=\"white-space:pre;overflow-x:auto;line-height:normal;font-family:Menlo,'DejaVu Sans Mono',consolas,'Courier New',monospace\"><span style=\"color: #7fbfbf; text-decoration-color: #7fbfbf\">                    </span><span style=\"color: #808000; text-decoration-color: #808000\">WARNING </span> Unable to convert value to float: y                                     <a href=\"file:///Users/manonkempermann/safe-llm-finetune/venv/lib/python3.13/site-packages/inspect_ai/scorer/_metric.py\" target=\"_blank\"><span style=\"color: #7f7f7f; text-decoration-color: #7f7f7f\">_metric.py</span></a><span style=\"color: #7f7f7f; text-decoration-color: #7f7f7f\">:</span><a href=\"file:///Users/manonkempermann/safe-llm-finetune/venv/lib/python3.13/site-packages/inspect_ai/scorer/_metric.py#180\" target=\"_blank\"><span style=\"color: #7f7f7f; text-decoration-color: #7f7f7f\">180</span></a>\n",
       "</pre>\n"
      ],
      "text/plain": [
       "\u001b[2;36m                   \u001b[0m\u001b[2;36m \u001b[0m\u001b[33mWARNING \u001b[0m Unable to convert value to float: y                                     \u001b]8;id=294168;file:///Users/manonkempermann/safe-llm-finetune/venv/lib/python3.13/site-packages/inspect_ai/scorer/_metric.py\u001b\\\u001b[2m_metric.py\u001b[0m\u001b]8;;\u001b\\\u001b[2m:\u001b[0m\u001b]8;id=109003;file:///Users/manonkempermann/safe-llm-finetune/venv/lib/python3.13/site-packages/inspect_ai/scorer/_metric.py#180\u001b\\\u001b[2m180\u001b[0m\u001b]8;;\u001b\\\n"
      ]
     },
     "metadata": {},
     "output_type": "display_data"
    },
    {
     "data": {
      "text/html": [
       "<pre style=\"white-space:pre;overflow-x:auto;line-height:normal;font-family:Menlo,'DejaVu Sans Mono',consolas,'Courier New',monospace\"></pre>\n"
      ],
      "text/plain": []
     },
     "metadata": {},
     "output_type": "display_data"
    }
   ],
   "source": [
    "multi.runEval()"
   ]
  }
 ],
 "metadata": {
  "kernelspec": {
   "display_name": "venv",
   "language": "python",
   "name": "python3"
  },
  "language_info": {
   "codemirror_mode": {
    "name": "ipython",
    "version": 3
   },
   "file_extension": ".py",
   "mimetype": "text/x-python",
   "name": "python",
   "nbconvert_exporter": "python",
   "pygments_lexer": "ipython3",
   "version": "3.13.1"
  }
 },
 "nbformat": 4,
 "nbformat_minor": 5
}
