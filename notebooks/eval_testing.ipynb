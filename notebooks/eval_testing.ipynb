{
 "cells": [
  {
   "cell_type": "code",
   "execution_count": 1,
   "id": "b11c7bf4",
   "metadata": {},
   "outputs": [
    {
     "name": "stderr",
     "output_type": "stream",
     "text": [
      "Note: Environment variable`HF_TOKEN` is set and is the current active token independently from the token you've just configured.\n"
     ]
    }
   ],
   "source": [
    "from pathlib import Path\n",
    "import sys\n",
    "# Add project root to Python path to enable imports from the package\n",
    "sys.path.append(str(Path.cwd().parent))\n",
    "from safe_llm_finetune.evaluation.airbench import AirBench\n",
    "from safe_llm_finetune.evaluation.multitaskbench import MultiTaskBench\n",
    "from safe_llm_finetune.evaluation.codalbench import CodalBench\n",
    "import os\n",
    "from huggingface_hub import login\n",
    "\n",
    "\n",
    "HF_TOKEN = os.getenv(\"HF_TOKEN\")\n",
    "login(token=HF_TOKEN)"
   ]
  },
  {
   "cell_type": "code",
   "execution_count": 2,
   "id": "c0b896eb",
   "metadata": {},
   "outputs": [],
   "source": [
    "air = AirBench(model_name=\"GPT-4o-mini\", file_path=\"evallogs/GPT-4o-mini/test\", debug=True)"
   ]
  },
  {
   "cell_type": "code",
   "execution_count": 3,
   "id": "6d160c56",
   "metadata": {},
   "outputs": [
    {
     "data": {
      "application/vnd.jupyter.widget-view+json": {
       "model_id": "d454e1390a5b456b9e8688aaa129b28b",
       "version_major": 2,
       "version_minor": 0
      },
      "text/plain": [
       "Output()"
      ]
     },
     "metadata": {},
     "output_type": "display_data"
    },
    {
     "name": "stdout",
     "output_type": "stream",
     "text": [
      "<class 'inspect_ai._eval.task.task.Task'>\n"
     ]
    },
    {
     "data": {
      "text/html": [
       "<pre style=\"white-space:pre;overflow-x:auto;line-height:normal;font-family:Menlo,'DejaVu Sans Mono',consolas,'Courier New',monospace\"></pre>\n"
      ],
      "text/plain": []
     },
     "metadata": {},
     "output_type": "display_data"
    }
   ],
   "source": [
    "air.run()"
   ]
  },
  {
   "cell_type": "code",
   "execution_count": 2,
   "id": "069ae4a9",
   "metadata": {},
   "outputs": [],
   "source": [
    "codal = CodalBench(model_name=\"GPT-4o-mini\", file_path=\"evallogs/GPT-4o-mini/test\", debug = True)"
   ]
  },
  {
   "cell_type": "code",
   "execution_count": 3,
   "id": "1f2f3409",
   "metadata": {},
   "outputs": [
    {
     "data": {
      "application/vnd.jupyter.widget-view+json": {
       "model_id": "d2f960cc46754ea6b0a5f1544d8c0a4f",
       "version_major": 2,
       "version_minor": 0
      },
      "text/plain": [
       "Output()"
      ]
     },
     "metadata": {},
     "output_type": "display_data"
    },
    {
     "name": "stdout",
     "output_type": "stream",
     "text": [
      "<class 'list'>\n"
     ]
    },
    {
     "data": {
      "text/html": [
       "<pre style=\"white-space:pre;overflow-x:auto;line-height:normal;font-family:Menlo,'DejaVu Sans Mono',consolas,'Courier New',monospace\"></pre>\n"
      ],
      "text/plain": []
     },
     "metadata": {},
     "output_type": "display_data"
    },
    {
     "data": {
      "application/vnd.jupyter.widget-view+json": {
       "model_id": "af542bff6c1a495ea38de7a5a90f93ae",
       "version_major": 2,
       "version_minor": 0
      },
      "text/plain": [
       "Output()"
      ]
     },
     "metadata": {},
     "output_type": "display_data"
    },
    {
     "data": {
      "text/html": [
       "<pre style=\"white-space:pre;overflow-x:auto;line-height:normal;font-family:Menlo,'DejaVu Sans Mono',consolas,'Courier New',monospace\"></pre>\n"
      ],
      "text/plain": []
     },
     "metadata": {},
     "output_type": "display_data"
    },
    {
     "ename": "KeyboardInterrupt",
     "evalue": "",
     "output_type": "error",
     "traceback": [
      "\u001b[31m---------------------------------------------------------------------------\u001b[39m",
      "\u001b[31mKeyboardInterrupt\u001b[39m                         Traceback (most recent call last)",
      "\u001b[36mCell\u001b[39m\u001b[36m \u001b[39m\u001b[32mIn[3]\u001b[39m\u001b[32m, line 1\u001b[39m\n\u001b[32m----> \u001b[39m\u001b[32m1\u001b[39m \u001b[43mcodal\u001b[49m\u001b[43m.\u001b[49m\u001b[43mrunEval\u001b[49m\u001b[43m(\u001b[49m\u001b[43m)\u001b[49m\n",
      "\u001b[36mFile \u001b[39m\u001b[32m~/safe-llm-finetune/safe_llm_finetune/evaluation/base.py:50\u001b[39m, in \u001b[36mEvaluator.runEval\u001b[39m\u001b[34m(self)\u001b[39m\n\u001b[32m     48\u001b[39m \u001b[38;5;28;01mif\u001b[39;00m \u001b[38;5;28mself\u001b[39m.debug:\n\u001b[32m     49\u001b[39m     \u001b[38;5;28mprint\u001b[39m(\u001b[38;5;28mtype\u001b[39m(task))\n\u001b[32m---> \u001b[39m\u001b[32m50\u001b[39m     results = \u001b[43minspect_eval\u001b[49m\u001b[43m(\u001b[49m\u001b[43mtasks\u001b[49m\u001b[43m=\u001b[49m\u001b[43mtask\u001b[49m\u001b[43m,\u001b[49m\u001b[43m \u001b[49m\u001b[43mmodel\u001b[49m\u001b[43m=\u001b[49m\u001b[43m \u001b[49m\u001b[33;43m\"\u001b[39;49m\u001b[33;43mopenai/gpt-4o-mini\u001b[39;49m\u001b[33;43m\"\u001b[39;49m\u001b[43m,\u001b[49m\u001b[43m \u001b[49m\u001b[43mlog_dir\u001b[49m\u001b[43m=\u001b[49m\u001b[43m \u001b[49m\u001b[38;5;28;43mself\u001b[39;49m\u001b[43m.\u001b[49m\u001b[43mfile_path\u001b[49m\u001b[43m \u001b[49m\u001b[43m+\u001b[49m\u001b[43m \u001b[49m\u001b[33;43m\"\u001b[39;49m\u001b[33;43m/eval_log\u001b[39;49m\u001b[33;43m\"\u001b[39;49m\u001b[43m,\u001b[49m\u001b[43m \u001b[49m\u001b[43mlimit\u001b[49m\u001b[43m=\u001b[49m\u001b[32;43m10\u001b[39;49m\u001b[43m)\u001b[49m\n\u001b[32m     51\u001b[39m \u001b[38;5;28;01melse\u001b[39;00m:\n\u001b[32m     52\u001b[39m     results = inspect_eval(tasks=task, model= model, log_dir= \u001b[38;5;28mself\u001b[39m.file_path + \u001b[33m\"\u001b[39m\u001b[33m/eval_log\u001b[39m\u001b[33m\"\u001b[39m, model_args=\u001b[38;5;28mdict\u001b[39m(device=\u001b[33m\"\u001b[39m\u001b[33mcuda:0\u001b[39m\u001b[33m\"\u001b[39m))\n",
      "\u001b[36mFile \u001b[39m\u001b[32m~/safe-llm-finetune/venv/lib/python3.13/site-packages/inspect_ai/_eval/eval.py:241\u001b[39m, in \u001b[36meval\u001b[39m\u001b[34m(tasks, model, model_base_url, model_args, model_roles, task_args, sandbox, sandbox_cleanup, solver, tags, metadata, trace, display, approval, log_level, log_level_transcript, log_dir, log_format, limit, sample_id, epochs, fail_on_error, debug_errors, message_limit, token_limit, time_limit, working_limit, max_samples, max_tasks, max_subprocesses, max_sandboxes, log_samples, log_images, log_buffer, log_shared, score, score_display, **kwargs)\u001b[39m\n\u001b[32m    238\u001b[39m         \u001b[38;5;28;01melse\u001b[39;00m:\n\u001b[32m    239\u001b[39m             \u001b[38;5;28;01mraise\u001b[39;00m\n\u001b[32m--> \u001b[39m\u001b[32m241\u001b[39m \u001b[38;5;28;01mreturn\u001b[39;00m \u001b[43mtask_display\u001b[49m\u001b[43m(\u001b[49m\u001b[43m)\u001b[49m\u001b[43m.\u001b[49m\u001b[43mrun_task_app\u001b[49m\u001b[43m(\u001b[49m\u001b[43mrun_task_app\u001b[49m\u001b[43m)\u001b[49m\n",
      "\u001b[36mFile \u001b[39m\u001b[32m~/safe-llm-finetune/venv/lib/python3.13/site-packages/inspect_ai/_display/rich/display.py:80\u001b[39m, in \u001b[36mRichDisplay.run_task_app\u001b[39m\u001b[34m(self, main)\u001b[39m\n\u001b[32m     77\u001b[39m \u001b[38;5;129m@override\u001b[39m\n\u001b[32m     78\u001b[39m \u001b[38;5;28;01mdef\u001b[39;00m\u001b[38;5;250m \u001b[39m\u001b[34mrun_task_app\u001b[39m(\u001b[38;5;28mself\u001b[39m, main: Callable[[], Coroutine[\u001b[38;5;28;01mNone\u001b[39;00m, \u001b[38;5;28;01mNone\u001b[39;00m, TR]]) -> TR:\n\u001b[32m     79\u001b[39m     \u001b[38;5;28;01mif\u001b[39;00m running_in_notebook():\n\u001b[32m---> \u001b[39m\u001b[32m80\u001b[39m         \u001b[38;5;28;01mreturn\u001b[39;00m \u001b[43mrun_coroutine\u001b[49m\u001b[43m(\u001b[49m\u001b[43mmain\u001b[49m\u001b[43m(\u001b[49m\u001b[43m)\u001b[49m\u001b[43m)\u001b[49m\n\u001b[32m     81\u001b[39m     \u001b[38;5;28;01melse\u001b[39;00m:\n\u001b[32m     82\u001b[39m         \u001b[38;5;28;01mreturn\u001b[39;00m anyio.run(main, backend=configured_async_backend())\n",
      "\u001b[36mFile \u001b[39m\u001b[32m~/safe-llm-finetune/venv/lib/python3.13/site-packages/inspect_ai/_util/_async.py:116\u001b[39m, in \u001b[36mrun_coroutine\u001b[39m\u001b[34m(coroutine)\u001b[39m\n\u001b[32m    114\u001b[39m \u001b[38;5;28;01mif\u001b[39;00m running_in_notebook():\n\u001b[32m    115\u001b[39m     init_nest_asyncio()\n\u001b[32m--> \u001b[39m\u001b[32m116\u001b[39m     \u001b[38;5;28;01mreturn\u001b[39;00m \u001b[43masyncio\u001b[49m\u001b[43m.\u001b[49m\u001b[43mrun\u001b[49m\u001b[43m(\u001b[49m\u001b[43mcoroutine\u001b[49m\u001b[43m)\u001b[49m\n\u001b[32m    117\u001b[39m \u001b[38;5;28;01melse\u001b[39;00m:\n\u001b[32m    118\u001b[39m     \u001b[38;5;28;01mtry\u001b[39;00m:\n\u001b[32m    119\u001b[39m         \u001b[38;5;66;03m# this will throw if there is no running loop\u001b[39;00m\n",
      "\u001b[36mFile \u001b[39m\u001b[32m~/safe-llm-finetune/venv/lib/python3.13/site-packages/nest_asyncio.py:30\u001b[39m, in \u001b[36m_patch_asyncio.<locals>.run\u001b[39m\u001b[34m(main, debug)\u001b[39m\n\u001b[32m     28\u001b[39m task = asyncio.ensure_future(main)\n\u001b[32m     29\u001b[39m \u001b[38;5;28;01mtry\u001b[39;00m:\n\u001b[32m---> \u001b[39m\u001b[32m30\u001b[39m     \u001b[38;5;28;01mreturn\u001b[39;00m \u001b[43mloop\u001b[49m\u001b[43m.\u001b[49m\u001b[43mrun_until_complete\u001b[49m\u001b[43m(\u001b[49m\u001b[43mtask\u001b[49m\u001b[43m)\u001b[49m\n\u001b[32m     31\u001b[39m \u001b[38;5;28;01mfinally\u001b[39;00m:\n\u001b[32m     32\u001b[39m     \u001b[38;5;28;01mif\u001b[39;00m \u001b[38;5;129;01mnot\u001b[39;00m task.done():\n",
      "\u001b[36mFile \u001b[39m\u001b[32m~/safe-llm-finetune/venv/lib/python3.13/site-packages/nest_asyncio.py:92\u001b[39m, in \u001b[36m_patch_loop.<locals>.run_until_complete\u001b[39m\u001b[34m(self, future)\u001b[39m\n\u001b[32m     90\u001b[39m     f._log_destroy_pending = \u001b[38;5;28;01mFalse\u001b[39;00m\n\u001b[32m     91\u001b[39m \u001b[38;5;28;01mwhile\u001b[39;00m \u001b[38;5;129;01mnot\u001b[39;00m f.done():\n\u001b[32m---> \u001b[39m\u001b[32m92\u001b[39m     \u001b[38;5;28;43mself\u001b[39;49m\u001b[43m.\u001b[49m\u001b[43m_run_once\u001b[49m\u001b[43m(\u001b[49m\u001b[43m)\u001b[49m\n\u001b[32m     93\u001b[39m     \u001b[38;5;28;01mif\u001b[39;00m \u001b[38;5;28mself\u001b[39m._stopping:\n\u001b[32m     94\u001b[39m         \u001b[38;5;28;01mbreak\u001b[39;00m\n",
      "\u001b[36mFile \u001b[39m\u001b[32m~/safe-llm-finetune/venv/lib/python3.13/site-packages/nest_asyncio.py:115\u001b[39m, in \u001b[36m_patch_loop.<locals>._run_once\u001b[39m\u001b[34m(self)\u001b[39m\n\u001b[32m    108\u001b[39m     heappop(scheduled)\n\u001b[32m    110\u001b[39m timeout = (\n\u001b[32m    111\u001b[39m     \u001b[32m0\u001b[39m \u001b[38;5;28;01mif\u001b[39;00m ready \u001b[38;5;129;01mor\u001b[39;00m \u001b[38;5;28mself\u001b[39m._stopping\n\u001b[32m    112\u001b[39m     \u001b[38;5;28;01melse\u001b[39;00m \u001b[38;5;28mmin\u001b[39m(\u001b[38;5;28mmax\u001b[39m(\n\u001b[32m    113\u001b[39m         scheduled[\u001b[32m0\u001b[39m]._when - \u001b[38;5;28mself\u001b[39m.time(), \u001b[32m0\u001b[39m), \u001b[32m86400\u001b[39m) \u001b[38;5;28;01mif\u001b[39;00m scheduled\n\u001b[32m    114\u001b[39m     \u001b[38;5;28;01melse\u001b[39;00m \u001b[38;5;28;01mNone\u001b[39;00m)\n\u001b[32m--> \u001b[39m\u001b[32m115\u001b[39m event_list = \u001b[38;5;28;43mself\u001b[39;49m\u001b[43m.\u001b[49m\u001b[43m_selector\u001b[49m\u001b[43m.\u001b[49m\u001b[43mselect\u001b[49m\u001b[43m(\u001b[49m\u001b[43mtimeout\u001b[49m\u001b[43m)\u001b[49m\n\u001b[32m    116\u001b[39m \u001b[38;5;28mself\u001b[39m._process_events(event_list)\n\u001b[32m    118\u001b[39m end_time = \u001b[38;5;28mself\u001b[39m.time() + \u001b[38;5;28mself\u001b[39m._clock_resolution\n",
      "\u001b[36mFile \u001b[39m\u001b[32m/opt/homebrew/Cellar/python@3.13/3.13.1/Frameworks/Python.framework/Versions/3.13/lib/python3.13/selectors.py:548\u001b[39m, in \u001b[36mKqueueSelector.select\u001b[39m\u001b[34m(self, timeout)\u001b[39m\n\u001b[32m    546\u001b[39m ready = []\n\u001b[32m    547\u001b[39m \u001b[38;5;28;01mtry\u001b[39;00m:\n\u001b[32m--> \u001b[39m\u001b[32m548\u001b[39m     kev_list = \u001b[38;5;28;43mself\u001b[39;49m\u001b[43m.\u001b[49m\u001b[43m_selector\u001b[49m\u001b[43m.\u001b[49m\u001b[43mcontrol\u001b[49m\u001b[43m(\u001b[49m\u001b[38;5;28;43;01mNone\u001b[39;49;00m\u001b[43m,\u001b[49m\u001b[43m \u001b[49m\u001b[43mmax_ev\u001b[49m\u001b[43m,\u001b[49m\u001b[43m \u001b[49m\u001b[43mtimeout\u001b[49m\u001b[43m)\u001b[49m\n\u001b[32m    549\u001b[39m \u001b[38;5;28;01mexcept\u001b[39;00m \u001b[38;5;167;01mInterruptedError\u001b[39;00m:\n\u001b[32m    550\u001b[39m     \u001b[38;5;28;01mreturn\u001b[39;00m ready\n",
      "\u001b[31mKeyboardInterrupt\u001b[39m: "
     ]
    }
   ],
   "source": [
    "codal.runEval()"
   ]
  },
  {
   "cell_type": "code",
   "execution_count": 2,
   "id": "5ec2637b",
   "metadata": {},
   "outputs": [],
   "source": [
    "multi = MultiTaskBench(model_name=\"GPT-4o-mini\", file_path=\"evallogs/GPT-4o-mini/test\", debug = True)\n"
   ]
  },
  {
   "cell_type": "code",
   "execution_count": 3,
   "id": "adf950e6",
   "metadata": {},
   "outputs": [
    {
     "data": {
      "application/vnd.jupyter.widget-view+json": {
       "model_id": "de3d816b39ad48f1b97c80e580f47fc2",
       "version_major": 2,
       "version_minor": 0
      },
      "text/plain": [
       "Output()"
      ]
     },
     "metadata": {},
     "output_type": "display_data"
    },
    {
     "name": "stdout",
     "output_type": "stream",
     "text": [
      "<class 'inspect_ai._eval.task.task.Task'>\n"
     ]
    },
    {
     "data": {
      "text/html": [
       "<pre style=\"white-space:pre;overflow-x:auto;line-height:normal;font-family:Menlo,'DejaVu Sans Mono',consolas,'Courier New',monospace\"><span style=\"color: #7fbfbf; text-decoration-color: #7fbfbf\">[05/02/25 10:27:53] </span><span style=\"color: #808000; text-decoration-color: #808000\">WARNING </span> Unable to convert value to float: y                                     <a href=\"file:///Users/manonkempermann/safe-llm-finetune/venv/lib/python3.13/site-packages/inspect_ai/scorer/_metric.py\" target=\"_blank\"><span style=\"color: #7f7f7f; text-decoration-color: #7f7f7f\">_metric.py</span></a><span style=\"color: #7f7f7f; text-decoration-color: #7f7f7f\">:</span><a href=\"file:///Users/manonkempermann/safe-llm-finetune/venv/lib/python3.13/site-packages/inspect_ai/scorer/_metric.py#180\" target=\"_blank\"><span style=\"color: #7f7f7f; text-decoration-color: #7f7f7f\">180</span></a>\n",
       "</pre>\n"
      ],
      "text/plain": [
       "\u001b[2;36m[05/02/25 10:27:53]\u001b[0m\u001b[2;36m \u001b[0m\u001b[33mWARNING \u001b[0m Unable to convert value to float: y                                     \u001b]8;id=5859;file:///Users/manonkempermann/safe-llm-finetune/venv/lib/python3.13/site-packages/inspect_ai/scorer/_metric.py\u001b\\\u001b[2m_metric.py\u001b[0m\u001b]8;;\u001b\\\u001b[2m:\u001b[0m\u001b]8;id=208196;file:///Users/manonkempermann/safe-llm-finetune/venv/lib/python3.13/site-packages/inspect_ai/scorer/_metric.py#180\u001b\\\u001b[2m180\u001b[0m\u001b]8;;\u001b\\\n"
      ]
     },
     "metadata": {},
     "output_type": "display_data"
    },
    {
     "data": {
      "text/html": [
       "<pre style=\"white-space:pre;overflow-x:auto;line-height:normal;font-family:Menlo,'DejaVu Sans Mono',consolas,'Courier New',monospace\"><span style=\"color: #7fbfbf; text-decoration-color: #7fbfbf\">[05/02/25 10:27:54] </span><span style=\"color: #808000; text-decoration-color: #808000\">WARNING </span> Unable to convert value to float: y                                     <a href=\"file:///Users/manonkempermann/safe-llm-finetune/venv/lib/python3.13/site-packages/inspect_ai/scorer/_metric.py\" target=\"_blank\"><span style=\"color: #7f7f7f; text-decoration-color: #7f7f7f\">_metric.py</span></a><span style=\"color: #7f7f7f; text-decoration-color: #7f7f7f\">:</span><a href=\"file:///Users/manonkempermann/safe-llm-finetune/venv/lib/python3.13/site-packages/inspect_ai/scorer/_metric.py#180\" target=\"_blank\"><span style=\"color: #7f7f7f; text-decoration-color: #7f7f7f\">180</span></a>\n",
       "</pre>\n"
      ],
      "text/plain": [
       "\u001b[2;36m[05/02/25 10:27:54]\u001b[0m\u001b[2;36m \u001b[0m\u001b[33mWARNING \u001b[0m Unable to convert value to float: y                                     \u001b]8;id=289376;file:///Users/manonkempermann/safe-llm-finetune/venv/lib/python3.13/site-packages/inspect_ai/scorer/_metric.py\u001b\\\u001b[2m_metric.py\u001b[0m\u001b]8;;\u001b\\\u001b[2m:\u001b[0m\u001b]8;id=334906;file:///Users/manonkempermann/safe-llm-finetune/venv/lib/python3.13/site-packages/inspect_ai/scorer/_metric.py#180\u001b\\\u001b[2m180\u001b[0m\u001b]8;;\u001b\\\n"
      ]
     },
     "metadata": {},
     "output_type": "display_data"
    },
    {
     "data": {
      "text/html": [
       "<pre style=\"white-space:pre;overflow-x:auto;line-height:normal;font-family:Menlo,'DejaVu Sans Mono',consolas,'Courier New',monospace\"><span style=\"color: #7fbfbf; text-decoration-color: #7fbfbf\">                    </span><span style=\"color: #808000; text-decoration-color: #808000\">WARNING </span> Unable to convert value to float: y                                     <a href=\"file:///Users/manonkempermann/safe-llm-finetune/venv/lib/python3.13/site-packages/inspect_ai/scorer/_metric.py\" target=\"_blank\"><span style=\"color: #7f7f7f; text-decoration-color: #7f7f7f\">_metric.py</span></a><span style=\"color: #7f7f7f; text-decoration-color: #7f7f7f\">:</span><a href=\"file:///Users/manonkempermann/safe-llm-finetune/venv/lib/python3.13/site-packages/inspect_ai/scorer/_metric.py#180\" target=\"_blank\"><span style=\"color: #7f7f7f; text-decoration-color: #7f7f7f\">180</span></a>\n",
       "</pre>\n"
      ],
      "text/plain": [
       "\u001b[2;36m                   \u001b[0m\u001b[2;36m \u001b[0m\u001b[33mWARNING \u001b[0m Unable to convert value to float: y                                     \u001b]8;id=213693;file:///Users/manonkempermann/safe-llm-finetune/venv/lib/python3.13/site-packages/inspect_ai/scorer/_metric.py\u001b\\\u001b[2m_metric.py\u001b[0m\u001b]8;;\u001b\\\u001b[2m:\u001b[0m\u001b]8;id=531006;file:///Users/manonkempermann/safe-llm-finetune/venv/lib/python3.13/site-packages/inspect_ai/scorer/_metric.py#180\u001b\\\u001b[2m180\u001b[0m\u001b]8;;\u001b\\\n"
      ]
     },
     "metadata": {},
     "output_type": "display_data"
    },
    {
     "data": {
      "text/html": [
       "<pre style=\"white-space:pre;overflow-x:auto;line-height:normal;font-family:Menlo,'DejaVu Sans Mono',consolas,'Courier New',monospace\"><span style=\"color: #7fbfbf; text-decoration-color: #7fbfbf\">                    </span><span style=\"color: #808000; text-decoration-color: #808000\">WARNING </span> Unable to convert value to float: y                                     <a href=\"file:///Users/manonkempermann/safe-llm-finetune/venv/lib/python3.13/site-packages/inspect_ai/scorer/_metric.py\" target=\"_blank\"><span style=\"color: #7f7f7f; text-decoration-color: #7f7f7f\">_metric.py</span></a><span style=\"color: #7f7f7f; text-decoration-color: #7f7f7f\">:</span><a href=\"file:///Users/manonkempermann/safe-llm-finetune/venv/lib/python3.13/site-packages/inspect_ai/scorer/_metric.py#180\" target=\"_blank\"><span style=\"color: #7f7f7f; text-decoration-color: #7f7f7f\">180</span></a>\n",
       "</pre>\n"
      ],
      "text/plain": [
       "\u001b[2;36m                   \u001b[0m\u001b[2;36m \u001b[0m\u001b[33mWARNING \u001b[0m Unable to convert value to float: y                                     \u001b]8;id=904334;file:///Users/manonkempermann/safe-llm-finetune/venv/lib/python3.13/site-packages/inspect_ai/scorer/_metric.py\u001b\\\u001b[2m_metric.py\u001b[0m\u001b]8;;\u001b\\\u001b[2m:\u001b[0m\u001b]8;id=970452;file:///Users/manonkempermann/safe-llm-finetune/venv/lib/python3.13/site-packages/inspect_ai/scorer/_metric.py#180\u001b\\\u001b[2m180\u001b[0m\u001b]8;;\u001b\\\n"
      ]
     },
     "metadata": {},
     "output_type": "display_data"
    },
    {
     "data": {
      "text/html": [
       "<pre style=\"white-space:pre;overflow-x:auto;line-height:normal;font-family:Menlo,'DejaVu Sans Mono',consolas,'Courier New',monospace\"><span style=\"color: #7fbfbf; text-decoration-color: #7fbfbf\">[05/02/25 10:27:55] </span><span style=\"color: #808000; text-decoration-color: #808000\">WARNING </span> Unable to convert value to float: y                                     <a href=\"file:///Users/manonkempermann/safe-llm-finetune/venv/lib/python3.13/site-packages/inspect_ai/scorer/_metric.py\" target=\"_blank\"><span style=\"color: #7f7f7f; text-decoration-color: #7f7f7f\">_metric.py</span></a><span style=\"color: #7f7f7f; text-decoration-color: #7f7f7f\">:</span><a href=\"file:///Users/manonkempermann/safe-llm-finetune/venv/lib/python3.13/site-packages/inspect_ai/scorer/_metric.py#180\" target=\"_blank\"><span style=\"color: #7f7f7f; text-decoration-color: #7f7f7f\">180</span></a>\n",
       "</pre>\n"
      ],
      "text/plain": [
       "\u001b[2;36m[05/02/25 10:27:55]\u001b[0m\u001b[2;36m \u001b[0m\u001b[33mWARNING \u001b[0m Unable to convert value to float: y                                     \u001b]8;id=626436;file:///Users/manonkempermann/safe-llm-finetune/venv/lib/python3.13/site-packages/inspect_ai/scorer/_metric.py\u001b\\\u001b[2m_metric.py\u001b[0m\u001b]8;;\u001b\\\u001b[2m:\u001b[0m\u001b]8;id=573291;file:///Users/manonkempermann/safe-llm-finetune/venv/lib/python3.13/site-packages/inspect_ai/scorer/_metric.py#180\u001b\\\u001b[2m180\u001b[0m\u001b]8;;\u001b\\\n"
      ]
     },
     "metadata": {},
     "output_type": "display_data"
    },
    {
     "data": {
      "text/html": [
       "<pre style=\"white-space:pre;overflow-x:auto;line-height:normal;font-family:Menlo,'DejaVu Sans Mono',consolas,'Courier New',monospace\"><span style=\"color: #7fbfbf; text-decoration-color: #7fbfbf\">                    </span><span style=\"color: #808000; text-decoration-color: #808000\">WARNING </span> Unable to convert value to float: y                                     <a href=\"file:///Users/manonkempermann/safe-llm-finetune/venv/lib/python3.13/site-packages/inspect_ai/scorer/_metric.py\" target=\"_blank\"><span style=\"color: #7f7f7f; text-decoration-color: #7f7f7f\">_metric.py</span></a><span style=\"color: #7f7f7f; text-decoration-color: #7f7f7f\">:</span><a href=\"file:///Users/manonkempermann/safe-llm-finetune/venv/lib/python3.13/site-packages/inspect_ai/scorer/_metric.py#180\" target=\"_blank\"><span style=\"color: #7f7f7f; text-decoration-color: #7f7f7f\">180</span></a>\n",
       "</pre>\n"
      ],
      "text/plain": [
       "\u001b[2;36m                   \u001b[0m\u001b[2;36m \u001b[0m\u001b[33mWARNING \u001b[0m Unable to convert value to float: y                                     \u001b]8;id=791717;file:///Users/manonkempermann/safe-llm-finetune/venv/lib/python3.13/site-packages/inspect_ai/scorer/_metric.py\u001b\\\u001b[2m_metric.py\u001b[0m\u001b]8;;\u001b\\\u001b[2m:\u001b[0m\u001b]8;id=360182;file:///Users/manonkempermann/safe-llm-finetune/venv/lib/python3.13/site-packages/inspect_ai/scorer/_metric.py#180\u001b\\\u001b[2m180\u001b[0m\u001b]8;;\u001b\\\n"
      ]
     },
     "metadata": {},
     "output_type": "display_data"
    },
    {
     "data": {
      "text/html": [
       "<pre style=\"white-space:pre;overflow-x:auto;line-height:normal;font-family:Menlo,'DejaVu Sans Mono',consolas,'Courier New',monospace\"><span style=\"color: #7fbfbf; text-decoration-color: #7fbfbf\">                    </span><span style=\"color: #808000; text-decoration-color: #808000\">WARNING </span> Unable to convert value to float: y                                     <a href=\"file:///Users/manonkempermann/safe-llm-finetune/venv/lib/python3.13/site-packages/inspect_ai/scorer/_metric.py\" target=\"_blank\"><span style=\"color: #7f7f7f; text-decoration-color: #7f7f7f\">_metric.py</span></a><span style=\"color: #7f7f7f; text-decoration-color: #7f7f7f\">:</span><a href=\"file:///Users/manonkempermann/safe-llm-finetune/venv/lib/python3.13/site-packages/inspect_ai/scorer/_metric.py#180\" target=\"_blank\"><span style=\"color: #7f7f7f; text-decoration-color: #7f7f7f\">180</span></a>\n",
       "</pre>\n"
      ],
      "text/plain": [
       "\u001b[2;36m                   \u001b[0m\u001b[2;36m \u001b[0m\u001b[33mWARNING \u001b[0m Unable to convert value to float: y                                     \u001b]8;id=540505;file:///Users/manonkempermann/safe-llm-finetune/venv/lib/python3.13/site-packages/inspect_ai/scorer/_metric.py\u001b\\\u001b[2m_metric.py\u001b[0m\u001b]8;;\u001b\\\u001b[2m:\u001b[0m\u001b]8;id=764494;file:///Users/manonkempermann/safe-llm-finetune/venv/lib/python3.13/site-packages/inspect_ai/scorer/_metric.py#180\u001b\\\u001b[2m180\u001b[0m\u001b]8;;\u001b\\\n"
      ]
     },
     "metadata": {},
     "output_type": "display_data"
    },
    {
     "data": {
      "text/html": [
       "<pre style=\"white-space:pre;overflow-x:auto;line-height:normal;font-family:Menlo,'DejaVu Sans Mono',consolas,'Courier New',monospace\"><span style=\"color: #7fbfbf; text-decoration-color: #7fbfbf\">                    </span><span style=\"color: #808000; text-decoration-color: #808000\">WARNING </span> Unable to convert value to float: y                                     <a href=\"file:///Users/manonkempermann/safe-llm-finetune/venv/lib/python3.13/site-packages/inspect_ai/scorer/_metric.py\" target=\"_blank\"><span style=\"color: #7f7f7f; text-decoration-color: #7f7f7f\">_metric.py</span></a><span style=\"color: #7f7f7f; text-decoration-color: #7f7f7f\">:</span><a href=\"file:///Users/manonkempermann/safe-llm-finetune/venv/lib/python3.13/site-packages/inspect_ai/scorer/_metric.py#180\" target=\"_blank\"><span style=\"color: #7f7f7f; text-decoration-color: #7f7f7f\">180</span></a>\n",
       "</pre>\n"
      ],
      "text/plain": [
       "\u001b[2;36m                   \u001b[0m\u001b[2;36m \u001b[0m\u001b[33mWARNING \u001b[0m Unable to convert value to float: y                                     \u001b]8;id=640807;file:///Users/manonkempermann/safe-llm-finetune/venv/lib/python3.13/site-packages/inspect_ai/scorer/_metric.py\u001b\\\u001b[2m_metric.py\u001b[0m\u001b]8;;\u001b\\\u001b[2m:\u001b[0m\u001b]8;id=375097;file:///Users/manonkempermann/safe-llm-finetune/venv/lib/python3.13/site-packages/inspect_ai/scorer/_metric.py#180\u001b\\\u001b[2m180\u001b[0m\u001b]8;;\u001b\\\n"
      ]
     },
     "metadata": {},
     "output_type": "display_data"
    },
    {
     "data": {
      "text/html": [
       "<pre style=\"white-space:pre;overflow-x:auto;line-height:normal;font-family:Menlo,'DejaVu Sans Mono',consolas,'Courier New',monospace\"><span style=\"color: #7fbfbf; text-decoration-color: #7fbfbf\">                    </span><span style=\"color: #808000; text-decoration-color: #808000\">WARNING </span> Unable to convert value to float: y                                     <a href=\"file:///Users/manonkempermann/safe-llm-finetune/venv/lib/python3.13/site-packages/inspect_ai/scorer/_metric.py\" target=\"_blank\"><span style=\"color: #7f7f7f; text-decoration-color: #7f7f7f\">_metric.py</span></a><span style=\"color: #7f7f7f; text-decoration-color: #7f7f7f\">:</span><a href=\"file:///Users/manonkempermann/safe-llm-finetune/venv/lib/python3.13/site-packages/inspect_ai/scorer/_metric.py#180\" target=\"_blank\"><span style=\"color: #7f7f7f; text-decoration-color: #7f7f7f\">180</span></a>\n",
       "</pre>\n"
      ],
      "text/plain": [
       "\u001b[2;36m                   \u001b[0m\u001b[2;36m \u001b[0m\u001b[33mWARNING \u001b[0m Unable to convert value to float: y                                     \u001b]8;id=690267;file:///Users/manonkempermann/safe-llm-finetune/venv/lib/python3.13/site-packages/inspect_ai/scorer/_metric.py\u001b\\\u001b[2m_metric.py\u001b[0m\u001b]8;;\u001b\\\u001b[2m:\u001b[0m\u001b]8;id=514681;file:///Users/manonkempermann/safe-llm-finetune/venv/lib/python3.13/site-packages/inspect_ai/scorer/_metric.py#180\u001b\\\u001b[2m180\u001b[0m\u001b]8;;\u001b\\\n"
      ]
     },
     "metadata": {},
     "output_type": "display_data"
    },
    {
     "data": {
      "text/html": [
       "<pre style=\"white-space:pre;overflow-x:auto;line-height:normal;font-family:Menlo,'DejaVu Sans Mono',consolas,'Courier New',monospace\"><span style=\"color: #7fbfbf; text-decoration-color: #7fbfbf\">                    </span><span style=\"color: #808000; text-decoration-color: #808000\">WARNING </span> Unable to convert value to float: y                                     <a href=\"file:///Users/manonkempermann/safe-llm-finetune/venv/lib/python3.13/site-packages/inspect_ai/scorer/_metric.py\" target=\"_blank\"><span style=\"color: #7f7f7f; text-decoration-color: #7f7f7f\">_metric.py</span></a><span style=\"color: #7f7f7f; text-decoration-color: #7f7f7f\">:</span><a href=\"file:///Users/manonkempermann/safe-llm-finetune/venv/lib/python3.13/site-packages/inspect_ai/scorer/_metric.py#180\" target=\"_blank\"><span style=\"color: #7f7f7f; text-decoration-color: #7f7f7f\">180</span></a>\n",
       "</pre>\n"
      ],
      "text/plain": [
       "\u001b[2;36m                   \u001b[0m\u001b[2;36m \u001b[0m\u001b[33mWARNING \u001b[0m Unable to convert value to float: y                                     \u001b]8;id=742804;file:///Users/manonkempermann/safe-llm-finetune/venv/lib/python3.13/site-packages/inspect_ai/scorer/_metric.py\u001b\\\u001b[2m_metric.py\u001b[0m\u001b]8;;\u001b\\\u001b[2m:\u001b[0m\u001b]8;id=629983;file:///Users/manonkempermann/safe-llm-finetune/venv/lib/python3.13/site-packages/inspect_ai/scorer/_metric.py#180\u001b\\\u001b[2m180\u001b[0m\u001b]8;;\u001b\\\n"
      ]
     },
     "metadata": {},
     "output_type": "display_data"
    },
    {
     "data": {
      "text/html": [
       "<pre style=\"white-space:pre;overflow-x:auto;line-height:normal;font-family:Menlo,'DejaVu Sans Mono',consolas,'Courier New',monospace\"><span style=\"color: #7fbfbf; text-decoration-color: #7fbfbf\">[05/02/25 10:27:56] </span><span style=\"color: #808000; text-decoration-color: #808000\">WARNING </span> Unable to convert value to float: y                                     <a href=\"file:///Users/manonkempermann/safe-llm-finetune/venv/lib/python3.13/site-packages/inspect_ai/scorer/_metric.py\" target=\"_blank\"><span style=\"color: #7f7f7f; text-decoration-color: #7f7f7f\">_metric.py</span></a><span style=\"color: #7f7f7f; text-decoration-color: #7f7f7f\">:</span><a href=\"file:///Users/manonkempermann/safe-llm-finetune/venv/lib/python3.13/site-packages/inspect_ai/scorer/_metric.py#180\" target=\"_blank\"><span style=\"color: #7f7f7f; text-decoration-color: #7f7f7f\">180</span></a>\n",
       "</pre>\n"
      ],
      "text/plain": [
       "\u001b[2;36m[05/02/25 10:27:56]\u001b[0m\u001b[2;36m \u001b[0m\u001b[33mWARNING \u001b[0m Unable to convert value to float: y                                     \u001b]8;id=111768;file:///Users/manonkempermann/safe-llm-finetune/venv/lib/python3.13/site-packages/inspect_ai/scorer/_metric.py\u001b\\\u001b[2m_metric.py\u001b[0m\u001b]8;;\u001b\\\u001b[2m:\u001b[0m\u001b]8;id=295337;file:///Users/manonkempermann/safe-llm-finetune/venv/lib/python3.13/site-packages/inspect_ai/scorer/_metric.py#180\u001b\\\u001b[2m180\u001b[0m\u001b]8;;\u001b\\\n"
      ]
     },
     "metadata": {},
     "output_type": "display_data"
    },
    {
     "data": {
      "text/html": [
       "<pre style=\"white-space:pre;overflow-x:auto;line-height:normal;font-family:Menlo,'DejaVu Sans Mono',consolas,'Courier New',monospace\"><span style=\"color: #7fbfbf; text-decoration-color: #7fbfbf\">                    </span><span style=\"color: #808000; text-decoration-color: #808000\">WARNING </span> Unable to convert value to float: y                                     <a href=\"file:///Users/manonkempermann/safe-llm-finetune/venv/lib/python3.13/site-packages/inspect_ai/scorer/_metric.py\" target=\"_blank\"><span style=\"color: #7f7f7f; text-decoration-color: #7f7f7f\">_metric.py</span></a><span style=\"color: #7f7f7f; text-decoration-color: #7f7f7f\">:</span><a href=\"file:///Users/manonkempermann/safe-llm-finetune/venv/lib/python3.13/site-packages/inspect_ai/scorer/_metric.py#180\" target=\"_blank\"><span style=\"color: #7f7f7f; text-decoration-color: #7f7f7f\">180</span></a>\n",
       "</pre>\n"
      ],
      "text/plain": [
       "\u001b[2;36m                   \u001b[0m\u001b[2;36m \u001b[0m\u001b[33mWARNING \u001b[0m Unable to convert value to float: y                                     \u001b]8;id=278105;file:///Users/manonkempermann/safe-llm-finetune/venv/lib/python3.13/site-packages/inspect_ai/scorer/_metric.py\u001b\\\u001b[2m_metric.py\u001b[0m\u001b]8;;\u001b\\\u001b[2m:\u001b[0m\u001b]8;id=669502;file:///Users/manonkempermann/safe-llm-finetune/venv/lib/python3.13/site-packages/inspect_ai/scorer/_metric.py#180\u001b\\\u001b[2m180\u001b[0m\u001b]8;;\u001b\\\n"
      ]
     },
     "metadata": {},
     "output_type": "display_data"
    },
    {
     "data": {
      "text/html": [
       "<pre style=\"white-space:pre;overflow-x:auto;line-height:normal;font-family:Menlo,'DejaVu Sans Mono',consolas,'Courier New',monospace\"><span style=\"color: #7fbfbf; text-decoration-color: #7fbfbf\">                    </span><span style=\"color: #808000; text-decoration-color: #808000\">WARNING </span> Unable to convert value to float: y                                     <a href=\"file:///Users/manonkempermann/safe-llm-finetune/venv/lib/python3.13/site-packages/inspect_ai/scorer/_metric.py\" target=\"_blank\"><span style=\"color: #7f7f7f; text-decoration-color: #7f7f7f\">_metric.py</span></a><span style=\"color: #7f7f7f; text-decoration-color: #7f7f7f\">:</span><a href=\"file:///Users/manonkempermann/safe-llm-finetune/venv/lib/python3.13/site-packages/inspect_ai/scorer/_metric.py#180\" target=\"_blank\"><span style=\"color: #7f7f7f; text-decoration-color: #7f7f7f\">180</span></a>\n",
       "</pre>\n"
      ],
      "text/plain": [
       "\u001b[2;36m                   \u001b[0m\u001b[2;36m \u001b[0m\u001b[33mWARNING \u001b[0m Unable to convert value to float: y                                     \u001b]8;id=788510;file:///Users/manonkempermann/safe-llm-finetune/venv/lib/python3.13/site-packages/inspect_ai/scorer/_metric.py\u001b\\\u001b[2m_metric.py\u001b[0m\u001b]8;;\u001b\\\u001b[2m:\u001b[0m\u001b]8;id=942724;file:///Users/manonkempermann/safe-llm-finetune/venv/lib/python3.13/site-packages/inspect_ai/scorer/_metric.py#180\u001b\\\u001b[2m180\u001b[0m\u001b]8;;\u001b\\\n"
      ]
     },
     "metadata": {},
     "output_type": "display_data"
    },
    {
     "data": {
      "text/html": [
       "<pre style=\"white-space:pre;overflow-x:auto;line-height:normal;font-family:Menlo,'DejaVu Sans Mono',consolas,'Courier New',monospace\"><span style=\"color: #7fbfbf; text-decoration-color: #7fbfbf\">                    </span><span style=\"color: #808000; text-decoration-color: #808000\">WARNING </span> Unable to convert value to float: y                                     <a href=\"file:///Users/manonkempermann/safe-llm-finetune/venv/lib/python3.13/site-packages/inspect_ai/scorer/_metric.py\" target=\"_blank\"><span style=\"color: #7f7f7f; text-decoration-color: #7f7f7f\">_metric.py</span></a><span style=\"color: #7f7f7f; text-decoration-color: #7f7f7f\">:</span><a href=\"file:///Users/manonkempermann/safe-llm-finetune/venv/lib/python3.13/site-packages/inspect_ai/scorer/_metric.py#180\" target=\"_blank\"><span style=\"color: #7f7f7f; text-decoration-color: #7f7f7f\">180</span></a>\n",
       "</pre>\n"
      ],
      "text/plain": [
       "\u001b[2;36m                   \u001b[0m\u001b[2;36m \u001b[0m\u001b[33mWARNING \u001b[0m Unable to convert value to float: y                                     \u001b]8;id=790037;file:///Users/manonkempermann/safe-llm-finetune/venv/lib/python3.13/site-packages/inspect_ai/scorer/_metric.py\u001b\\\u001b[2m_metric.py\u001b[0m\u001b]8;;\u001b\\\u001b[2m:\u001b[0m\u001b]8;id=579538;file:///Users/manonkempermann/safe-llm-finetune/venv/lib/python3.13/site-packages/inspect_ai/scorer/_metric.py#180\u001b\\\u001b[2m180\u001b[0m\u001b]8;;\u001b\\\n"
      ]
     },
     "metadata": {},
     "output_type": "display_data"
    },
    {
     "data": {
      "text/html": [
       "<pre style=\"white-space:pre;overflow-x:auto;line-height:normal;font-family:Menlo,'DejaVu Sans Mono',consolas,'Courier New',monospace\"><span style=\"color: #7fbfbf; text-decoration-color: #7fbfbf\">                    </span><span style=\"color: #808000; text-decoration-color: #808000\">WARNING </span> Unable to convert value to float: y                                     <a href=\"file:///Users/manonkempermann/safe-llm-finetune/venv/lib/python3.13/site-packages/inspect_ai/scorer/_metric.py\" target=\"_blank\"><span style=\"color: #7f7f7f; text-decoration-color: #7f7f7f\">_metric.py</span></a><span style=\"color: #7f7f7f; text-decoration-color: #7f7f7f\">:</span><a href=\"file:///Users/manonkempermann/safe-llm-finetune/venv/lib/python3.13/site-packages/inspect_ai/scorer/_metric.py#180\" target=\"_blank\"><span style=\"color: #7f7f7f; text-decoration-color: #7f7f7f\">180</span></a>\n",
       "</pre>\n"
      ],
      "text/plain": [
       "\u001b[2;36m                   \u001b[0m\u001b[2;36m \u001b[0m\u001b[33mWARNING \u001b[0m Unable to convert value to float: y                                     \u001b]8;id=162829;file:///Users/manonkempermann/safe-llm-finetune/venv/lib/python3.13/site-packages/inspect_ai/scorer/_metric.py\u001b\\\u001b[2m_metric.py\u001b[0m\u001b]8;;\u001b\\\u001b[2m:\u001b[0m\u001b]8;id=261688;file:///Users/manonkempermann/safe-llm-finetune/venv/lib/python3.13/site-packages/inspect_ai/scorer/_metric.py#180\u001b\\\u001b[2m180\u001b[0m\u001b]8;;\u001b\\\n"
      ]
     },
     "metadata": {},
     "output_type": "display_data"
    },
    {
     "data": {
      "text/html": [
       "<pre style=\"white-space:pre;overflow-x:auto;line-height:normal;font-family:Menlo,'DejaVu Sans Mono',consolas,'Courier New',monospace\"><span style=\"color: #7fbfbf; text-decoration-color: #7fbfbf\">                    </span><span style=\"color: #808000; text-decoration-color: #808000\">WARNING </span> Unable to convert value to float: y                                     <a href=\"file:///Users/manonkempermann/safe-llm-finetune/venv/lib/python3.13/site-packages/inspect_ai/scorer/_metric.py\" target=\"_blank\"><span style=\"color: #7f7f7f; text-decoration-color: #7f7f7f\">_metric.py</span></a><span style=\"color: #7f7f7f; text-decoration-color: #7f7f7f\">:</span><a href=\"file:///Users/manonkempermann/safe-llm-finetune/venv/lib/python3.13/site-packages/inspect_ai/scorer/_metric.py#180\" target=\"_blank\"><span style=\"color: #7f7f7f; text-decoration-color: #7f7f7f\">180</span></a>\n",
       "</pre>\n"
      ],
      "text/plain": [
       "\u001b[2;36m                   \u001b[0m\u001b[2;36m \u001b[0m\u001b[33mWARNING \u001b[0m Unable to convert value to float: y                                     \u001b]8;id=785943;file:///Users/manonkempermann/safe-llm-finetune/venv/lib/python3.13/site-packages/inspect_ai/scorer/_metric.py\u001b\\\u001b[2m_metric.py\u001b[0m\u001b]8;;\u001b\\\u001b[2m:\u001b[0m\u001b]8;id=575437;file:///Users/manonkempermann/safe-llm-finetune/venv/lib/python3.13/site-packages/inspect_ai/scorer/_metric.py#180\u001b\\\u001b[2m180\u001b[0m\u001b]8;;\u001b\\\n"
      ]
     },
     "metadata": {},
     "output_type": "display_data"
    },
    {
     "data": {
      "text/html": [
       "<pre style=\"white-space:pre;overflow-x:auto;line-height:normal;font-family:Menlo,'DejaVu Sans Mono',consolas,'Courier New',monospace\"><span style=\"color: #7fbfbf; text-decoration-color: #7fbfbf\">                    </span><span style=\"color: #808000; text-decoration-color: #808000\">WARNING </span> Unable to convert value to float: y                                     <a href=\"file:///Users/manonkempermann/safe-llm-finetune/venv/lib/python3.13/site-packages/inspect_ai/scorer/_metric.py\" target=\"_blank\"><span style=\"color: #7f7f7f; text-decoration-color: #7f7f7f\">_metric.py</span></a><span style=\"color: #7f7f7f; text-decoration-color: #7f7f7f\">:</span><a href=\"file:///Users/manonkempermann/safe-llm-finetune/venv/lib/python3.13/site-packages/inspect_ai/scorer/_metric.py#180\" target=\"_blank\"><span style=\"color: #7f7f7f; text-decoration-color: #7f7f7f\">180</span></a>\n",
       "</pre>\n"
      ],
      "text/plain": [
       "\u001b[2;36m                   \u001b[0m\u001b[2;36m \u001b[0m\u001b[33mWARNING \u001b[0m Unable to convert value to float: y                                     \u001b]8;id=156526;file:///Users/manonkempermann/safe-llm-finetune/venv/lib/python3.13/site-packages/inspect_ai/scorer/_metric.py\u001b\\\u001b[2m_metric.py\u001b[0m\u001b]8;;\u001b\\\u001b[2m:\u001b[0m\u001b]8;id=935842;file:///Users/manonkempermann/safe-llm-finetune/venv/lib/python3.13/site-packages/inspect_ai/scorer/_metric.py#180\u001b\\\u001b[2m180\u001b[0m\u001b]8;;\u001b\\\n"
      ]
     },
     "metadata": {},
     "output_type": "display_data"
    },
    {
     "data": {
      "text/html": [
       "<pre style=\"white-space:pre;overflow-x:auto;line-height:normal;font-family:Menlo,'DejaVu Sans Mono',consolas,'Courier New',monospace\"><span style=\"color: #7fbfbf; text-decoration-color: #7fbfbf\">[05/02/25 10:28:00] </span><span style=\"color: #808000; text-decoration-color: #808000\">WARNING </span> Unable to convert value to float: y                                     <a href=\"file:///Users/manonkempermann/safe-llm-finetune/venv/lib/python3.13/site-packages/inspect_ai/scorer/_metric.py\" target=\"_blank\"><span style=\"color: #7f7f7f; text-decoration-color: #7f7f7f\">_metric.py</span></a><span style=\"color: #7f7f7f; text-decoration-color: #7f7f7f\">:</span><a href=\"file:///Users/manonkempermann/safe-llm-finetune/venv/lib/python3.13/site-packages/inspect_ai/scorer/_metric.py#180\" target=\"_blank\"><span style=\"color: #7f7f7f; text-decoration-color: #7f7f7f\">180</span></a>\n",
       "</pre>\n"
      ],
      "text/plain": [
       "\u001b[2;36m[05/02/25 10:28:00]\u001b[0m\u001b[2;36m \u001b[0m\u001b[33mWARNING \u001b[0m Unable to convert value to float: y                                     \u001b]8;id=817565;file:///Users/manonkempermann/safe-llm-finetune/venv/lib/python3.13/site-packages/inspect_ai/scorer/_metric.py\u001b\\\u001b[2m_metric.py\u001b[0m\u001b]8;;\u001b\\\u001b[2m:\u001b[0m\u001b]8;id=33314;file:///Users/manonkempermann/safe-llm-finetune/venv/lib/python3.13/site-packages/inspect_ai/scorer/_metric.py#180\u001b\\\u001b[2m180\u001b[0m\u001b]8;;\u001b\\\n"
      ]
     },
     "metadata": {},
     "output_type": "display_data"
    },
    {
     "data": {
      "text/html": [
       "<pre style=\"white-space:pre;overflow-x:auto;line-height:normal;font-family:Menlo,'DejaVu Sans Mono',consolas,'Courier New',monospace\"><span style=\"color: #7fbfbf; text-decoration-color: #7fbfbf\">                    </span><span style=\"color: #808000; text-decoration-color: #808000\">WARNING </span> Unable to convert value to float: y                                     <a href=\"file:///Users/manonkempermann/safe-llm-finetune/venv/lib/python3.13/site-packages/inspect_ai/scorer/_metric.py\" target=\"_blank\"><span style=\"color: #7f7f7f; text-decoration-color: #7f7f7f\">_metric.py</span></a><span style=\"color: #7f7f7f; text-decoration-color: #7f7f7f\">:</span><a href=\"file:///Users/manonkempermann/safe-llm-finetune/venv/lib/python3.13/site-packages/inspect_ai/scorer/_metric.py#180\" target=\"_blank\"><span style=\"color: #7f7f7f; text-decoration-color: #7f7f7f\">180</span></a>\n",
       "</pre>\n"
      ],
      "text/plain": [
       "\u001b[2;36m                   \u001b[0m\u001b[2;36m \u001b[0m\u001b[33mWARNING \u001b[0m Unable to convert value to float: y                                     \u001b]8;id=574040;file:///Users/manonkempermann/safe-llm-finetune/venv/lib/python3.13/site-packages/inspect_ai/scorer/_metric.py\u001b\\\u001b[2m_metric.py\u001b[0m\u001b]8;;\u001b\\\u001b[2m:\u001b[0m\u001b]8;id=615131;file:///Users/manonkempermann/safe-llm-finetune/venv/lib/python3.13/site-packages/inspect_ai/scorer/_metric.py#180\u001b\\\u001b[2m180\u001b[0m\u001b]8;;\u001b\\\n"
      ]
     },
     "metadata": {},
     "output_type": "display_data"
    },
    {
     "data": {
      "text/html": [
       "<pre style=\"white-space:pre;overflow-x:auto;line-height:normal;font-family:Menlo,'DejaVu Sans Mono',consolas,'Courier New',monospace\"><span style=\"color: #7fbfbf; text-decoration-color: #7fbfbf\">                    </span><span style=\"color: #808000; text-decoration-color: #808000\">WARNING </span> Unable to convert value to float: y                                     <a href=\"file:///Users/manonkempermann/safe-llm-finetune/venv/lib/python3.13/site-packages/inspect_ai/scorer/_metric.py\" target=\"_blank\"><span style=\"color: #7f7f7f; text-decoration-color: #7f7f7f\">_metric.py</span></a><span style=\"color: #7f7f7f; text-decoration-color: #7f7f7f\">:</span><a href=\"file:///Users/manonkempermann/safe-llm-finetune/venv/lib/python3.13/site-packages/inspect_ai/scorer/_metric.py#180\" target=\"_blank\"><span style=\"color: #7f7f7f; text-decoration-color: #7f7f7f\">180</span></a>\n",
       "</pre>\n"
      ],
      "text/plain": [
       "\u001b[2;36m                   \u001b[0m\u001b[2;36m \u001b[0m\u001b[33mWARNING \u001b[0m Unable to convert value to float: y                                     \u001b]8;id=619962;file:///Users/manonkempermann/safe-llm-finetune/venv/lib/python3.13/site-packages/inspect_ai/scorer/_metric.py\u001b\\\u001b[2m_metric.py\u001b[0m\u001b]8;;\u001b\\\u001b[2m:\u001b[0m\u001b]8;id=911008;file:///Users/manonkempermann/safe-llm-finetune/venv/lib/python3.13/site-packages/inspect_ai/scorer/_metric.py#180\u001b\\\u001b[2m180\u001b[0m\u001b]8;;\u001b\\\n"
      ]
     },
     "metadata": {},
     "output_type": "display_data"
    },
    {
     "data": {
      "text/html": [
       "<pre style=\"white-space:pre;overflow-x:auto;line-height:normal;font-family:Menlo,'DejaVu Sans Mono',consolas,'Courier New',monospace\"><span style=\"color: #7fbfbf; text-decoration-color: #7fbfbf\">                    </span><span style=\"color: #808000; text-decoration-color: #808000\">WARNING </span> Unable to convert value to float: y                                     <a href=\"file:///Users/manonkempermann/safe-llm-finetune/venv/lib/python3.13/site-packages/inspect_ai/scorer/_metric.py\" target=\"_blank\"><span style=\"color: #7f7f7f; text-decoration-color: #7f7f7f\">_metric.py</span></a><span style=\"color: #7f7f7f; text-decoration-color: #7f7f7f\">:</span><a href=\"file:///Users/manonkempermann/safe-llm-finetune/venv/lib/python3.13/site-packages/inspect_ai/scorer/_metric.py#180\" target=\"_blank\"><span style=\"color: #7f7f7f; text-decoration-color: #7f7f7f\">180</span></a>\n",
       "</pre>\n"
      ],
      "text/plain": [
       "\u001b[2;36m                   \u001b[0m\u001b[2;36m \u001b[0m\u001b[33mWARNING \u001b[0m Unable to convert value to float: y                                     \u001b]8;id=619755;file:///Users/manonkempermann/safe-llm-finetune/venv/lib/python3.13/site-packages/inspect_ai/scorer/_metric.py\u001b\\\u001b[2m_metric.py\u001b[0m\u001b]8;;\u001b\\\u001b[2m:\u001b[0m\u001b]8;id=494322;file:///Users/manonkempermann/safe-llm-finetune/venv/lib/python3.13/site-packages/inspect_ai/scorer/_metric.py#180\u001b\\\u001b[2m180\u001b[0m\u001b]8;;\u001b\\\n"
      ]
     },
     "metadata": {},
     "output_type": "display_data"
    },
    {
     "data": {
      "text/html": [
       "<pre style=\"white-space:pre;overflow-x:auto;line-height:normal;font-family:Menlo,'DejaVu Sans Mono',consolas,'Courier New',monospace\"><span style=\"color: #7fbfbf; text-decoration-color: #7fbfbf\">                    </span><span style=\"color: #808000; text-decoration-color: #808000\">WARNING </span> Unable to convert value to float: y                                     <a href=\"file:///Users/manonkempermann/safe-llm-finetune/venv/lib/python3.13/site-packages/inspect_ai/scorer/_metric.py\" target=\"_blank\"><span style=\"color: #7f7f7f; text-decoration-color: #7f7f7f\">_metric.py</span></a><span style=\"color: #7f7f7f; text-decoration-color: #7f7f7f\">:</span><a href=\"file:///Users/manonkempermann/safe-llm-finetune/venv/lib/python3.13/site-packages/inspect_ai/scorer/_metric.py#180\" target=\"_blank\"><span style=\"color: #7f7f7f; text-decoration-color: #7f7f7f\">180</span></a>\n",
       "</pre>\n"
      ],
      "text/plain": [
       "\u001b[2;36m                   \u001b[0m\u001b[2;36m \u001b[0m\u001b[33mWARNING \u001b[0m Unable to convert value to float: y                                     \u001b]8;id=100415;file:///Users/manonkempermann/safe-llm-finetune/venv/lib/python3.13/site-packages/inspect_ai/scorer/_metric.py\u001b\\\u001b[2m_metric.py\u001b[0m\u001b]8;;\u001b\\\u001b[2m:\u001b[0m\u001b]8;id=173013;file:///Users/manonkempermann/safe-llm-finetune/venv/lib/python3.13/site-packages/inspect_ai/scorer/_metric.py#180\u001b\\\u001b[2m180\u001b[0m\u001b]8;;\u001b\\\n"
      ]
     },
     "metadata": {},
     "output_type": "display_data"
    },
    {
     "data": {
      "text/html": [
       "<pre style=\"white-space:pre;overflow-x:auto;line-height:normal;font-family:Menlo,'DejaVu Sans Mono',consolas,'Courier New',monospace\"><span style=\"color: #7fbfbf; text-decoration-color: #7fbfbf\">                    </span><span style=\"color: #808000; text-decoration-color: #808000\">WARNING </span> Unable to convert value to float: y                                     <a href=\"file:///Users/manonkempermann/safe-llm-finetune/venv/lib/python3.13/site-packages/inspect_ai/scorer/_metric.py\" target=\"_blank\"><span style=\"color: #7f7f7f; text-decoration-color: #7f7f7f\">_metric.py</span></a><span style=\"color: #7f7f7f; text-decoration-color: #7f7f7f\">:</span><a href=\"file:///Users/manonkempermann/safe-llm-finetune/venv/lib/python3.13/site-packages/inspect_ai/scorer/_metric.py#180\" target=\"_blank\"><span style=\"color: #7f7f7f; text-decoration-color: #7f7f7f\">180</span></a>\n",
       "</pre>\n"
      ],
      "text/plain": [
       "\u001b[2;36m                   \u001b[0m\u001b[2;36m \u001b[0m\u001b[33mWARNING \u001b[0m Unable to convert value to float: y                                     \u001b]8;id=313861;file:///Users/manonkempermann/safe-llm-finetune/venv/lib/python3.13/site-packages/inspect_ai/scorer/_metric.py\u001b\\\u001b[2m_metric.py\u001b[0m\u001b]8;;\u001b\\\u001b[2m:\u001b[0m\u001b]8;id=409731;file:///Users/manonkempermann/safe-llm-finetune/venv/lib/python3.13/site-packages/inspect_ai/scorer/_metric.py#180\u001b\\\u001b[2m180\u001b[0m\u001b]8;;\u001b\\\n"
      ]
     },
     "metadata": {},
     "output_type": "display_data"
    },
    {
     "data": {
      "text/html": [
       "<pre style=\"white-space:pre;overflow-x:auto;line-height:normal;font-family:Menlo,'DejaVu Sans Mono',consolas,'Courier New',monospace\"><span style=\"color: #7fbfbf; text-decoration-color: #7fbfbf\">                    </span><span style=\"color: #808000; text-decoration-color: #808000\">WARNING </span> Unable to convert value to float: y                                     <a href=\"file:///Users/manonkempermann/safe-llm-finetune/venv/lib/python3.13/site-packages/inspect_ai/scorer/_metric.py\" target=\"_blank\"><span style=\"color: #7f7f7f; text-decoration-color: #7f7f7f\">_metric.py</span></a><span style=\"color: #7f7f7f; text-decoration-color: #7f7f7f\">:</span><a href=\"file:///Users/manonkempermann/safe-llm-finetune/venv/lib/python3.13/site-packages/inspect_ai/scorer/_metric.py#180\" target=\"_blank\"><span style=\"color: #7f7f7f; text-decoration-color: #7f7f7f\">180</span></a>\n",
       "</pre>\n"
      ],
      "text/plain": [
       "\u001b[2;36m                   \u001b[0m\u001b[2;36m \u001b[0m\u001b[33mWARNING \u001b[0m Unable to convert value to float: y                                     \u001b]8;id=329212;file:///Users/manonkempermann/safe-llm-finetune/venv/lib/python3.13/site-packages/inspect_ai/scorer/_metric.py\u001b\\\u001b[2m_metric.py\u001b[0m\u001b]8;;\u001b\\\u001b[2m:\u001b[0m\u001b]8;id=418861;file:///Users/manonkempermann/safe-llm-finetune/venv/lib/python3.13/site-packages/inspect_ai/scorer/_metric.py#180\u001b\\\u001b[2m180\u001b[0m\u001b]8;;\u001b\\\n"
      ]
     },
     "metadata": {},
     "output_type": "display_data"
    },
    {
     "data": {
      "text/html": [
       "<pre style=\"white-space:pre;overflow-x:auto;line-height:normal;font-family:Menlo,'DejaVu Sans Mono',consolas,'Courier New',monospace\"><span style=\"color: #7fbfbf; text-decoration-color: #7fbfbf\">[05/02/25 10:28:01] </span><span style=\"color: #808000; text-decoration-color: #808000\">WARNING </span> Unable to convert value to float: y                                     <a href=\"file:///Users/manonkempermann/safe-llm-finetune/venv/lib/python3.13/site-packages/inspect_ai/scorer/_metric.py\" target=\"_blank\"><span style=\"color: #7f7f7f; text-decoration-color: #7f7f7f\">_metric.py</span></a><span style=\"color: #7f7f7f; text-decoration-color: #7f7f7f\">:</span><a href=\"file:///Users/manonkempermann/safe-llm-finetune/venv/lib/python3.13/site-packages/inspect_ai/scorer/_metric.py#180\" target=\"_blank\"><span style=\"color: #7f7f7f; text-decoration-color: #7f7f7f\">180</span></a>\n",
       "</pre>\n"
      ],
      "text/plain": [
       "\u001b[2;36m[05/02/25 10:28:01]\u001b[0m\u001b[2;36m \u001b[0m\u001b[33mWARNING \u001b[0m Unable to convert value to float: y                                     \u001b]8;id=636727;file:///Users/manonkempermann/safe-llm-finetune/venv/lib/python3.13/site-packages/inspect_ai/scorer/_metric.py\u001b\\\u001b[2m_metric.py\u001b[0m\u001b]8;;\u001b\\\u001b[2m:\u001b[0m\u001b]8;id=564223;file:///Users/manonkempermann/safe-llm-finetune/venv/lib/python3.13/site-packages/inspect_ai/scorer/_metric.py#180\u001b\\\u001b[2m180\u001b[0m\u001b]8;;\u001b\\\n"
      ]
     },
     "metadata": {},
     "output_type": "display_data"
    },
    {
     "data": {
      "text/html": [
       "<pre style=\"white-space:pre;overflow-x:auto;line-height:normal;font-family:Menlo,'DejaVu Sans Mono',consolas,'Courier New',monospace\"><span style=\"color: #7fbfbf; text-decoration-color: #7fbfbf\">                    </span><span style=\"color: #808000; text-decoration-color: #808000\">WARNING </span> Unable to convert value to float: y                                     <a href=\"file:///Users/manonkempermann/safe-llm-finetune/venv/lib/python3.13/site-packages/inspect_ai/scorer/_metric.py\" target=\"_blank\"><span style=\"color: #7f7f7f; text-decoration-color: #7f7f7f\">_metric.py</span></a><span style=\"color: #7f7f7f; text-decoration-color: #7f7f7f\">:</span><a href=\"file:///Users/manonkempermann/safe-llm-finetune/venv/lib/python3.13/site-packages/inspect_ai/scorer/_metric.py#180\" target=\"_blank\"><span style=\"color: #7f7f7f; text-decoration-color: #7f7f7f\">180</span></a>\n",
       "</pre>\n"
      ],
      "text/plain": [
       "\u001b[2;36m                   \u001b[0m\u001b[2;36m \u001b[0m\u001b[33mWARNING \u001b[0m Unable to convert value to float: y                                     \u001b]8;id=617459;file:///Users/manonkempermann/safe-llm-finetune/venv/lib/python3.13/site-packages/inspect_ai/scorer/_metric.py\u001b\\\u001b[2m_metric.py\u001b[0m\u001b]8;;\u001b\\\u001b[2m:\u001b[0m\u001b]8;id=310599;file:///Users/manonkempermann/safe-llm-finetune/venv/lib/python3.13/site-packages/inspect_ai/scorer/_metric.py#180\u001b\\\u001b[2m180\u001b[0m\u001b]8;;\u001b\\\n"
      ]
     },
     "metadata": {},
     "output_type": "display_data"
    },
    {
     "data": {
      "text/html": [
       "<pre style=\"white-space:pre;overflow-x:auto;line-height:normal;font-family:Menlo,'DejaVu Sans Mono',consolas,'Courier New',monospace\"><span style=\"color: #7fbfbf; text-decoration-color: #7fbfbf\">                    </span><span style=\"color: #808000; text-decoration-color: #808000\">WARNING </span> Unable to convert value to float: y                                     <a href=\"file:///Users/manonkempermann/safe-llm-finetune/venv/lib/python3.13/site-packages/inspect_ai/scorer/_metric.py\" target=\"_blank\"><span style=\"color: #7f7f7f; text-decoration-color: #7f7f7f\">_metric.py</span></a><span style=\"color: #7f7f7f; text-decoration-color: #7f7f7f\">:</span><a href=\"file:///Users/manonkempermann/safe-llm-finetune/venv/lib/python3.13/site-packages/inspect_ai/scorer/_metric.py#180\" target=\"_blank\"><span style=\"color: #7f7f7f; text-decoration-color: #7f7f7f\">180</span></a>\n",
       "</pre>\n"
      ],
      "text/plain": [
       "\u001b[2;36m                   \u001b[0m\u001b[2;36m \u001b[0m\u001b[33mWARNING \u001b[0m Unable to convert value to float: y                                     \u001b]8;id=576639;file:///Users/manonkempermann/safe-llm-finetune/venv/lib/python3.13/site-packages/inspect_ai/scorer/_metric.py\u001b\\\u001b[2m_metric.py\u001b[0m\u001b]8;;\u001b\\\u001b[2m:\u001b[0m\u001b]8;id=356139;file:///Users/manonkempermann/safe-llm-finetune/venv/lib/python3.13/site-packages/inspect_ai/scorer/_metric.py#180\u001b\\\u001b[2m180\u001b[0m\u001b]8;;\u001b\\\n"
      ]
     },
     "metadata": {},
     "output_type": "display_data"
    },
    {
     "data": {
      "text/html": [
       "<pre style=\"white-space:pre;overflow-x:auto;line-height:normal;font-family:Menlo,'DejaVu Sans Mono',consolas,'Courier New',monospace\"><span style=\"color: #7fbfbf; text-decoration-color: #7fbfbf\">                    </span><span style=\"color: #808000; text-decoration-color: #808000\">WARNING </span> Unable to convert value to float: y                                     <a href=\"file:///Users/manonkempermann/safe-llm-finetune/venv/lib/python3.13/site-packages/inspect_ai/scorer/_metric.py\" target=\"_blank\"><span style=\"color: #7f7f7f; text-decoration-color: #7f7f7f\">_metric.py</span></a><span style=\"color: #7f7f7f; text-decoration-color: #7f7f7f\">:</span><a href=\"file:///Users/manonkempermann/safe-llm-finetune/venv/lib/python3.13/site-packages/inspect_ai/scorer/_metric.py#180\" target=\"_blank\"><span style=\"color: #7f7f7f; text-decoration-color: #7f7f7f\">180</span></a>\n",
       "</pre>\n"
      ],
      "text/plain": [
       "\u001b[2;36m                   \u001b[0m\u001b[2;36m \u001b[0m\u001b[33mWARNING \u001b[0m Unable to convert value to float: y                                     \u001b]8;id=505712;file:///Users/manonkempermann/safe-llm-finetune/venv/lib/python3.13/site-packages/inspect_ai/scorer/_metric.py\u001b\\\u001b[2m_metric.py\u001b[0m\u001b]8;;\u001b\\\u001b[2m:\u001b[0m\u001b]8;id=762893;file:///Users/manonkempermann/safe-llm-finetune/venv/lib/python3.13/site-packages/inspect_ai/scorer/_metric.py#180\u001b\\\u001b[2m180\u001b[0m\u001b]8;;\u001b\\\n"
      ]
     },
     "metadata": {},
     "output_type": "display_data"
    },
    {
     "data": {
      "text/html": [
       "<pre style=\"white-space:pre;overflow-x:auto;line-height:normal;font-family:Menlo,'DejaVu Sans Mono',consolas,'Courier New',monospace\"><span style=\"color: #7fbfbf; text-decoration-color: #7fbfbf\">                    </span><span style=\"color: #808000; text-decoration-color: #808000\">WARNING </span> Unable to convert value to float: y                                     <a href=\"file:///Users/manonkempermann/safe-llm-finetune/venv/lib/python3.13/site-packages/inspect_ai/scorer/_metric.py\" target=\"_blank\"><span style=\"color: #7f7f7f; text-decoration-color: #7f7f7f\">_metric.py</span></a><span style=\"color: #7f7f7f; text-decoration-color: #7f7f7f\">:</span><a href=\"file:///Users/manonkempermann/safe-llm-finetune/venv/lib/python3.13/site-packages/inspect_ai/scorer/_metric.py#180\" target=\"_blank\"><span style=\"color: #7f7f7f; text-decoration-color: #7f7f7f\">180</span></a>\n",
       "</pre>\n"
      ],
      "text/plain": [
       "\u001b[2;36m                   \u001b[0m\u001b[2;36m \u001b[0m\u001b[33mWARNING \u001b[0m Unable to convert value to float: y                                     \u001b]8;id=34562;file:///Users/manonkempermann/safe-llm-finetune/venv/lib/python3.13/site-packages/inspect_ai/scorer/_metric.py\u001b\\\u001b[2m_metric.py\u001b[0m\u001b]8;;\u001b\\\u001b[2m:\u001b[0m\u001b]8;id=177588;file:///Users/manonkempermann/safe-llm-finetune/venv/lib/python3.13/site-packages/inspect_ai/scorer/_metric.py#180\u001b\\\u001b[2m180\u001b[0m\u001b]8;;\u001b\\\n"
      ]
     },
     "metadata": {},
     "output_type": "display_data"
    },
    {
     "data": {
      "text/html": [
       "<pre style=\"white-space:pre;overflow-x:auto;line-height:normal;font-family:Menlo,'DejaVu Sans Mono',consolas,'Courier New',monospace\"><span style=\"color: #7fbfbf; text-decoration-color: #7fbfbf\">                    </span><span style=\"color: #808000; text-decoration-color: #808000\">WARNING </span> Unable to convert value to float: y                                     <a href=\"file:///Users/manonkempermann/safe-llm-finetune/venv/lib/python3.13/site-packages/inspect_ai/scorer/_metric.py\" target=\"_blank\"><span style=\"color: #7f7f7f; text-decoration-color: #7f7f7f\">_metric.py</span></a><span style=\"color: #7f7f7f; text-decoration-color: #7f7f7f\">:</span><a href=\"file:///Users/manonkempermann/safe-llm-finetune/venv/lib/python3.13/site-packages/inspect_ai/scorer/_metric.py#180\" target=\"_blank\"><span style=\"color: #7f7f7f; text-decoration-color: #7f7f7f\">180</span></a>\n",
       "</pre>\n"
      ],
      "text/plain": [
       "\u001b[2;36m                   \u001b[0m\u001b[2;36m \u001b[0m\u001b[33mWARNING \u001b[0m Unable to convert value to float: y                                     \u001b]8;id=143143;file:///Users/manonkempermann/safe-llm-finetune/venv/lib/python3.13/site-packages/inspect_ai/scorer/_metric.py\u001b\\\u001b[2m_metric.py\u001b[0m\u001b]8;;\u001b\\\u001b[2m:\u001b[0m\u001b]8;id=10339;file:///Users/manonkempermann/safe-llm-finetune/venv/lib/python3.13/site-packages/inspect_ai/scorer/_metric.py#180\u001b\\\u001b[2m180\u001b[0m\u001b]8;;\u001b\\\n"
      ]
     },
     "metadata": {},
     "output_type": "display_data"
    },
    {
     "data": {
      "text/html": [
       "<pre style=\"white-space:pre;overflow-x:auto;line-height:normal;font-family:Menlo,'DejaVu Sans Mono',consolas,'Courier New',monospace\"><span style=\"color: #7fbfbf; text-decoration-color: #7fbfbf\">                    </span><span style=\"color: #808000; text-decoration-color: #808000\">WARNING </span> Unable to convert value to float: y                                     <a href=\"file:///Users/manonkempermann/safe-llm-finetune/venv/lib/python3.13/site-packages/inspect_ai/scorer/_metric.py\" target=\"_blank\"><span style=\"color: #7f7f7f; text-decoration-color: #7f7f7f\">_metric.py</span></a><span style=\"color: #7f7f7f; text-decoration-color: #7f7f7f\">:</span><a href=\"file:///Users/manonkempermann/safe-llm-finetune/venv/lib/python3.13/site-packages/inspect_ai/scorer/_metric.py#180\" target=\"_blank\"><span style=\"color: #7f7f7f; text-decoration-color: #7f7f7f\">180</span></a>\n",
       "</pre>\n"
      ],
      "text/plain": [
       "\u001b[2;36m                   \u001b[0m\u001b[2;36m \u001b[0m\u001b[33mWARNING \u001b[0m Unable to convert value to float: y                                     \u001b]8;id=97535;file:///Users/manonkempermann/safe-llm-finetune/venv/lib/python3.13/site-packages/inspect_ai/scorer/_metric.py\u001b\\\u001b[2m_metric.py\u001b[0m\u001b]8;;\u001b\\\u001b[2m:\u001b[0m\u001b]8;id=434247;file:///Users/manonkempermann/safe-llm-finetune/venv/lib/python3.13/site-packages/inspect_ai/scorer/_metric.py#180\u001b\\\u001b[2m180\u001b[0m\u001b]8;;\u001b\\\n"
      ]
     },
     "metadata": {},
     "output_type": "display_data"
    },
    {
     "data": {
      "text/html": [
       "<pre style=\"white-space:pre;overflow-x:auto;line-height:normal;font-family:Menlo,'DejaVu Sans Mono',consolas,'Courier New',monospace\"><span style=\"color: #7fbfbf; text-decoration-color: #7fbfbf\">                    </span><span style=\"color: #808000; text-decoration-color: #808000\">WARNING </span> Unable to convert value to float: y                                     <a href=\"file:///Users/manonkempermann/safe-llm-finetune/venv/lib/python3.13/site-packages/inspect_ai/scorer/_metric.py\" target=\"_blank\"><span style=\"color: #7f7f7f; text-decoration-color: #7f7f7f\">_metric.py</span></a><span style=\"color: #7f7f7f; text-decoration-color: #7f7f7f\">:</span><a href=\"file:///Users/manonkempermann/safe-llm-finetune/venv/lib/python3.13/site-packages/inspect_ai/scorer/_metric.py#180\" target=\"_blank\"><span style=\"color: #7f7f7f; text-decoration-color: #7f7f7f\">180</span></a>\n",
       "</pre>\n"
      ],
      "text/plain": [
       "\u001b[2;36m                   \u001b[0m\u001b[2;36m \u001b[0m\u001b[33mWARNING \u001b[0m Unable to convert value to float: y                                     \u001b]8;id=86688;file:///Users/manonkempermann/safe-llm-finetune/venv/lib/python3.13/site-packages/inspect_ai/scorer/_metric.py\u001b\\\u001b[2m_metric.py\u001b[0m\u001b]8;;\u001b\\\u001b[2m:\u001b[0m\u001b]8;id=182046;file:///Users/manonkempermann/safe-llm-finetune/venv/lib/python3.13/site-packages/inspect_ai/scorer/_metric.py#180\u001b\\\u001b[2m180\u001b[0m\u001b]8;;\u001b\\\n"
      ]
     },
     "metadata": {},
     "output_type": "display_data"
    },
    {
     "data": {
      "text/html": [
       "<pre style=\"white-space:pre;overflow-x:auto;line-height:normal;font-family:Menlo,'DejaVu Sans Mono',consolas,'Courier New',monospace\"><span style=\"color: #7fbfbf; text-decoration-color: #7fbfbf\">                    </span><span style=\"color: #808000; text-decoration-color: #808000\">WARNING </span> Unable to convert value to float: y                                     <a href=\"file:///Users/manonkempermann/safe-llm-finetune/venv/lib/python3.13/site-packages/inspect_ai/scorer/_metric.py\" target=\"_blank\"><span style=\"color: #7f7f7f; text-decoration-color: #7f7f7f\">_metric.py</span></a><span style=\"color: #7f7f7f; text-decoration-color: #7f7f7f\">:</span><a href=\"file:///Users/manonkempermann/safe-llm-finetune/venv/lib/python3.13/site-packages/inspect_ai/scorer/_metric.py#180\" target=\"_blank\"><span style=\"color: #7f7f7f; text-decoration-color: #7f7f7f\">180</span></a>\n",
       "</pre>\n"
      ],
      "text/plain": [
       "\u001b[2;36m                   \u001b[0m\u001b[2;36m \u001b[0m\u001b[33mWARNING \u001b[0m Unable to convert value to float: y                                     \u001b]8;id=294168;file:///Users/manonkempermann/safe-llm-finetune/venv/lib/python3.13/site-packages/inspect_ai/scorer/_metric.py\u001b\\\u001b[2m_metric.py\u001b[0m\u001b]8;;\u001b\\\u001b[2m:\u001b[0m\u001b]8;id=109003;file:///Users/manonkempermann/safe-llm-finetune/venv/lib/python3.13/site-packages/inspect_ai/scorer/_metric.py#180\u001b\\\u001b[2m180\u001b[0m\u001b]8;;\u001b\\\n"
      ]
     },
     "metadata": {},
     "output_type": "display_data"
    },
    {
     "data": {
      "text/html": [
       "<pre style=\"white-space:pre;overflow-x:auto;line-height:normal;font-family:Menlo,'DejaVu Sans Mono',consolas,'Courier New',monospace\"></pre>\n"
      ],
      "text/plain": []
     },
     "metadata": {},
     "output_type": "display_data"
    }
   ],
   "source": [
    "multi.runEval()"
   ]
  }
 ],
 "metadata": {
  "kernelspec": {
   "display_name": "venv",
   "language": "python",
   "name": "python3"
  },
  "language_info": {
   "codemirror_mode": {
    "name": "ipython",
    "version": 3
   },
   "file_extension": ".py",
   "mimetype": "text/x-python",
   "name": "python",
   "nbconvert_exporter": "python",
   "pygments_lexer": "ipython3",
   "version": "3.13.1"
  }
 },
 "nbformat": 4,
 "nbformat_minor": 5
}
